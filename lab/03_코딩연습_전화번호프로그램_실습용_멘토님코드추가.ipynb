{
 "cells": [
  {
   "cell_type": "markdown",
   "metadata": {},
   "source": [
    "# 전화번호 프로그램 만들기\n",
    "\n",
    "* 홍길동 010-123-4567\n",
    "* 기능1 : 연락처 추가\n",
    "* 기능2 : 연락처 전체 보기\n",
    "* 기능3 : 검색, 이름을 입력받아서 전화번호 조회\n",
    "* 기능4 : 수정, 이름을 입력받아서 전화번호 입력수정\n",
    "* 기능5 : 삭제, 이름 입력받아서 삭제\n",
    "* 기능6 : 프로그램 종료"
   ]
  },
  {
   "cell_type": "code",
   "execution_count": 1,
   "metadata": {
    "ExecuteTime": {
     "end_time": "2023-12-01T14:03:54.006524Z",
     "start_time": "2023-12-01T14:03:54.000808Z"
    }
   },
   "outputs": [],
   "source": [
    "prompt = '''\n",
    "1. 연락처 추가\n",
    "2. 연락처 전체 보기\n",
    "3. 검색, 이름을 입력받아서 전화번호 조회\n",
    "4. 수정, 이름을 입력받아서 전화번호 입력수정\n",
    "5. 삭제, 이름 입력받아서 삭제\n",
    "6. 프로그램 종료\n",
    "\n",
    "Enter number'''"
   ]
  },
  {
   "cell_type": "code",
   "execution_count": 2,
   "metadata": {
    "ExecuteTime": {
     "end_time": "2023-12-01T14:03:59.069970Z",
     "start_time": "2023-12-01T14:03:56.841281Z"
    }
   },
   "outputs": [
    {
     "name": "stdout",
     "output_type": "stream",
     "text": [
      "\n",
      "1. 연락처 추가\n",
      "2. 연락처 전체 보기\n",
      "3. 검색, 이름을 입력받아서 전화번호 조회\n",
      "4. 수정, 이름을 입력받아서 전화번호 입력수정\n",
      "5. 삭제, 이름 입력받아서 삭제\n",
      "6. 프로그램 종료\n",
      "\n",
      "Enter number\n",
      "6\n",
      "프로그램을 종료\n"
     ]
    }
   ],
   "source": [
    "dic_tel = {}\n",
    "num = 0\n",
    "while num != 6:\n",
    "    print(prompt)\n",
    "    try:\n",
    "        num = int(input())\n",
    "        if num == 1:\n",
    "            a, b = input(\"전화번호를 입력하세요\").split()\n",
    "            dic_tel.setdefault(a, b)\n",
    "        elif num == 2:\n",
    "            print(dic_tel)\n",
    "        elif num == 3:\n",
    "            print(dic_tel.get(input(), '없는 전화번호입니다'))\n",
    "        elif num == 4:\n",
    "            a, b = input(\"전화번호를 입력하세요\").split()\n",
    "            dic_tel[a] = b\n",
    "        elif num == 5:\n",
    "            a = input(\"이름을 입력하세요\")         \n",
    "            if a in dic_tel:\n",
    "                del dic_tel[a]\n",
    "            else:\n",
    "                print(\"삭제할 전화번호가 없습니다\")\n",
    "        else:\n",
    "            print(\"프로그램을 종료\")\n",
    "    except:\n",
    "        print(\"잘못된 입력입니다\")       \n",
    "        "
   ]
  },
  {
   "cell_type": "markdown",
   "metadata": {},
   "source": [
    "# 멘토님 코드"
   ]
  },
  {
   "cell_type": "code",
   "execution_count": null,
   "metadata": {},
   "outputs": [],
   "source": [
    "while True:\n",
    "    help = '''기능1 : 연락처 추가\n",
    "기능2 : 연락처 전체 보기\n",
    "기능3 : 검색, 이름을 입력받아서 전화번호 조회\n",
    "기능4 : 수정, 이름을 입력받아서 전화번호 입력수정\n",
    "기능5 : 삭제, 이름 입력받아서 삭제\n",
    "기능6 : 프로그램 종료'''\n",
    "    print(help)\n",
    "    Tel_exe = int(input('기능선택'))\n",
    "    if Tel_exe == 1:\n",
    "        print('추가할 이름을 입력하세요')\n",
    "        add_name = input('추가할 이름')\n",
    "        print('추가할 전화번호를 입력하세요')\n",
    "        add_Tel = input('추가할 전화번호')\n",
    "        Tels[add_name] = add_Tel\n",
    "    elif Tel_exe == 2:\n",
    "        print(Tels)\n",
    "    elif Tel_exe == 3:\n",
    "        print('검색할 이름을 입력하세요')\n",
    "        while True:\n",
    "            search_name = input('이름')\n",
    "            if search_name in Tels.keys():\n",
    "                print(f'{search_name}님의 전화번호:{Tels[search_name]}')\n",
    "                break\n",
    "            else:\n",
    "                print('존재하지 않는 이름입니다')\n",
    "    elif Tel_exe == 4:\n",
    "        print('수정할 이름을 입력하세요')\n",
    "        while True:\n",
    "            search_name = input('수정하고싶은 이름')\n",
    "            if search_name in Tels.keys():\n",
    "                print(f'{search_name}을 어떻게 수정할까요?')\n",
    "                break\n",
    "            else:\n",
    "                print('존재하지 않는 이름입니다')\n",
    "        update_name = str(input('새로운 이름'))\n",
    "        Tels[update_name] = Tels[search_name]\n",
    "        del Tels[search_name]\n",
    "        print(f'{search_name}이 {update_name}으로 변경되었습니다')\n",
    "    elif Tel_exe == 5:\n",
    "        print('삭제할 이름을 입력하세요')\n",
    "        search_name = input('삭제하고싶은 이름')\n",
    "        while True:\n",
    "            if search_name in Tels.keys():\n",
    "                del Tels[search_name]\n",
    "                print(f'{search_name}이 삭제되었습니다')\n",
    "                break\n",
    "            else:\n",
    "                print('존재하지 않는 이름입니다')\n",
    "    elif Tel_exe == 6:\n",
    "        print('작업을 종료합니다')\n",
    "        break\n",
    "    else:\n",
    "        print('1부터 6까지의 숫자를 입력해주세요')"
   ]
  }
 ],
 "metadata": {
  "kernelspec": {
   "display_name": "Python 3 (ipykernel)",
   "language": "python",
   "name": "python3"
  },
  "language_info": {
   "codemirror_mode": {
    "name": "ipython",
    "version": 3
   },
   "file_extension": ".py",
   "mimetype": "text/x-python",
   "name": "python",
   "nbconvert_exporter": "python",
   "pygments_lexer": "ipython3",
   "version": "3.11.5"
  },
  "toc": {
   "base_numbering": 1,
   "nav_menu": {},
   "number_sections": true,
   "sideBar": true,
   "skip_h1_title": false,
   "title_cell": "Table of Contents",
   "title_sidebar": "Contents",
   "toc_cell": false,
   "toc_position": {},
   "toc_section_display": true,
   "toc_window_display": false
  },
  "varInspector": {
   "cols": {
    "lenName": 16,
    "lenType": 16,
    "lenVar": 40
   },
   "kernels_config": {
    "python": {
     "delete_cmd_postfix": "",
     "delete_cmd_prefix": "del ",
     "library": "var_list.py",
     "varRefreshCmd": "print(var_dic_list())"
    },
    "r": {
     "delete_cmd_postfix": ") ",
     "delete_cmd_prefix": "rm(",
     "library": "var_list.r",
     "varRefreshCmd": "cat(var_dic_list()) "
    }
   },
   "types_to_exclude": [
    "module",
    "function",
    "builtin_function_or_method",
    "instance",
    "_Feature"
   ],
   "window_display": false
  }
 },
 "nbformat": 4,
 "nbformat_minor": 2
}
