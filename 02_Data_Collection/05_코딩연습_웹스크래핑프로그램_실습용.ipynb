{
 "cells": [
  {
   "cell_type": "markdown",
   "id": "f8511f1b",
   "metadata": {},
   "source": [
    "# 웹 스크래핑 프로그램 만들어보자\n",
    "1. 예제 페이지에서 여행기사를 추출한다.   \n",
    "https://korean.visitkorea.or.kr/search/search_list.do?keyword=%EC%9D%B8%EC%B2%9C\n",
    "2. 검색어와 스크래핑 건수를 입력받는다.\n",
    "3. 페이지별로 여행기사 정보를 수집한다."
   ]
  },
  {
   "cell_type": "code",
   "execution_count": 1,
   "id": "0af0582e",
   "metadata": {},
   "outputs": [],
   "source": [
    "from selenium import webdriver\n",
    "from selenium.webdriver.common.by import By\n",
    "from selenium.webdriver.chrome.options import Options\n",
    "import time\n",
    "\n",
    "options = Options()\n",
    "# options.add_argument(\"--start-maximized\")\n",
    "# options.add_argument(\"--headless=new\") \n",
    "options.add_experimental_option(\"detach\", True) #특정함수안에서  드라이버 생성시 함수종료될 때 브라우저 같이 종료되는 문제 대응"
   ]
  },
  {
   "cell_type": "markdown",
   "id": "540f2a24-5cd5-4f50-81bd-a64b0b683cc7",
   "metadata": {},
   "source": [
    "1. 여행기사 추출"
   ]
  },
  {
   "cell_type": "code",
   "execution_count": 2,
   "id": "8750dbe6-4a1a-48fb-a789-f7d264590c40",
   "metadata": {},
   "outputs": [],
   "source": [
    "# 여행기사 이동\n",
    "url = 'https://korean.visitkorea.or.kr/search/search_list.do?keyword=%EC%9D%B8%EC%B2%9C'\n",
    "driver = webdriver.Chrome(options=options)\n",
    "driver.get(url)\n",
    "time.sleep(3)\n",
    "\n",
    "driver.maximize_window()\n",
    "\n",
    "xpath = '/html/body/div[3]/div/div[1]/div[1]/div/ul/li[3]/a'\n",
    "driver.find_element(By.XPATH, xpath).click()\n",
    "#driver.find_element(By.CSS_SELECTOR, '#s_attraction > .more_view > a').click()"
   ]
  },
  {
   "cell_type": "markdown",
   "id": "e2235592-5e22-4807-ab4f-0f002c6b578f",
   "metadata": {},
   "source": [
    "2. 검색어, 스크래핑 건수 입력"
   ]
  },
  {
   "cell_type": "code",
   "execution_count": 6,
   "id": "dbe83273-0fb8-4e7c-b2d6-7abcd74cac3e",
   "metadata": {},
   "outputs": [
    {
     "name": "stdin",
     "output_type": "stream",
     "text": [
      "검색어를 입력하세요. 아이\n",
      "크롤링 할 건수는 몇건입니까?:  40\n"
     ]
    }
   ],
   "source": [
    "#2 검색어, 스크래핑 건수 입력\n",
    "search = input('검색어를 입력하세요.')\n",
    "cnt = int(input('크롤링 할 건수는 몇건입니까?: '))\n",
    "import math\n",
    "page_cnt = math.ceil(cnt / 10) # 크롤링 할 전체 페이지 수 (올림)"
   ]
  },
  {
   "cell_type": "code",
   "execution_count": 7,
   "id": "c8f01591-b4df-4b15-ba77-d62289b5243f",
   "metadata": {},
   "outputs": [],
   "source": [
    "# 결과창\n",
    "URL = url+'+'+search\n",
    "\n",
    "driver = webdriver.Chrome(options=options)\n",
    "driver.get(URL)\n",
    "time.sleep(3)\n",
    "\n",
    "# 여행기사창 이동\n",
    "driver.maximize_window()\n",
    "\n",
    "xpath = '/html/body/div[3]/div/div[1]/div[1]/div/ul/li[3]/a'\n",
    "driver.find_element(By.XPATH, xpath).click()\n",
    "time.sleep(3)"
   ]
  },
  {
   "cell_type": "markdown",
   "id": "c57e8dd4-9195-49f6-b555-0dd75c77fede",
   "metadata": {},
   "source": [
    "3. 페이지별 제목 출력"
   ]
  },
  {
   "cell_type": "code",
   "execution_count": 8,
   "id": "d9b2693c-56fb-4fa8-97c0-4bd4afaebe3b",
   "metadata": {},
   "outputs": [
    {
     "name": "stdout",
     "output_type": "stream",
     "text": [
      "========= 1 페이지 작업 =========\n",
      "1 서울 근교 여행, 아이와 나들이 떠나는 인천 여행 코스\n",
      "2 인천 여행, 아이들과 다녀오기 좋은 당일치기 코스\n",
      "3 신나게 놀고 즐기는 과학놀이터, 인천어린이과학관\n",
      "4 낭만과 그리움을 찾아서, 인천 경인아라뱃길 정서진 드라이브\n",
      "5 동화 속으로 떠나는 환상 여행, 인천 송월동\n",
      "6 나무와 함께, 색다른 9월 여행, 인천대공원 목재문화체험장 목연리\n",
      "7 어서 오시겨~ 강화! (*'어서 오세요'의 강화 사투리)\n",
      "8 어서 와, 인천국제공항 제2여객터미널(T2)은 처음이지?\n",
      "9 강화도 여행, 당일치기로 가기 좋은 봄 드라이브 코스\n",
      "10 인천어린이과학관 & 인천어린이박물관\n",
      "========= 2 페이지 작업 =========\n",
      "11 백화점 부럽지 않은 시장 나들이, 인천 구월동 모래내시장\n",
      "12 인천 근현대사 중심지, 시민의 공간이 되다! 인천시민애집\n",
      "13 담백한 화덕만두와 달콤한 공갈빵으로 행복한 여행\n",
      "14 노을이 아름다운 포구, 인천 북성포구\n",
      "15 옛 감성 물씬, 인천 구도심(동인천) 테마여행\n",
      "16 우리 아이와 봄나들이 갈 시간⏰\n",
      "서울 근교 여행지 4\n",
      "17 하늘 위 풍경 맛집 전국 대관람차 명소 8\n",
      "18 짜장면이 태어난 차이나타운의 먹자골목, 인천 북성동원조자장면거리와 짜장면박물관\n",
      "19 일몰이 아름다운 계절에는 인천 석모도에 간다\n",
      "20 해수 공원에서 만끽하는 도심 바캉스, 송도국제도시\n",
      "========= 3 페이지 작업 =========\n",
      "21 인천국립생물자원관을 찾아서 (2)\n",
      "22 서울 근교 여행, 꽃내음 만끽하는 봄꽃 여행지 4\n",
      "23 [강화] 주말엔 강화도! 놀고, 먹고, 쉬는 여행\n",
      "24 당신만을 위한 프리미엄 요트 니드라, 현대요트 인천\n",
      "25 바다와 숲이 함께 하는 섬 속의 섬 - 인천 석모도수목원\n",
      "26 예술 향기 가득한 인천 신시모도\n",
      "27 '소금꽃 피는 계절'엔, 시흥 & 인천 남동구\n",
      "28 [인천 당일치기 여행]\n",
      "부지런히 먹으러 가는 인천 개항장거리 먹투어\n",
      "29 보는 재미, 먹는 즐거움 인천 명소에서 만나는 명물 빵\n",
      "30 [인천] 전통과 편리함을 동시에, 호텔 월미여관\n",
      "========= 4 페이지 작업 =========\n",
      "31 [인천] 백범 김구 선생의 흔적이 남아 있는 가족 힐링 한옥스테이, 남문한옥 대명헌\n",
      "32 인천 여행, 당일치기 해안 트레킹 코스 추천\n",
      "33 차를 타고 떠나는 매력적인 섬 여행, 인천 영흥도\n",
      "34 놀거리도 풍년이오! 추석 황금연휴를 위한 여행지 추천\n",
      "35 인천 강화도령 화문석 체험장 [2020 산업관광 13선]\n",
      "36 자유공원ㆍ월미공원 - 문화와 역사, 자연이 숨쉬는 곳\n",
      "37 27년을 지켜온 추억의 맛, 인천 신포닭강정\n",
      "38 가을 감성파 '취향 저격' 산책 코스, 이천 사기막골 도예촌\n",
      "39 붉은 노을과 함께하는 해변 캠핑, 인천 왕산해수욕장\n",
      "40 아시아경기대회 현장에서 선사 유적까지, 인천 서구를 탐하다\n",
      "========= 작업 완료 =========\n"
     ]
    }
   ],
   "source": [
    "tit_xpath = '//*[@id=\"search_result\"]/ul/li[*]/div[1]/div[1]/a'\n",
    "no = 0\n",
    "\n",
    "for x in range(1, page_cnt+1):\n",
    "    print(f'========= {x} 페이지 작업 =========')\n",
    "    mylist = driver.find_elements(By.XPATH, tit_xpath)\n",
    "    \n",
    "    for item in mylist:\n",
    "        no += 1\n",
    "        if no > cnt:\n",
    "            break\n",
    "        print(no, item.text)\n",
    "    \n",
    "    if no <= cnt:\n",
    "        a = f'/html/body/div[3]/div/div[1]/div[15]/a[{x+1}]'\n",
    "        driver.find_element(By.XPATH, a).click()\n",
    "        time.sleep(2)\n",
    "\n",
    "print('========= 작업 완료 =========')\n",
    "driver.close()"
   ]
  }
 ],
 "metadata": {
  "kernelspec": {
   "display_name": "Python 3 (ipykernel)",
   "language": "python",
   "name": "python3"
  },
  "language_info": {
   "codemirror_mode": {
    "name": "ipython",
    "version": 3
   },
   "file_extension": ".py",
   "mimetype": "text/x-python",
   "name": "python",
   "nbconvert_exporter": "python",
   "pygments_lexer": "ipython3",
   "version": "3.11.5"
  },
  "toc": {
   "base_numbering": 1,
   "nav_menu": {},
   "number_sections": true,
   "sideBar": true,
   "skip_h1_title": false,
   "title_cell": "Table of Contents",
   "title_sidebar": "Contents",
   "toc_cell": false,
   "toc_position": {
    "height": "calc(100% - 180px)",
    "left": "10px",
    "top": "150px",
    "width": "384px"
   },
   "toc_section_display": true,
   "toc_window_display": false
  },
  "varInspector": {
   "cols": {
    "lenName": 16,
    "lenType": 16,
    "lenVar": 40
   },
   "kernels_config": {
    "python": {
     "delete_cmd_postfix": "",
     "delete_cmd_prefix": "del ",
     "library": "var_list.py",
     "varRefreshCmd": "print(var_dic_list())"
    },
    "r": {
     "delete_cmd_postfix": ") ",
     "delete_cmd_prefix": "rm(",
     "library": "var_list.r",
     "varRefreshCmd": "cat(var_dic_list()) "
    }
   },
   "position": {
    "height": "144.844px",
    "left": "588px",
    "right": "20px",
    "top": "120px",
    "width": "350px"
   },
   "types_to_exclude": [
    "module",
    "function",
    "builtin_function_or_method",
    "instance",
    "_Feature"
   ],
   "window_display": false
  }
 },
 "nbformat": 4,
 "nbformat_minor": 5
}
