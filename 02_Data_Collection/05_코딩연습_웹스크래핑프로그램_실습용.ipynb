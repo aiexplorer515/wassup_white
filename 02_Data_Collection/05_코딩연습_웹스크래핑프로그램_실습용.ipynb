{
 "cells": [
  {
   "cell_type": "markdown",
   "id": "f8511f1b",
   "metadata": {},
   "source": [
    "# 웹 스크래핑 프로그램 만들어보자\n",
    "1. 예제 페이지에서 여행기사를 추출한다.   \n",
    "https://korean.visitkorea.or.kr/search/search_list.do?keyword=%EC%9D%B8%EC%B2%9C\n",
    "2. 검색어와 스크래핑 건수를 입력받는다.\n",
    "3. 페이지별로 여행기사 정보를 수집한다."
   ]
  },
  {
   "cell_type": "code",
   "execution_count": 72,
   "id": "0af0582e",
   "metadata": {},
   "outputs": [],
   "source": [
    "from selenium import webdriver\n",
    "from selenium.webdriver.common.by import By\n",
    "from selenium.webdriver.chrome.options import Options\n",
    "import time\n",
    "\n",
    "options = Options()\n",
    "# options.add_argument(\"--start-maximized\")\n",
    "# options.add_argument(\"--headless=new\") \n",
    "options.add_experimental_option(\"detach\", True) #특정함수안에서  드라이버 생성시 함수종료될 때 브라우저 같이 종료되는 문제 대응"
   ]
  },
  {
   "cell_type": "markdown",
   "id": "540f2a24-5cd5-4f50-81bd-a64b0b683cc7",
   "metadata": {},
   "source": [
    "1. 여행기사 추출"
   ]
  },
  {
   "cell_type": "code",
   "execution_count": 73,
   "id": "8750dbe6-4a1a-48fb-a789-f7d264590c40",
   "metadata": {},
   "outputs": [],
   "source": [
    "# 여행기사 이동\n",
    "url = 'https://korean.visitkorea.or.kr/search/search_list.do?keyword=%EC%9D%B8%EC%B2%9C'\n",
    "driver = webdriver.Chrome(options=options)\n",
    "driver.get(url)\n",
    "time.sleep(3)\n",
    "\n",
    "driver.maximize_window()\n",
    "\n",
    "xpath = '/html/body/div[3]/div/div[1]/div[1]/div/ul/li[3]/a'\n",
    "driver.find_element(By.XPATH, xpath).click()\n",
    "#driver.find_element(By.CSS_SELECTOR, '#s_attraction > .more_view > a').click()"
   ]
  },
  {
   "cell_type": "markdown",
   "id": "e2235592-5e22-4807-ab4f-0f002c6b578f",
   "metadata": {},
   "source": [
    "2. 검색어, 스크래핑 건수 입력"
   ]
  },
  {
   "cell_type": "code",
   "execution_count": 79,
   "id": "dbe83273-0fb8-4e7c-b2d6-7abcd74cac3e",
   "metadata": {},
   "outputs": [
    {
     "name": "stdin",
     "output_type": "stream",
     "text": [
      "검색어를 입력하세요. 서울\n",
      "크롤링 할 건수는 몇건입니까?:  25\n"
     ]
    }
   ],
   "source": [
    "#2 검색어, 스크래핑 건수 입력\n",
    "search = input('검색어를 입력하세요.')\n",
    "cnt = int(input('크롤링 할 건수는 몇건입니까?: '))\n",
    "import math\n",
    "page_cnt = math.ceil(cnt / 10) # 크롤링 할 전체 페이지 수 (올림)"
   ]
  },
  {
   "cell_type": "code",
   "execution_count": 80,
   "id": "c8f01591-b4df-4b15-ba77-d62289b5243f",
   "metadata": {},
   "outputs": [],
   "source": [
    "# 결과창\n",
    "URL = url+'+'+search\n",
    "\n",
    "driver = webdriver.Chrome(options=options)\n",
    "driver.get(URL)\n",
    "time.sleep(3)\n",
    "\n",
    "# 여행기사창 이동\n",
    "driver.maximize_window()\n",
    "\n",
    "xpath = '/html/body/div[3]/div/div[1]/div[1]/div/ul/li[3]/a'\n",
    "driver.find_element(By.XPATH, xpath).click()"
   ]
  },
  {
   "cell_type": "markdown",
   "id": "c57e8dd4-9195-49f6-b555-0dd75c77fede",
   "metadata": {},
   "source": [
    "3. 페이지별 제목 출력"
   ]
  },
  {
   "cell_type": "code",
   "execution_count": 82,
   "id": "d9b2693c-56fb-4fa8-97c0-4bd4afaebe3b",
   "metadata": {},
   "outputs": [
    {
     "name": "stdout",
     "output_type": "stream",
     "text": [
      "========= 1 페이지 작업 =========\n",
      "1 서울 근교 여행, 아이와 나들이 떠나는 인천 여행 코스\n",
      "2 인천 여행, 선선한 저녁에 즐기는 인천 야경 명소 4\n",
      "3 인천 근현대사 중심지, 시민의 공간이 되다! 인천시민애집\n",
      "4 공항철도 타고 한나절 섬 여행, 인천 무의도와 장봉도\n",
      "5 짜장면이 태어난 차이나타운의 먹자골목, 인천 북성동원조자장면거리와 짜장면박물관\n",
      "6 추억과 문화가 담긴 따뜻한 골목, 1호선 인천역과 개항장 문화지구\n",
      "7 오랜 친구와 함께 추억 소환!\n",
      "8 낭만과 그리움을 찾아서, 인천 경인아라뱃길 정서진 드라이브\n",
      "9 상상 이상의 스파, 인천 파라다이스시티 씨메르\n",
      "10 신나게 놀고 즐기는 과학놀이터, 인천어린이과학관\n",
      "========= 2 페이지 작업 =========\n",
      "11 일몰이 아름다운 계절에는 인천 석모도에 간다\n",
      "12 예술 향기 가득한 인천 신시모도\n",
      "13 '소금꽃 피는 계절'엔, 시흥 & 인천 남동구\n",
      "14 우리나라 최초의 등대, 인천 팔미도등대\n",
      "15 개항장 인천의 랜드마크, 대불호텔의 화려한 변신\n",
      "16 커피향 가득한 근대의 공간 속으로, 인천과 대구의 앤티크 카페\n",
      "17 동화 속으로 떠나는 환상 여행, 인천 송월동\n",
      "18 [여행 카드] 오늘 호텔 먹캉스 콜? 별실에서 오붓하게 즐기는 호텔표 이색보양식\n",
      "19 27년을 지켜온 추억의 맛, 인천 신포닭강정\n",
      "20 나무와 함께, 색다른 9월 여행, 인천대공원 목재문화체험장 목연리\n",
      "========= 3 페이지 작업 =========\n",
      "21 완벽 '걷기' 가이드, 도심 속 걷기 좋은 길 추천 (feat. 식도락 여행)\n",
      "22 2023 축제 찾아 K-여행페스타!\n",
      "23 해남 땅끝에서 인천 정서진까지, 서해안 일몰 명소 추천\n",
      "24 낯익은 길목에 담긴 근대사의 함성과 눈물, 서울 도심 투어\n",
      "25 자유공원ㆍ월미공원 - 문화와 역사, 자연이 숨쉬는 곳\n",
      "========= 작업 완료 =========\n"
     ]
    }
   ],
   "source": [
    "tit_xpath = '//*[@id=\"search_result\"]/ul/li[*]/div[1]/div[1]/a'\n",
    "no = 0\n",
    "\n",
    "for x in range(1, page_cnt+1):\n",
    "    print(f'========= {x} 페이지 작업 =========')\n",
    "    mylist = driver.find_elements(By.XPATH, tit_xpath)\n",
    "    \n",
    "    for item in mylist:\n",
    "        no += 1\n",
    "        if no > cnt:\n",
    "            break\n",
    "        print(no, item.text)\n",
    "    \n",
    "    if no <= cnt:\n",
    "        a = f'/html/body/div[3]/div/div[1]/div[15]/a[{x+1}]'\n",
    "        driver.find_element(By.XPATH, a).click()\n",
    "        time.sleep(2)\n",
    "\n",
    "print('========= 작업 완료 =========')\n",
    "driver.close()"
   ]
  }
 ],
 "metadata": {
  "kernelspec": {
   "display_name": "Python 3 (ipykernel)",
   "language": "python",
   "name": "python3"
  },
  "language_info": {
   "codemirror_mode": {
    "name": "ipython",
    "version": 3
   },
   "file_extension": ".py",
   "mimetype": "text/x-python",
   "name": "python",
   "nbconvert_exporter": "python",
   "pygments_lexer": "ipython3",
   "version": "3.11.5"
  },
  "toc": {
   "base_numbering": 1,
   "nav_menu": {},
   "number_sections": true,
   "sideBar": true,
   "skip_h1_title": false,
   "title_cell": "Table of Contents",
   "title_sidebar": "Contents",
   "toc_cell": false,
   "toc_position": {
    "height": "calc(100% - 180px)",
    "left": "10px",
    "top": "150px",
    "width": "384px"
   },
   "toc_section_display": true,
   "toc_window_display": false
  },
  "varInspector": {
   "cols": {
    "lenName": 16,
    "lenType": 16,
    "lenVar": 40
   },
   "kernels_config": {
    "python": {
     "delete_cmd_postfix": "",
     "delete_cmd_prefix": "del ",
     "library": "var_list.py",
     "varRefreshCmd": "print(var_dic_list())"
    },
    "r": {
     "delete_cmd_postfix": ") ",
     "delete_cmd_prefix": "rm(",
     "library": "var_list.r",
     "varRefreshCmd": "cat(var_dic_list()) "
    }
   },
   "position": {
    "height": "144.844px",
    "left": "588px",
    "right": "20px",
    "top": "120px",
    "width": "350px"
   },
   "types_to_exclude": [
    "module",
    "function",
    "builtin_function_or_method",
    "instance",
    "_Feature"
   ],
   "window_display": false
  }
 },
 "nbformat": 4,
 "nbformat_minor": 5
}
