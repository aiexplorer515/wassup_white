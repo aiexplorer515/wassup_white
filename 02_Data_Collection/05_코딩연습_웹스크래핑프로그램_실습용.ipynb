{
 "cells": [
  {
   "cell_type": "markdown",
   "id": "f8511f1b",
   "metadata": {},
   "source": [
    "# 웹 스크래핑 프로그램 만들어보자\n",
    "1. 예제 페이지에서 여행기사를 추출한다.   \n",
    "https://korean.visitkorea.or.kr/search/search_list.do?keyword=%EC%9D%B8%EC%B2%9C\n",
    "2. 검색어와 스크래핑 건수를 입력받는다.\n",
    "3. 페이지별로 여행기사 정보를 수집한다."
   ]
  },
  {
   "cell_type": "code",
   "execution_count": 48,
   "id": "0af0582e",
   "metadata": {},
   "outputs": [],
   "source": [
    "from selenium import webdriver\n",
    "from selenium.webdriver.common.by import By\n",
    "from selenium.webdriver.chrome.options import Options\n",
    "import time\n",
    "\n",
    "options = Options()\n",
    "# options.add_argument(\"--start-maximized\")\n",
    "# options.add_argument(\"--headless=new\") \n",
    "options.add_experimental_option(\"detach\", True) #특정함수안에서  드라이버 생성시 함수종료될 때 브라우저 같이 종료되는 문제 대응"
   ]
  },
  {
   "cell_type": "code",
   "execution_count": 49,
   "id": "8750dbe6-4a1a-48fb-a789-f7d264590c40",
   "metadata": {},
   "outputs": [],
   "source": [
    "# 1\n",
    "url = 'https://korean.visitkorea.or.kr/search/search_list.do?keyword=%EC%9D%B8%EC%B2%9C'\n",
    "driver = webdriver.Chrome(options=options)\n",
    "driver.get(url)\n",
    "time.sleep(3)"
   ]
  },
  {
   "cell_type": "code",
   "execution_count": 50,
   "id": "83fe45d2-e6fc-4bf1-bc29-aaa5202a7fa0",
   "metadata": {},
   "outputs": [],
   "source": [
    "driver.maximize_window()\n",
    "\n",
    "xpath = '/html/body/div[3]/div/div[1]/div[1]/div/ul/li[3]/a'\n",
    "driver.find_element(By.XPATH, xpath).click()\n",
    "#driver.find_element(By.CSS_SELECTOR, '#s_attraction > .more_view > a').click()"
   ]
  },
  {
   "cell_type": "code",
   "execution_count": 59,
   "id": "dbe83273-0fb8-4e7c-b2d6-7abcd74cac3e",
   "metadata": {},
   "outputs": [
    {
     "name": "stdin",
     "output_type": "stream",
     "text": [
      "검색어를 입력하세요. 서울\n",
      "크롤링 할 건수는 몇건입니까?:  20\n"
     ]
    }
   ],
   "source": [
    "#2\n",
    "search = input('검색어를 입력하세요.')\n",
    "cnt = int(input('크롤링 할 건수는 몇건입니까?: '))\n",
    "import math\n",
    "page_cnt = math.ceil(cnt / 10) # 크롤링 할 전체 페이지 수 (올림)"
   ]
  },
  {
   "cell_type": "code",
   "execution_count": 60,
   "id": "c8f01591-b4df-4b15-ba77-d62289b5243f",
   "metadata": {},
   "outputs": [],
   "source": [
    "URL = url+search\n",
    "\n",
    "driver = webdriver.Chrome(options=options)\n",
    "driver.get(URL)\n",
    "time.sleep(3)"
   ]
  },
  {
   "cell_type": "code",
   "execution_count": 61,
   "id": "145700d6-9aa4-44e7-951c-2f1112998b65",
   "metadata": {},
   "outputs": [],
   "source": [
    "driver.maximize_window()\n",
    "\n",
    "xpath = '/html/body/div[3]/div/div[1]/div[1]/div/ul/li[3]/a'\n",
    "driver.find_element(By.XPATH, xpath).click()"
   ]
  },
  {
   "cell_type": "code",
   "execution_count": 62,
   "id": "d9b2693c-56fb-4fa8-97c0-4bd4afaebe3b",
   "metadata": {},
   "outputs": [
    {
     "name": "stdout",
     "output_type": "stream",
     "text": [
      "========= 1 페이지 작업 =========\n",
      "1 서울 근교 여행, 아이와 나들이 떠나는 인천 여행 코스\n",
      "2 자연도 즐기고 역사도 되짚어보고, 서울식물원과 식민지역사박물관\n",
      "3 소확행 찾아 카페행, 야외 정원이 있는 서울 카페 4\n",
      "4 낯익은 길목에 담긴 근대사의 함성과 눈물, 서울 도심 투어\n",
      "5 한가로운 여행, 책과 서울\n",
      "6 다 같이 돌자 서울 한 바퀴~ 405번 버스 여행\n",
      "7 높은 곳에서 보는 높은 가을 하늘♡ 서울 전망대 모음 4\n",
      "8 대중교통으로 만나는 무장애 여행 '서울 600년'\n",
      "9 숲과 강 그리고 야경까지, 서울 도심 속 휴식과 낭만 여행\n",
      "10 할머니와 손주가 함께 떠나는 가을날의 서울\n",
      "========= 2 페이지 작업 =========\n",
      "11 당신을 위로해 줄 한잔, 서울 수제맥줏집\n",
      "12 그리고 그것들은 행복하게 다시 쓰였습니다, 세운상가와 서울새활용플라자\n",
      "13 서울 수제버거 맛집 5선\n",
      "14 한 곳에서 끝내자! 서울 복합문화공간 4\n",
      "15 서울 지하철 타고 도심 속으로 일출 여행 간다\n",
      "16 인생사진 찍기 좋은 서울&경기 가을꽃 컬렉션\n",
      "17 맥주 덕후가 사랑한 서울 수제맥주 브루펍 3\n",
      "18 브라보 마이 잉여 라이프! 집순이도 반할 서울 잉여력 상승 스팟 5\n",
      "19 혼자만의 시간,\n",
      "여유롭게 즐기는 서울의 작은 책방 3\n",
      "20 관광정보 웹툰 「조선손님유람기」\n",
      "28화 서울밤도깨비야시장 편\n",
      "========= 작업 완료 =========\n"
     ]
    }
   ],
   "source": [
    "tit_xpath = '//*[@id=\"search_result\"]/ul/li[*]/div[1]/div[1]/a'\n",
    "no = 0\n",
    "\n",
    "for x in range(1, page_cnt+1):\n",
    "    print(f'========= {x} 페이지 작업 =========')\n",
    "    mylist = driver.find_elements(By.XPATH, tit_xpath)\n",
    "    \n",
    "    for item in mylist:\n",
    "        no += 1\n",
    "        if no > cnt:\n",
    "            break\n",
    "        print(no, item.text)\n",
    "    \n",
    "    if no <= cnt:\n",
    "        a = f'/html/body/div[3]/div/div[1]/div[15]/a[{x+1}]'\n",
    "        driver.find_element(By.XPATH, a).click()\n",
    "        time.sleep(2)\n",
    "\n",
    "print('========= 작업 완료 =========')\n",
    "driver.close()"
   ]
  }
 ],
 "metadata": {
  "kernelspec": {
   "display_name": "Python 3 (ipykernel)",
   "language": "python",
   "name": "python3"
  },
  "language_info": {
   "codemirror_mode": {
    "name": "ipython",
    "version": 3
   },
   "file_extension": ".py",
   "mimetype": "text/x-python",
   "name": "python",
   "nbconvert_exporter": "python",
   "pygments_lexer": "ipython3",
   "version": "3.11.5"
  },
  "toc": {
   "base_numbering": 1,
   "nav_menu": {},
   "number_sections": true,
   "sideBar": true,
   "skip_h1_title": false,
   "title_cell": "Table of Contents",
   "title_sidebar": "Contents",
   "toc_cell": false,
   "toc_position": {
    "height": "calc(100% - 180px)",
    "left": "10px",
    "top": "150px",
    "width": "384px"
   },
   "toc_section_display": true,
   "toc_window_display": false
  },
  "varInspector": {
   "cols": {
    "lenName": 16,
    "lenType": 16,
    "lenVar": 40
   },
   "kernels_config": {
    "python": {
     "delete_cmd_postfix": "",
     "delete_cmd_prefix": "del ",
     "library": "var_list.py",
     "varRefreshCmd": "print(var_dic_list())"
    },
    "r": {
     "delete_cmd_postfix": ") ",
     "delete_cmd_prefix": "rm(",
     "library": "var_list.r",
     "varRefreshCmd": "cat(var_dic_list()) "
    }
   },
   "position": {
    "height": "144.844px",
    "left": "588px",
    "right": "20px",
    "top": "120px",
    "width": "350px"
   },
   "types_to_exclude": [
    "module",
    "function",
    "builtin_function_or_method",
    "instance",
    "_Feature"
   ],
   "window_display": false
  }
 },
 "nbformat": 4,
 "nbformat_minor": 5
}
