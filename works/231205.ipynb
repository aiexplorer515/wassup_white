{
 "cells": [
  {
   "cell_type": "code",
   "execution_count": 1,
   "id": "3a9c6c0a",
   "metadata": {
    "ExecuteTime": {
     "end_time": "2023-12-05T04:22:15.573493Z",
     "start_time": "2023-12-05T04:22:15.565499Z"
    }
   },
   "outputs": [],
   "source": [
    "class FourCal:\n",
    "    def __init__(self, first, second):\n",
    "        self.first = first\n",
    "        self.second = second\n",
    "    def setdata(self, first, second):\n",
    "        self.first = first\n",
    "        self.second = second\n",
    "    def add(self):\n",
    "        return result\n",
    "    def mul(self):\n",
    "        result = self.first * self.second\n",
    "        return result\n",
    "    def sub(self):\n",
    "        result = self.first - self.second\n",
    "        return result\n",
    "    def div(self):\n",
    "        result = self.first / self.second\n"
   ]
  },
  {
   "cell_type": "code",
   "execution_count": 2,
   "id": "eea79962",
   "metadata": {
    "ExecuteTime": {
     "end_time": "2023-12-05T04:22:36.436480Z",
     "start_time": "2023-12-05T04:22:36.432417Z"
    }
   },
   "outputs": [],
   "source": [
    "def __init__(self, first, second):\n",
    "    self.first = first\n",
    "    self.second = second"
   ]
  },
  {
   "cell_type": "code",
   "execution_count": null,
   "id": "c8bd019a",
   "metadata": {},
   "outputs": [],
   "source": [
    "class MoreFourCal(FourCal):\n",
    "    pass"
   ]
  },
  {
   "cell_type": "code",
   "execution_count": 3,
   "id": "03db360c",
   "metadata": {
    "ExecuteTime": {
     "end_time": "2023-12-05T04:23:36.528748Z",
     "start_time": "2023-12-05T04:23:36.523103Z"
    }
   },
   "outputs": [],
   "source": [
    "class MoreFourCal(FourCal):\n",
    "    def pow(self):\n",
    "        result = self.first ** self.second\n",
    "        return result"
   ]
  },
  {
   "cell_type": "code",
   "execution_count": 5,
   "id": "d5cae4a3",
   "metadata": {
    "ExecuteTime": {
     "end_time": "2023-12-05T04:23:54.790771Z",
     "start_time": "2023-12-05T04:23:54.779380Z"
    }
   },
   "outputs": [
    {
     "data": {
      "text/plain": [
       "16"
      ]
     },
     "execution_count": 5,
     "metadata": {},
     "output_type": "execute_result"
    }
   ],
   "source": [
    "a = MoreFourCal(4, 2)\n",
    "a.pow()"
   ]
  },
  {
   "cell_type": "code",
   "execution_count": 6,
   "id": "dc8c6610",
   "metadata": {
    "ExecuteTime": {
     "end_time": "2023-12-05T04:24:48.310176Z",
     "start_time": "2023-12-05T04:24:48.305969Z"
    }
   },
   "outputs": [],
   "source": [
    "class SafeFourCal(FourCal):\n",
    "    def div(self):\n",
    "        if self.second == 0:  # 나누는 값이 0인 경우 0을 리턴하도록 수정\n",
    "            return 0\n",
    "        else:\n",
    "            return self.first / self.second"
   ]
  },
  {
   "cell_type": "code",
   "execution_count": 7,
   "id": "00f8eeb2",
   "metadata": {
    "ExecuteTime": {
     "end_time": "2023-12-05T04:25:04.748602Z",
     "start_time": "2023-12-05T04:25:04.741270Z"
    }
   },
   "outputs": [
    {
     "data": {
      "text/plain": [
       "0"
      ]
     },
     "execution_count": 7,
     "metadata": {},
     "output_type": "execute_result"
    }
   ],
   "source": [
    "a = SafeFourCal(4, 0)\n",
    "a.div()"
   ]
  },
  {
   "cell_type": "code",
   "execution_count": 11,
   "id": "8484e82b",
   "metadata": {
    "ExecuteTime": {
     "end_time": "2023-12-05T04:28:14.124792Z",
     "start_time": "2023-12-05T04:28:14.117804Z"
    }
   },
   "outputs": [],
   "source": [
    "class SafeFourCal1(FourCal):\n",
    "    def div(self):\n",
    "        if self.second == 0:\n",
    "            return \n",
    "        else:\n",
    "            return self.first/self.second"
   ]
  },
  {
   "cell_type": "code",
   "execution_count": 12,
   "id": "ee75869e",
   "metadata": {
    "ExecuteTime": {
     "end_time": "2023-12-05T04:29:07.992652Z",
     "start_time": "2023-12-05T04:29:07.984515Z"
    }
   },
   "outputs": [
    {
     "data": {
      "text/plain": [
       "0.8"
      ]
     },
     "execution_count": 12,
     "metadata": {},
     "output_type": "execute_result"
    }
   ],
   "source": [
    "a=SafeFourCal1(4,5)\n",
    "a.div()"
   ]
  },
  {
   "cell_type": "code",
   "execution_count": 13,
   "id": "9f192ee4",
   "metadata": {
    "ExecuteTime": {
     "end_time": "2023-12-05T04:37:06.986141Z",
     "start_time": "2023-12-05T04:37:06.982666Z"
    }
   },
   "outputs": [],
   "source": [
    "class Family:\n",
    "    lastname = \"김\""
   ]
  },
  {
   "cell_type": "code",
   "execution_count": 14,
   "id": "7885b92b",
   "metadata": {
    "ExecuteTime": {
     "end_time": "2023-12-05T04:37:14.156266Z",
     "start_time": "2023-12-05T04:37:14.150177Z"
    }
   },
   "outputs": [
    {
     "data": {
      "text/plain": [
       "'김'"
      ]
     },
     "execution_count": 14,
     "metadata": {},
     "output_type": "execute_result"
    }
   ],
   "source": [
    "Family.lastname"
   ]
  },
  {
   "cell_type": "code",
   "execution_count": 15,
   "id": "fd3ab3a5",
   "metadata": {
    "ExecuteTime": {
     "end_time": "2023-12-05T04:37:37.351018Z",
     "start_time": "2023-12-05T04:37:37.339408Z"
    }
   },
   "outputs": [
    {
     "data": {
      "text/plain": [
       "'김'"
      ]
     },
     "execution_count": 15,
     "metadata": {},
     "output_type": "execute_result"
    }
   ],
   "source": [
    "a = Family()\n",
    "b = Family()\n",
    "a.lastname\n",
    "\n",
    "b.lastname"
   ]
  },
  {
   "cell_type": "code",
   "execution_count": 16,
   "id": "943f37ba",
   "metadata": {
    "ExecuteTime": {
     "end_time": "2023-12-05T04:37:49.776606Z",
     "start_time": "2023-12-05T04:37:49.768840Z"
    }
   },
   "outputs": [],
   "source": [
    "Family.lastname = \"박\""
   ]
  },
  {
   "cell_type": "code",
   "execution_count": 17,
   "id": "895432ba",
   "metadata": {
    "ExecuteTime": {
     "end_time": "2023-12-05T04:38:05.296287Z",
     "start_time": "2023-12-05T04:38:05.287186Z"
    }
   },
   "outputs": [
    {
     "data": {
      "text/plain": [
       "'박'"
      ]
     },
     "execution_count": 17,
     "metadata": {},
     "output_type": "execute_result"
    }
   ],
   "source": [
    "a.lastname"
   ]
  },
  {
   "cell_type": "code",
   "execution_count": 18,
   "id": "af9b2cbd",
   "metadata": {
    "ExecuteTime": {
     "end_time": "2023-12-05T04:38:12.966965Z",
     "start_time": "2023-12-05T04:38:12.962708Z"
    }
   },
   "outputs": [],
   "source": [
    "a.lastname = \"최\""
   ]
  },
  {
   "cell_type": "code",
   "execution_count": 19,
   "id": "112eb292",
   "metadata": {
    "ExecuteTime": {
     "end_time": "2023-12-05T04:38:24.601622Z",
     "start_time": "2023-12-05T04:38:24.595483Z"
    }
   },
   "outputs": [
    {
     "data": {
      "text/plain": [
       "'최'"
      ]
     },
     "execution_count": 19,
     "metadata": {},
     "output_type": "execute_result"
    }
   ],
   "source": [
    "a.lastname"
   ]
  },
  {
   "cell_type": "code",
   "execution_count": 20,
   "id": "8e04438e",
   "metadata": {
    "ExecuteTime": {
     "end_time": "2023-12-05T04:38:38.132736Z",
     "start_time": "2023-12-05T04:38:38.126661Z"
    }
   },
   "outputs": [
    {
     "data": {
      "text/plain": [
       "'박'"
      ]
     },
     "execution_count": 20,
     "metadata": {},
     "output_type": "execute_result"
    }
   ],
   "source": [
    "Family.lastname"
   ]
  },
  {
   "cell_type": "code",
   "execution_count": 21,
   "id": "22a7f04c",
   "metadata": {
    "ExecuteTime": {
     "end_time": "2023-12-05T04:49:15.658323Z",
     "start_time": "2023-12-05T04:49:15.653659Z"
    }
   },
   "outputs": [
    {
     "name": "stdout",
     "output_type": "stream",
     "text": [
      "division by zero\n"
     ]
    }
   ],
   "source": [
    "try:\n",
    "    4 / 0\n",
    "except ZeroDivisionError as e:\n",
    "    print(e)"
   ]
  },
  {
   "cell_type": "code",
   "execution_count": 22,
   "id": "109d9c50",
   "metadata": {
    "ExecuteTime": {
     "end_time": "2023-12-05T05:21:40.021848Z",
     "start_time": "2023-12-05T05:21:40.013043Z"
    }
   },
   "outputs": [
    {
     "data": {
      "text/plain": [
       "'A'"
      ]
     },
     "execution_count": 22,
     "metadata": {},
     "output_type": "execute_result"
    }
   ],
   "source": [
    "chr(65)"
   ]
  },
  {
   "cell_type": "code",
   "execution_count": 26,
   "id": "5a77a8db",
   "metadata": {
    "ExecuteTime": {
     "end_time": "2023-12-05T05:27:25.104531Z",
     "start_time": "2023-12-05T05:27:25.099158Z"
    }
   },
   "outputs": [
    {
     "name": "stdout",
     "output_type": "stream",
     "text": [
      "[1, 2, 6]\n"
     ]
    }
   ],
   "source": [
    "def positive(l): \n",
    "    result = [] \n",
    "    for i in l: \n",
    "        if i > 0: \n",
    "            result.append(i) \n",
    "    return result\n",
    "\n",
    "print(positive([1,-3,2,0,-5,6]))"
   ]
  },
  {
   "cell_type": "code",
   "execution_count": 27,
   "id": "b0582fd9",
   "metadata": {
    "ExecuteTime": {
     "end_time": "2023-12-05T05:28:11.200179Z",
     "start_time": "2023-12-05T05:28:11.195440Z"
    }
   },
   "outputs": [
    {
     "name": "stdout",
     "output_type": "stream",
     "text": [
      "[1, 2, 6]\n"
     ]
    }
   ],
   "source": [
    "def positive(x):\n",
    "    return x > 0\n",
    "\n",
    "print(list(filter(positive, [1, -3, 2, 0, -5, 6])))"
   ]
  },
  {
   "cell_type": "code",
   "execution_count": 42,
   "id": "6e58c864",
   "metadata": {
    "ExecuteTime": {
     "end_time": "2023-12-05T10:53:15.047525Z",
     "start_time": "2023-12-05T10:53:15.042123Z"
    }
   },
   "outputs": [
    {
     "name": "stdout",
     "output_type": "stream",
     "text": [
      "[1, 2, 6]\n"
     ]
    }
   ],
   "source": [
    "print(list(filter(lambda x: x>0, [1, -3, 2, 0, -5, 6])))"
   ]
  },
  {
   "cell_type": "code",
   "execution_count": 58,
   "id": "c9853aab",
   "metadata": {
    "ExecuteTime": {
     "end_time": "2023-12-05T11:19:55.181321Z",
     "start_time": "2023-12-05T11:19:55.174668Z"
    }
   },
   "outputs": [
    {
     "name": "stdout",
     "output_type": "stream",
     "text": [
      "[1, 2, 6]\n"
     ]
    }
   ],
   "source": [
    "x = [1, -3, 2, 0, -5, 6]\n",
    "pos_x = [b for b in x if b>0]\n",
    "print(pos_x)"
   ]
  },
  {
   "cell_type": "code",
   "execution_count": 64,
   "id": "8c1b684d",
   "metadata": {
    "ExecuteTime": {
     "end_time": "2023-12-05T11:31:41.845924Z",
     "start_time": "2023-12-05T11:31:41.840109Z"
    }
   },
   "outputs": [
    {
     "name": "stdout",
     "output_type": "stream",
     "text": [
      "[1, 2, 6]\n"
     ]
    }
   ],
   "source": [
    "x = [1, -3, 2, 0, -5, 6]\n",
    "pos_x = list(filter(lambda b: b > 0, x))\n",
    "print(pos_x)"
   ]
  },
  {
   "cell_type": "code",
   "execution_count": 32,
   "id": "a9ba2d7a",
   "metadata": {
    "ExecuteTime": {
     "end_time": "2023-12-05T05:39:20.617299Z",
     "start_time": "2023-12-05T05:39:20.610889Z"
    }
   },
   "outputs": [
    {
     "name": "stdout",
     "output_type": "stream",
     "text": [
      "[2, 4, 6, 8]\n"
     ]
    }
   ],
   "source": [
    "def two_times(numberList):\n",
    "    result = []\n",
    "    for number in numberList:\n",
    "        result.append(number*2)\n",
    "    return result\n",
    "\n",
    "result = two_times([1, 2, 3, 4])\n",
    "print(result)"
   ]
  },
  {
   "cell_type": "code",
   "execution_count": 34,
   "id": "082fbf59",
   "metadata": {
    "ExecuteTime": {
     "end_time": "2023-12-05T05:45:50.134529Z",
     "start_time": "2023-12-05T05:45:50.126848Z"
    }
   },
   "outputs": [
    {
     "data": {
      "text/plain": [
       "[2, 4, 6, 8]"
      ]
     },
     "execution_count": 34,
     "metadata": {},
     "output_type": "execute_result"
    }
   ],
   "source": [
    "def two_times(x): \n",
    "    return x*2\n",
    "\n",
    "list(map(two_times, [1, 2, 3, 4]))"
   ]
  },
  {
   "cell_type": "code",
   "execution_count": 65,
   "id": "f2ecee9e",
   "metadata": {
    "ExecuteTime": {
     "end_time": "2023-12-05T11:40:53.739415Z",
     "start_time": "2023-12-05T11:40:53.731318Z"
    }
   },
   "outputs": [
    {
     "data": {
      "text/plain": [
       "[2, 4, 6, 8]"
      ]
     },
     "execution_count": 65,
     "metadata": {},
     "output_type": "execute_result"
    }
   ],
   "source": [
    "list(map(lambda a: a*2, [1,2,3,4]))"
   ]
  },
  {
   "cell_type": "code",
   "execution_count": 35,
   "id": "5141c356",
   "metadata": {
    "ExecuteTime": {
     "end_time": "2023-12-05T06:29:29.919720Z",
     "start_time": "2023-12-05T06:29:29.911561Z"
    }
   },
   "outputs": [
    {
     "name": "stdout",
     "output_type": "stream",
     "text": [
      "2\n",
      "3\n",
      "5\n",
      "1\n",
      "4\n"
     ]
    }
   ],
   "source": [
    "import random\n",
    "def random_pop(data):\n",
    "    number = random.randint(0, len(data)-1)\n",
    "    return data.pop(number)\n",
    "\n",
    "if __name__ == \"__main__\":\n",
    "    data = [1, 2, 3, 4, 5]\n",
    "    while data: \n",
    "        print(random_pop(data))"
   ]
  },
  {
   "cell_type": "code",
   "execution_count": 46,
   "id": "ff4f98de",
   "metadata": {
    "ExecuteTime": {
     "end_time": "2023-12-05T11:05:00.261689Z",
     "start_time": "2023-12-05T11:05:00.253416Z"
    }
   },
   "outputs": [
    {
     "data": {
      "text/plain": [
       "False"
      ]
     },
     "execution_count": 46,
     "metadata": {},
     "output_type": "execute_result"
    }
   ],
   "source": [
    "all([1,2,0]) #0 False"
   ]
  },
  {
   "cell_type": "code",
   "execution_count": 47,
   "id": "1a3d9d8f",
   "metadata": {
    "ExecuteTime": {
     "end_time": "2023-12-05T11:05:50.545740Z",
     "start_time": "2023-12-05T11:05:50.539881Z"
    }
   },
   "outputs": [
    {
     "data": {
      "text/plain": [
       "True"
      ]
     },
     "execution_count": 47,
     "metadata": {},
     "output_type": "execute_result"
    }
   ],
   "source": [
    "any([1,2,0])"
   ]
  },
  {
   "cell_type": "code",
   "execution_count": 50,
   "id": "4f47866d",
   "metadata": {
    "ExecuteTime": {
     "end_time": "2023-12-05T11:13:05.265386Z",
     "start_time": "2023-12-05T11:13:05.258852Z"
    }
   },
   "outputs": [
    {
     "data": {
      "text/plain": [
       "False"
      ]
     },
     "execution_count": 50,
     "metadata": {},
     "output_type": "execute_result"
    }
   ],
   "source": [
    "any([]) # all([0]) 참 "
   ]
  },
  {
   "cell_type": "code",
   "execution_count": 55,
   "id": "c3cb9d2c",
   "metadata": {
    "ExecuteTime": {
     "end_time": "2023-12-05T11:15:47.094769Z",
     "start_time": "2023-12-05T11:15:47.088057Z"
    }
   },
   "outputs": [
    {
     "data": {
      "text/plain": [
       "(2, 1)"
      ]
     },
     "execution_count": 55,
     "metadata": {},
     "output_type": "execute_result"
    }
   ],
   "source": [
    "divmod(7, 3)"
   ]
  },
  {
   "cell_type": "code",
   "execution_count": 56,
   "id": "32c8c5cf",
   "metadata": {
    "ExecuteTime": {
     "end_time": "2023-12-05T11:16:12.674233Z",
     "start_time": "2023-12-05T11:16:12.669236Z"
    }
   },
   "outputs": [
    {
     "name": "stdout",
     "output_type": "stream",
     "text": [
      "0 body\n",
      "1 foo\n",
      "2 bar\n"
     ]
    }
   ],
   "source": [
    "for i, name in enumerate(['body', 'foo', 'bar']):\n",
    "    print(i, name)"
   ]
  },
  {
   "cell_type": "code",
   "execution_count": 66,
   "id": "e50e1aa4",
   "metadata": {
    "ExecuteTime": {
     "end_time": "2023-12-05T11:41:32.986149Z",
     "start_time": "2023-12-05T11:41:32.980207Z"
    }
   },
   "outputs": [
    {
     "data": {
      "text/plain": [
       "16"
      ]
     },
     "execution_count": 66,
     "metadata": {},
     "output_type": "execute_result"
    }
   ],
   "source": [
    "pow(2,4)"
   ]
  },
  {
   "cell_type": "code",
   "execution_count": 68,
   "id": "b44daf8a",
   "metadata": {
    "ExecuteTime": {
     "end_time": "2023-12-05T11:42:18.045498Z",
     "start_time": "2023-12-05T11:42:18.039232Z"
    }
   },
   "outputs": [
    {
     "data": {
      "text/plain": [
       "4"
      ]
     },
     "execution_count": 68,
     "metadata": {},
     "output_type": "execute_result"
    }
   ],
   "source": [
    "round(4.2)"
   ]
  },
  {
   "cell_type": "code",
   "execution_count": 69,
   "id": "40dc3a95",
   "metadata": {
    "ExecuteTime": {
     "end_time": "2023-12-05T11:42:35.597281Z",
     "start_time": "2023-12-05T11:42:35.590530Z"
    }
   },
   "outputs": [
    {
     "data": {
      "text/plain": [
       "5.68"
      ]
     },
     "execution_count": 69,
     "metadata": {},
     "output_type": "execute_result"
    }
   ],
   "source": [
    "round(5.678, 2)"
   ]
  },
  {
   "cell_type": "code",
   "execution_count": 70,
   "id": "5f9945a7",
   "metadata": {
    "ExecuteTime": {
     "end_time": "2023-12-05T11:43:40.724918Z",
     "start_time": "2023-12-05T11:43:40.717437Z"
    }
   },
   "outputs": [
    {
     "data": {
      "text/plain": [
       "[(1, 4), (2, 5), (3, 6)]"
      ]
     },
     "execution_count": 70,
     "metadata": {},
     "output_type": "execute_result"
    }
   ],
   "source": [
    "a = [1,2,3]\n",
    "b = [4,5,6]\n",
    "list(zip(a, b))"
   ]
  }
 ],
 "metadata": {
  "kernelspec": {
   "display_name": "Python 3 (ipykernel)",
   "language": "python",
   "name": "python3"
  },
  "language_info": {
   "codemirror_mode": {
    "name": "ipython",
    "version": 3
   },
   "file_extension": ".py",
   "mimetype": "text/x-python",
   "name": "python",
   "nbconvert_exporter": "python",
   "pygments_lexer": "ipython3",
   "version": "3.11.5"
  },
  "toc": {
   "base_numbering": 1,
   "nav_menu": {},
   "number_sections": true,
   "sideBar": true,
   "skip_h1_title": false,
   "title_cell": "Table of Contents",
   "title_sidebar": "Contents",
   "toc_cell": false,
   "toc_position": {},
   "toc_section_display": true,
   "toc_window_display": false
  },
  "varInspector": {
   "cols": {
    "lenName": 16,
    "lenType": 16,
    "lenVar": 40
   },
   "kernels_config": {
    "python": {
     "delete_cmd_postfix": "",
     "delete_cmd_prefix": "del ",
     "library": "var_list.py",
     "varRefreshCmd": "print(var_dic_list())"
    },
    "r": {
     "delete_cmd_postfix": ") ",
     "delete_cmd_prefix": "rm(",
     "library": "var_list.r",
     "varRefreshCmd": "cat(var_dic_list()) "
    }
   },
   "types_to_exclude": [
    "module",
    "function",
    "builtin_function_or_method",
    "instance",
    "_Feature"
   ],
   "window_display": false
  }
 },
 "nbformat": 4,
 "nbformat_minor": 5
}
