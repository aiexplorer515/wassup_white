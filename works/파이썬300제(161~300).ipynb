{
 "cells": [
  {
   "cell_type": "code",
   "execution_count": 2,
   "id": "83c5ce5d",
   "metadata": {},
   "outputs": [
    {
     "name": "stdout",
     "output_type": "stream",
     "text": [
      "0\n",
      "1\n",
      "2\n",
      "3\n",
      "4\n",
      "5\n",
      "6\n",
      "7\n",
      "8\n",
      "9\n",
      "10\n",
      "11\n",
      "12\n",
      "13\n",
      "14\n",
      "15\n",
      "16\n",
      "17\n",
      "18\n",
      "19\n",
      "20\n",
      "21\n",
      "22\n",
      "23\n",
      "24\n",
      "25\n",
      "26\n",
      "27\n",
      "28\n",
      "29\n",
      "30\n",
      "31\n",
      "32\n",
      "33\n",
      "34\n",
      "35\n",
      "36\n",
      "37\n",
      "38\n",
      "39\n",
      "40\n",
      "41\n",
      "42\n",
      "43\n",
      "44\n",
      "45\n",
      "46\n",
      "47\n",
      "48\n",
      "49\n",
      "50\n",
      "51\n",
      "52\n",
      "53\n",
      "54\n",
      "55\n",
      "56\n",
      "57\n",
      "58\n",
      "59\n",
      "60\n",
      "61\n",
      "62\n",
      "63\n",
      "64\n",
      "65\n",
      "66\n",
      "67\n",
      "68\n",
      "69\n",
      "70\n",
      "71\n",
      "72\n",
      "73\n",
      "74\n",
      "75\n",
      "76\n",
      "77\n",
      "78\n",
      "79\n",
      "80\n",
      "81\n",
      "82\n",
      "83\n",
      "84\n",
      "85\n",
      "86\n",
      "87\n",
      "88\n",
      "89\n",
      "90\n",
      "91\n",
      "92\n",
      "93\n",
      "94\n",
      "95\n",
      "96\n",
      "97\n",
      "98\n",
      "99\n"
     ]
    }
   ],
   "source": [
    "#161\n",
    "for i in range(100):\n",
    "    print(i)"
   ]
  },
  {
   "cell_type": "code",
   "execution_count": 3,
   "id": "06c6019b",
   "metadata": {},
   "outputs": [
    {
     "name": "stdout",
     "output_type": "stream",
     "text": [
      "2002\n",
      "2006\n",
      "2010\n",
      "2014\n",
      "2018\n",
      "2022\n",
      "2026\n",
      "2030\n",
      "2034\n",
      "2038\n",
      "2042\n",
      "2046\n",
      "2050\n"
     ]
    }
   ],
   "source": [
    "#162\n",
    "for i in range(2002,2051,4):\n",
    "    print(i)"
   ]
  },
  {
   "cell_type": "code",
   "execution_count": 5,
   "id": "d6c8ff60",
   "metadata": {},
   "outputs": [
    {
     "name": "stdout",
     "output_type": "stream",
     "text": [
      "3\n",
      "6\n",
      "9\n",
      "12\n",
      "15\n",
      "18\n",
      "21\n",
      "24\n",
      "27\n",
      "30\n"
     ]
    }
   ],
   "source": [
    "#163\n",
    "for i in range(3, 31,3):\n",
    "    print(i)"
   ]
  },
  {
   "cell_type": "code",
   "execution_count": 6,
   "id": "3dc39c5a",
   "metadata": {},
   "outputs": [
    {
     "name": "stdout",
     "output_type": "stream",
     "text": [
      "99\n",
      "98\n",
      "97\n",
      "96\n",
      "95\n",
      "94\n",
      "93\n",
      "92\n",
      "91\n",
      "90\n",
      "89\n",
      "88\n",
      "87\n",
      "86\n",
      "85\n",
      "84\n",
      "83\n",
      "82\n",
      "81\n",
      "80\n",
      "79\n",
      "78\n",
      "77\n",
      "76\n",
      "75\n",
      "74\n",
      "73\n",
      "72\n",
      "71\n",
      "70\n",
      "69\n",
      "68\n",
      "67\n",
      "66\n",
      "65\n",
      "64\n",
      "63\n",
      "62\n",
      "61\n",
      "60\n",
      "59\n",
      "58\n",
      "57\n",
      "56\n",
      "55\n",
      "54\n",
      "53\n",
      "52\n",
      "51\n",
      "50\n",
      "49\n",
      "48\n",
      "47\n",
      "46\n",
      "45\n",
      "44\n",
      "43\n",
      "42\n",
      "41\n",
      "40\n",
      "39\n",
      "38\n",
      "37\n",
      "36\n",
      "35\n",
      "34\n",
      "33\n",
      "32\n",
      "31\n",
      "30\n",
      "29\n",
      "28\n",
      "27\n",
      "26\n",
      "25\n",
      "24\n",
      "23\n",
      "22\n",
      "21\n",
      "20\n",
      "19\n",
      "18\n",
      "17\n",
      "16\n",
      "15\n",
      "14\n",
      "13\n",
      "12\n",
      "11\n",
      "10\n",
      "9\n",
      "8\n",
      "7\n",
      "6\n",
      "5\n",
      "4\n",
      "3\n",
      "2\n",
      "1\n",
      "0\n"
     ]
    }
   ],
   "source": [
    "#164\n",
    "for i in range(99,-1,-1):\n",
    "    print(i)"
   ]
  },
  {
   "cell_type": "code",
   "execution_count": 9,
   "id": "c6f06f23",
   "metadata": {},
   "outputs": [
    {
     "name": "stdout",
     "output_type": "stream",
     "text": [
      "0.0\n",
      "0.1\n",
      "0.2\n",
      "0.3\n",
      "0.4\n",
      "0.5\n",
      "0.6\n",
      "0.7\n",
      "0.8\n",
      "0.9\n"
     ]
    }
   ],
   "source": [
    "#165\n",
    "for i in range(0, 10):\n",
    "    print(i/10)"
   ]
  },
  {
   "cell_type": "code",
   "execution_count": 12,
   "id": "d124c68b",
   "metadata": {},
   "outputs": [
    {
     "name": "stdout",
     "output_type": "stream",
     "text": [
      "3x0=0\n",
      "3x1=3\n",
      "3x2=6\n",
      "3x3=9\n",
      "3x4=12\n",
      "3x5=15\n",
      "3x6=18\n",
      "3x7=21\n",
      "3x8=24\n",
      "3x9=27\n"
     ]
    }
   ],
   "source": [
    "#166\n",
    "for i in range(10):\n",
    "    print(f\"3x{i}={i*3}\")"
   ]
  },
  {
   "cell_type": "code",
   "execution_count": 17,
   "id": "1b79cc7f",
   "metadata": {},
   "outputs": [
    {
     "name": "stdout",
     "output_type": "stream",
     "text": [
      "3x1=3\n",
      "3x3=9\n",
      "3x5=15\n",
      "3x7=21\n",
      "3x9=27\n"
     ]
    }
   ],
   "source": [
    "#167\n",
    "for i in range(1,11,2):\n",
    "    print(f\"3x{i}={i*3}\")"
   ]
  },
  {
   "cell_type": "code",
   "execution_count": 19,
   "id": "6a4d9e51",
   "metadata": {},
   "outputs": [
    {
     "name": "stdout",
     "output_type": "stream",
     "text": [
      "55\n"
     ]
    }
   ],
   "source": [
    "#168\n",
    "s = 0\n",
    "for i in range(1, 11):\n",
    "    s += i\n",
    "print(s)"
   ]
  },
  {
   "cell_type": "code",
   "execution_count": 18,
   "id": "907df627",
   "metadata": {},
   "outputs": [
    {
     "name": "stdout",
     "output_type": "stream",
     "text": [
      "25\n"
     ]
    }
   ],
   "source": [
    "#169\n",
    "s = 0\n",
    "for i in range(1, 11, 2):\n",
    "    s += i\n",
    "print(s)"
   ]
  },
  {
   "cell_type": "code",
   "execution_count": 20,
   "id": "5c7e8b2d",
   "metadata": {},
   "outputs": [
    {
     "name": "stdout",
     "output_type": "stream",
     "text": [
      "3628800\n"
     ]
    }
   ],
   "source": [
    "#170\n",
    "s = 1\n",
    "for i in range(1, 11):\n",
    "    s *= i\n",
    "print(s)"
   ]
  },
  {
   "cell_type": "code",
   "execution_count": 21,
   "id": "58ef27a2",
   "metadata": {},
   "outputs": [
    {
     "name": "stdout",
     "output_type": "stream",
     "text": [
      "32100\n",
      "32150\n",
      "32000\n",
      "32500\n"
     ]
    }
   ],
   "source": [
    "#171\n",
    "price_list = [32100, 32150, 32000, 32500]\n",
    "for i in price_list:\n",
    "    print(i)"
   ]
  },
  {
   "cell_type": "code",
   "execution_count": 23,
   "id": "15de9938",
   "metadata": {},
   "outputs": [
    {
     "name": "stdout",
     "output_type": "stream",
     "text": [
      "0 32100\n",
      "1 32150\n",
      "2 32000\n",
      "3 32500\n"
     ]
    }
   ],
   "source": [
    "#172\n",
    "price_list = [32100, 32150, 32000, 32500]\n",
    "\n",
    "for i in range(0,4):\n",
    "    print(i, price_list[i])"
   ]
  },
  {
   "cell_type": "code",
   "execution_count": 26,
   "id": "5e5d85b1",
   "metadata": {},
   "outputs": [
    {
     "name": "stdout",
     "output_type": "stream",
     "text": [
      "3 32100\n",
      "2 32150\n",
      "1 32000\n",
      "0 32500\n"
     ]
    }
   ],
   "source": [
    "#173\n",
    "price_list = [32100, 32150, 32000, 32500]\n",
    "for i in range(3,-1,-1):\n",
    "    print(i, price_list[3-i])"
   ]
  },
  {
   "cell_type": "code",
   "execution_count": 28,
   "id": "0a187b49",
   "metadata": {},
   "outputs": [
    {
     "name": "stdout",
     "output_type": "stream",
     "text": [
      "100 32150\n",
      "110 32000\n",
      "120 32500\n"
     ]
    }
   ],
   "source": [
    "#174\n",
    "price_list = [32100, 32150, 32000, 32500]\n",
    "\n",
    "for i in range(1,4):\n",
    "    print(i*10+90, price_list[i])"
   ]
  },
  {
   "cell_type": "code",
   "execution_count": 29,
   "id": "b050f073",
   "metadata": {},
   "outputs": [
    {
     "name": "stdout",
     "output_type": "stream",
     "text": [
      "가 나\n",
      "나 다\n",
      "다 라\n"
     ]
    }
   ],
   "source": [
    "#175\n",
    "my_list = [\"가\", \"나\", \"다\", \"라\"]\n",
    "\n",
    "for i in range(3):\n",
    "    print(my_list[i], my_list[i+1])"
   ]
  },
  {
   "cell_type": "code",
   "execution_count": 31,
   "id": "d5a1649f",
   "metadata": {},
   "outputs": [
    {
     "name": "stdout",
     "output_type": "stream",
     "text": [
      "가 나 다\n",
      "나 다 라\n",
      "다 라 마\n"
     ]
    }
   ],
   "source": [
    "#176\n",
    "my_list = [\"가\", \"나\", \"다\", \"라\", \"마\"]\n",
    "for i in range(len(my_list)-2):\n",
    "    print(my_list[i], my_list[i+1], my_list[i+2])\n"
   ]
  },
  {
   "cell_type": "code",
   "execution_count": 33,
   "id": "721fc45d",
   "metadata": {},
   "outputs": [
    {
     "name": "stdout",
     "output_type": "stream",
     "text": [
      "라 다\n",
      "다 나\n",
      "나 가\n"
     ]
    }
   ],
   "source": [
    "#177\n",
    "my_list = [\"가\", \"나\", \"다\", \"라\"]\n",
    "\n",
    "for i  in range(len(my_list)-1, 0, -1):\n",
    "    print(my_list[i], my_list[i-1])"
   ]
  },
  {
   "cell_type": "code",
   "execution_count": 34,
   "id": "9dc9425b",
   "metadata": {},
   "outputs": [
    {
     "name": "stdout",
     "output_type": "stream",
     "text": [
      "100\n",
      "200\n",
      "400\n"
     ]
    }
   ],
   "source": [
    "#178\n",
    "my_list = [100, 200, 400, 800]\n",
    "\n",
    "for i in range(len(my_list)-1):\n",
    "    print(my_list[i+1]-my_list[i])"
   ]
  },
  {
   "cell_type": "code",
   "execution_count": 36,
   "id": "f118da4b",
   "metadata": {},
   "outputs": [
    {
     "name": "stdout",
     "output_type": "stream",
     "text": [
      "233.33333333333334\n",
      "466.6666666666667\n",
      "733.3333333333334\n",
      "1033.3333333333333\n"
     ]
    }
   ],
   "source": [
    "#179\n",
    "my_list = [100, 200, 400, 800, 1000, 1300]\n",
    "\n",
    "for i in range(len(my_list)-2):\n",
    "    print((my_list[i]+my_list[i+1]+my_list[i+2])/3)"
   ]
  },
  {
   "cell_type": "code",
   "execution_count": 43,
   "id": "351bf135",
   "metadata": {},
   "outputs": [
    {
     "name": "stdout",
     "output_type": "stream",
     "text": [
      "[50, 100, 30, 80, 0]\n"
     ]
    }
   ],
   "source": [
    "#180\n",
    "low_prices  = [100, 200, 400, 800, 1000]\n",
    "high_prices = [150, 300, 430, 880, 1000]\n",
    "volarility=[]\n",
    "\n",
    "for i in range(len(low_prices)):\n",
    "    volarility.append(high_prices[i] - low_prices[i])\n",
    "print(volarility)"
   ]
  },
  {
   "cell_type": "code",
   "execution_count": 44,
   "id": "def71242",
   "metadata": {},
   "outputs": [],
   "source": [
    "#181\n",
    "apart=[['101호', '102호'],['201호', '202호'],['301호', '302호']]"
   ]
  },
  {
   "cell_type": "code",
   "execution_count": 46,
   "id": "69826e50",
   "metadata": {},
   "outputs": [],
   "source": [
    "#182\n",
    "stock=[[\"시가\",100,200,300],[\"종가\",80,210,330]]"
   ]
  },
  {
   "cell_type": "code",
   "execution_count": 47,
   "id": "4431d9a3",
   "metadata": {},
   "outputs": [],
   "source": [
    "#183\n",
    "stock={'시가':[100,200,300], '종가':[80,210,330]}"
   ]
  },
  {
   "cell_type": "code",
   "execution_count": 50,
   "id": "97fd5e26",
   "metadata": {},
   "outputs": [],
   "source": [
    "#184\n",
    "stock={'10/10':[80,110,70,90],'10/11':[210,230,190,200]}"
   ]
  },
  {
   "cell_type": "code",
   "execution_count": 55,
   "id": "8c60ad56",
   "metadata": {},
   "outputs": [
    {
     "name": "stdout",
     "output_type": "stream",
     "text": [
      "101호\n",
      "102호\n",
      "201호\n",
      "202호\n",
      "301호\n",
      "302호\n"
     ]
    }
   ],
   "source": [
    "#185\n",
    "apart = [ [101, 102], [201, 202], [301, 302] ]\n",
    "for i in apart:\n",
    "    for j in i:\n",
    "        print(f'{j}호')"
   ]
  },
  {
   "cell_type": "code",
   "execution_count": 1,
   "id": "8758c821",
   "metadata": {},
   "outputs": [
    {
     "name": "stdout",
     "output_type": "stream",
     "text": [
      "301호\n",
      "302호\n",
      "201호\n",
      "202호\n",
      "101호\n",
      "102호\n"
     ]
    }
   ],
   "source": [
    "#186\n",
    "apart = [ [101, 102], [201, 202], [301, 302] ]\n",
    "\n",
    "for i in apart[::-1]:\n",
    "    for j in i:\n",
    "        print(f'{j}호')"
   ]
  },
  {
   "cell_type": "code",
   "execution_count": 2,
   "id": "eabca6d4",
   "metadata": {},
   "outputs": [
    {
     "name": "stdout",
     "output_type": "stream",
     "text": [
      "302호\n",
      "301호\n",
      "202호\n",
      "201호\n",
      "102호\n",
      "101호\n"
     ]
    }
   ],
   "source": [
    "#187\n",
    "apart = [ [101, 102], [201, 202], [301, 302] ]\n",
    "\n",
    "for i in apart[::-1]:\n",
    "    for j in i[::-1]:\n",
    "        print(f'{j}호')"
   ]
  },
  {
   "cell_type": "code",
   "execution_count": 4,
   "id": "ca1a8580",
   "metadata": {},
   "outputs": [
    {
     "name": "stdout",
     "output_type": "stream",
     "text": [
      "101호\n",
      "-----\n",
      "102호\n",
      "-----\n",
      "201호\n",
      "-----\n",
      "202호\n",
      "-----\n",
      "301호\n",
      "-----\n",
      "302호\n",
      "-----\n"
     ]
    }
   ],
   "source": [
    "#188\n",
    "apart = [ [101, 102], [201, 202], [301, 302] ]\n",
    "\n",
    "for i in apart:\n",
    "    for j in i:\n",
    "        print(f'{j}호')\n",
    "        print(\"-\"*5)"
   ]
  },
  {
   "cell_type": "code",
   "execution_count": 5,
   "id": "13e07444",
   "metadata": {},
   "outputs": [
    {
     "name": "stdout",
     "output_type": "stream",
     "text": [
      "101호\n",
      "102호\n",
      "-----\n",
      "201호\n",
      "202호\n",
      "-----\n",
      "301호\n",
      "302호\n",
      "-----\n"
     ]
    }
   ],
   "source": [
    "#189\n",
    "apart = [ [101, 102], [201, 202], [301, 302] ]\n",
    "for i in apart:\n",
    "    for j in i:\n",
    "        print(f'{j}호')\n",
    "    print(\"-\"*5)"
   ]
  },
  {
   "cell_type": "code",
   "execution_count": 6,
   "id": "ee4574ce",
   "metadata": {},
   "outputs": [
    {
     "name": "stdout",
     "output_type": "stream",
     "text": [
      "101호\n",
      "102호\n",
      "201호\n",
      "202호\n",
      "301호\n",
      "302호\n",
      "-----\n"
     ]
    }
   ],
   "source": [
    "#190\n",
    "apart = [ [101, 102], [201, 202], [301, 302] ]\n",
    "for i in apart:\n",
    "    for j in i:\n",
    "        print(f'{j}호')\n",
    "print(\"-\"*5)"
   ]
  },
  {
   "cell_type": "code",
   "execution_count": 15,
   "id": "4576bc44",
   "metadata": {},
   "outputs": [
    {
     "name": "stdout",
     "output_type": "stream",
     "text": [
      "2000.28\n",
      "3050.427\n",
      "2050.2870000000003\n",
      "1980.2772\n",
      "7501.05\n",
      "2050.2870000000003\n",
      "2050.2870000000003\n",
      "1980.2772\n",
      "15452.163\n",
      "15052.107\n",
      "15552.177\n",
      "14902.086000000001\n"
     ]
    }
   ],
   "source": [
    "#191\n",
    "data = [\n",
    "    [ 2000,  3050,  2050,  1980],\n",
    "    [ 7500,  2050,  2050,  1980],\n",
    "    [15450, 15050, 15550, 14900]\n",
    "]\n",
    "for i in data:\n",
    "    for j in i:\n",
    "        print(j*1.00014)"
   ]
  },
  {
   "cell_type": "code",
   "execution_count": 16,
   "id": "0467f350",
   "metadata": {},
   "outputs": [
    {
     "name": "stdout",
     "output_type": "stream",
     "text": [
      "2000.28\n",
      "3050.427\n",
      "2050.2870000000003\n",
      "1980.2772\n",
      "-----\n",
      "7501.05\n",
      "2050.2870000000003\n",
      "2050.2870000000003\n",
      "1980.2772\n",
      "-----\n",
      "15452.163\n",
      "15052.107\n",
      "15552.177\n",
      "14902.086000000001\n",
      "-----\n"
     ]
    }
   ],
   "source": [
    "#192\n",
    "data = [\n",
    "    [ 2000,  3050,  2050,  1980],\n",
    "    [ 7500,  2050,  2050,  1980],\n",
    "    [15450, 15050, 15550, 14900]\n",
    "]\n",
    "for i in data:\n",
    "    for j in i:\n",
    "        print(j*1.00014)\n",
    "    print(\"-\"*5)"
   ]
  },
  {
   "cell_type": "code",
   "execution_count": 13,
   "id": "d1388569",
   "metadata": {},
   "outputs": [
    {
     "name": "stdout",
     "output_type": "stream",
     "text": [
      "[2000.28, 3050.427, 2050.2870000000003, 1980.2772, 7501.05, 2050.2870000000003, 2050.2870000000003, 1980.2772, 15452.163, 15052.107, 15552.177, 14902.086000000001]\n"
     ]
    }
   ],
   "source": [
    "#193\n",
    "data = [\n",
    "    [ 2000,  3050,  2050,  1980],\n",
    "    [ 7500,  2050,  2050,  1980],\n",
    "    [15450, 15050, 15550, 14900]\n",
    "]\n",
    "result=[]\n",
    "for i in data:\n",
    "    for j in i:\n",
    "        result.append(j*1.00014)\n",
    "print(result)"
   ]
  },
  {
   "cell_type": "code",
   "execution_count": 14,
   "id": "3c3cff3b",
   "metadata": {},
   "outputs": [
    {
     "name": "stdout",
     "output_type": "stream",
     "text": [
      "[[2000.28, 3050.427, 2050.2870000000003, 1980.2772], [7501.05, 2050.2870000000003, 2050.2870000000003, 1980.2772], [15452.163, 15052.107, 15552.177, 14902.086000000001]]\n"
     ]
    }
   ],
   "source": [
    "#194\n",
    "data = [\n",
    "    [ 2000,  3050,  2050,  1980],\n",
    "    [ 7500,  2050,  2050,  1980],\n",
    "    [15450, 15050, 15550, 14900]\n",
    "]\n",
    "result=[]\n",
    "for i in data:\n",
    "    sub = []\n",
    "    for j in i:\n",
    "        sub.append(j*1.00014)\n",
    "    result.append(sub)\n",
    "print(result)"
   ]
  },
  {
   "cell_type": "code",
   "execution_count": 27,
   "id": "e901ed3d",
   "metadata": {},
   "outputs": [
    {
     "name": "stdout",
     "output_type": "stream",
     "text": [
      "100\n",
      "190\n",
      "310\n"
     ]
    }
   ],
   "source": [
    "#195\n",
    "ohlc = [[\"open\", \"high\", \"low\", \"close\"],\n",
    "        [100, 110, 70, 100],\n",
    "        [200, 210, 180, 190],\n",
    "        [300, 310, 300, 310]]\n",
    "\n",
    "for i in ohlc[1:]:\n",
    "    print(i[3])"
   ]
  },
  {
   "cell_type": "code",
   "execution_count": 29,
   "id": "0d64f0ee",
   "metadata": {},
   "outputs": [
    {
     "name": "stdout",
     "output_type": "stream",
     "text": [
      "190\n",
      "310\n"
     ]
    }
   ],
   "source": [
    "#196\n",
    "ohlc = [[\"open\", \"high\", \"low\", \"close\"],\n",
    "        [100, 110, 70, 100],\n",
    "        [200, 210, 180, 190],\n",
    "        [300, 310, 300, 310]]\n",
    "\n",
    "for i in ohlc[1:]:\n",
    "    if i[3] > 150:\n",
    "        print(i[3])"
   ]
  },
  {
   "cell_type": "code",
   "execution_count": 31,
   "id": "7fce0189",
   "metadata": {},
   "outputs": [
    {
     "name": "stdout",
     "output_type": "stream",
     "text": [
      "100\n",
      "310\n"
     ]
    }
   ],
   "source": [
    "#197\n",
    "ohlc = [[\"open\", \"high\", \"low\", \"close\"],\n",
    "        [100, 110, 70, 100],\n",
    "        [200, 210, 180, 190],\n",
    "        [300, 310, 300, 310]]\n",
    "\n",
    "for i in ohlc[1:]:\n",
    "    if i[3] >= i[0]:\n",
    "        print(i[3])"
   ]
  },
  {
   "cell_type": "code",
   "execution_count": 33,
   "id": "3ca0e0f2",
   "metadata": {},
   "outputs": [
    {
     "name": "stdout",
     "output_type": "stream",
     "text": [
      "[40, 30, 10]\n"
     ]
    }
   ],
   "source": [
    "#198\n",
    "ohlc = [[\"open\", \"high\", \"low\", \"close\"],\n",
    "        [100, 110, 70, 100],\n",
    "        [200, 210, 180, 190],\n",
    "        [300, 310, 300, 310]]\n",
    "\n",
    "volatility = []\n",
    "for i in ohlc[1:]:\n",
    "    volatility.append(i[1]-i[2])\n",
    "print(volatility)"
   ]
  },
  {
   "cell_type": "code",
   "execution_count": 35,
   "id": "b89f4206",
   "metadata": {},
   "outputs": [
    {
     "name": "stdout",
     "output_type": "stream",
     "text": [
      "10\n"
     ]
    }
   ],
   "source": [
    "#199\n",
    "ohlc = [[\"open\", \"high\", \"low\", \"close\"],\n",
    "        [100, 110, 70, 100],\n",
    "        [200, 210, 180, 190],\n",
    "        [300, 310, 300, 310]]\n",
    "for i in ohlc[1:]:\n",
    "    if i[3] > i[0]:\n",
    "        print(i[1]-i[2])"
   ]
  },
  {
   "cell_type": "code",
   "execution_count": 36,
   "id": "99eea87d",
   "metadata": {},
   "outputs": [
    {
     "name": "stdout",
     "output_type": "stream",
     "text": [
      "0\n"
     ]
    }
   ],
   "source": [
    "#200\n",
    "ohlc = [[\"open\", \"high\", \"low\", \"close\"],\n",
    "        [100, 110, 70, 100],\n",
    "        [200, 210, 180, 190],\n",
    "        [300, 310, 300, 310]]\n",
    "\n",
    "sum = 0\n",
    "for i in ohlc[1:]:\n",
    "    sum += i[3]-i[0]\n",
    "print(sum)"
   ]
  },
  {
   "cell_type": "code",
   "execution_count": 37,
   "id": "a85462ad",
   "metadata": {},
   "outputs": [],
   "source": [
    "#201\n",
    "def print_coin():\n",
    "    print(\"비트코인\")"
   ]
  },
  {
   "cell_type": "code",
   "execution_count": 38,
   "id": "b65d2682",
   "metadata": {},
   "outputs": [
    {
     "name": "stdout",
     "output_type": "stream",
     "text": [
      "비트코인\n"
     ]
    }
   ],
   "source": [
    "#202\n",
    "def print_coin():\n",
    "    print(\"비트코인\")\n",
    "\n",
    "print_coin()"
   ]
  },
  {
   "cell_type": "code",
   "execution_count": null,
   "id": "52f76db0",
   "metadata": {},
   "outputs": [],
   "source": [
    "#203\n",
    "def print_coin():\n",
    "    print(\"비트코인\")\n",
    "\n",
    "for i in range(100):\n",
    "    print_coin()"
   ]
  },
  {
   "cell_type": "code",
   "execution_count": null,
   "id": "2fbb954e",
   "metadata": {},
   "outputs": [],
   "source": [
    "#204\n",
    "def print_coins():\n",
    "    for i in range(100):\n",
    "        print(\"비트코인\")"
   ]
  },
  {
   "cell_type": "code",
   "execution_count": null,
   "id": "a77573b9",
   "metadata": {},
   "outputs": [],
   "source": [
    "#205\n",
    "hello()\n",
    "def hello():\n",
    "    print(\"Hi\")\n",
    "# 함수가 정의되기 전 호출"
   ]
  },
  {
   "cell_type": "code",
   "execution_count": null,
   "id": "4fc497e6",
   "metadata": {},
   "outputs": [],
   "source": [
    "#206\n",
    "def message() :\n",
    "    print(\"A\")\n",
    "    print(\"B\")\n",
    "\n",
    "message()\n",
    "print(\"C\")\n",
    "message()\n",
    "# A-B-C-A-B"
   ]
  },
  {
   "cell_type": "code",
   "execution_count": null,
   "id": "3722c634",
   "metadata": {},
   "outputs": [],
   "source": [
    "#207\n",
    "print(\"A\")\n",
    "\n",
    "def message() :\n",
    "    print(\"B\")\n",
    "\n",
    "print(\"C\")\n",
    "message()\n",
    "# A-C-B"
   ]
  },
  {
   "cell_type": "code",
   "execution_count": null,
   "id": "85174b63",
   "metadata": {},
   "outputs": [],
   "source": [
    "#208\n",
    "print(\"A\")\n",
    "def message1() :\n",
    "    print(\"B\")\n",
    "print(\"C\")\n",
    "def message2() :\n",
    "    print(\"D\")\n",
    "message1()\n",
    "print(\"E\")\n",
    "message2()\n",
    "#A-C-B-E-D"
   ]
  },
  {
   "cell_type": "code",
   "execution_count": null,
   "id": "29a920a2",
   "metadata": {},
   "outputs": [],
   "source": [
    "#209\n",
    "def message1():\n",
    "    print(\"A\")\n",
    "\n",
    "def message2():\n",
    "    print(\"B\")\n",
    "    message1()\n",
    "\n",
    "message2()\n",
    "# B-A"
   ]
  },
  {
   "cell_type": "code",
   "execution_count": null,
   "id": "ea0e0dc9",
   "metadata": {},
   "outputs": [],
   "source": [
    "#210\n",
    "def message1():\n",
    "    print(\"A\")\n",
    "\n",
    "def message2():\n",
    "    print(\"B\")\n",
    "\n",
    "def message3():\n",
    "    for i in range (3) :\n",
    "        message2()\n",
    "        print(\"C\")\n",
    "    message1()\n",
    "\n",
    "message3()\n",
    "# B-C-B-C-B-C-A"
   ]
  },
  {
   "cell_type": "code",
   "execution_count": null,
   "id": "c1901348",
   "metadata": {},
   "outputs": [],
   "source": [
    "#211\n",
    "def 함수(문자열) :\n",
    "    print(문자열)\n",
    "\n",
    "함수(\"안녕\")\n",
    "함수(\"Hi\")\n",
    "# 안녕-HI"
   ]
  },
  {
   "cell_type": "code",
   "execution_count": null,
   "id": "a1c6e160",
   "metadata": {},
   "outputs": [],
   "source": [
    "#212\n",
    "def 함수(a, b) :\n",
    "    print(a + b)\n",
    "\n",
    "함수(3, 4)\n",
    "함수(7, 8)\n",
    "# 7-15"
   ]
  },
  {
   "cell_type": "code",
   "execution_count": 40,
   "id": "1c64d1b4",
   "metadata": {},
   "outputs": [
    {
     "ename": "TypeError",
     "evalue": "함수() missing 1 required positional argument: '문자열'",
     "output_type": "error",
     "traceback": [
      "\u001b[1;31m---------------------------------------------------------------------------\u001b[0m",
      "\u001b[1;31mTypeError\u001b[0m                                 Traceback (most recent call last)",
      "Cell \u001b[1;32mIn[40], line 5\u001b[0m\n\u001b[0;32m      2\u001b[0m \u001b[38;5;28;01mdef\u001b[39;00m \u001b[38;5;21m함수\u001b[39m(문자열) :\n\u001b[0;32m      3\u001b[0m     \u001b[38;5;28mprint\u001b[39m(문자열)\n\u001b[1;32m----> 5\u001b[0m 함수()\n",
      "\u001b[1;31mTypeError\u001b[0m: 함수() missing 1 required positional argument: '문자열'"
     ]
    }
   ],
   "source": [
    "#213\n",
    "def 함수(문자열) :\n",
    "    print(문자열)\n",
    "\n",
    "함수()\n",
    "# 함수 호출 시 파라미터 빠짐"
   ]
  },
  {
   "cell_type": "code",
   "execution_count": null,
   "id": "a3709b3b",
   "metadata": {},
   "outputs": [],
   "source": [
    "#214\n",
    "def 함수(a, b) :\n",
    "    print(a + b)\n",
    "\n",
    "함수(\"안녕\", 3)\n",
    "# 함수 파라미터 타입이 맞지 않음"
   ]
  },
  {
   "cell_type": "code",
   "execution_count": 42,
   "id": "1c1c7497",
   "metadata": {},
   "outputs": [
    {
     "name": "stdout",
     "output_type": "stream",
     "text": [
      "c\n",
      "c.D\n"
     ]
    }
   ],
   "source": [
    "#215\n",
    "def print_with_smile(a):\n",
    "    print(a+\".D\")\n",
    "    \n",
    "print_with_smile(input())"
   ]
  },
  {
   "cell_type": "code",
   "execution_count": 44,
   "id": "776cb17c",
   "metadata": {},
   "outputs": [
    {
     "name": "stdout",
     "output_type": "stream",
     "text": [
      "안녕하세요.D\n"
     ]
    }
   ],
   "source": [
    "#216\n",
    "def print_with_smile(a):\n",
    "    print(a+\".D\")\n",
    "    \n",
    "print_with_smile(\"안녕하세요\")"
   ]
  },
  {
   "cell_type": "code",
   "execution_count": 50,
   "id": "d54aae19",
   "metadata": {},
   "outputs": [
    {
     "name": "stdout",
     "output_type": "stream",
     "text": [
      "30\n",
      "39.0\n"
     ]
    }
   ],
   "source": [
    "#217\n",
    "def print_upper_price(price):\n",
    "    print(int(price)*1.3)\n",
    "\n",
    "print_upper_price(input())"
   ]
  },
  {
   "cell_type": "code",
   "execution_count": 51,
   "id": "ab9b1a81",
   "metadata": {},
   "outputs": [],
   "source": [
    "#218\n",
    "def print_sum(a, b):\n",
    "    print(a+b)"
   ]
  },
  {
   "cell_type": "code",
   "execution_count": 53,
   "id": "23186ef6",
   "metadata": {},
   "outputs": [
    {
     "name": "stdout",
     "output_type": "stream",
     "text": [
      "3+4=7\n",
      "3-4=-1\n",
      "3*4=12\n",
      "3/4=0.75\n"
     ]
    }
   ],
   "source": [
    "#219\n",
    "def print_arithmetic_operation(a, b):\n",
    "    print(f'{a}+{b}={a+b}')\n",
    "    print(f'{a}-{b}={a-b}')\n",
    "    print(f'{a}*{b}={a*b}')\n",
    "    print(f'{a}/{b}={a/b}')\n",
    "print_arithmetic_operation(3, 4)"
   ]
  },
  {
   "cell_type": "code",
   "execution_count": 67,
   "id": "1e34506d",
   "metadata": {},
   "outputs": [
    {
     "name": "stdout",
     "output_type": "stream",
     "text": [
      "9\n"
     ]
    }
   ],
   "source": [
    "#220\n",
    "def print_max(a, b, c):\n",
    "    max_d = 0\n",
    "    \n",
    "    if a >= b:\n",
    "        max_d = a\n",
    "    \n",
    "    if b > max_d:\n",
    "        max_d = b\n",
    "    \n",
    "    if c > max_d:\n",
    "        max_d = c\n",
    "    print(max_d)\n",
    "    \n",
    "print_max(6, 8, 9)"
   ]
  },
  {
   "cell_type": "code",
   "execution_count": 72,
   "id": "57cf76cc",
   "metadata": {},
   "outputs": [
    {
     "name": "stdout",
     "output_type": "stream",
     "text": [
      "nohtyp\n"
     ]
    }
   ],
   "source": [
    "#221\n",
    "def print_reverse(s):\n",
    "    print(s[::-1])\n",
    "    \n",
    "print_reverse(\"python\")"
   ]
  },
  {
   "cell_type": "code",
   "execution_count": 1,
   "id": "b8597213",
   "metadata": {},
   "outputs": [
    {
     "name": "stdout",
     "output_type": "stream",
     "text": [
      "2.0\n"
     ]
    }
   ],
   "source": [
    "#222\n",
    "def print_score(s):\n",
    "    print(sum(s)/len(s))\n",
    "    \n",
    "print_score([1, 2, 3])"
   ]
  },
  {
   "cell_type": "code",
   "execution_count": 8,
   "id": "93314641",
   "metadata": {},
   "outputs": [
    {
     "name": "stdout",
     "output_type": "stream",
     "text": [
      "2\n",
      "10\n",
      "12\n"
     ]
    }
   ],
   "source": [
    "#223\n",
    "def print_even(s):\n",
    "    for i in s:\n",
    "        if i%2 == 0:\n",
    "            print(i)\n",
    "\n",
    "print_even([1, 3, 2, 10, 12, 11, 15])"
   ]
  },
  {
   "cell_type": "code",
   "execution_count": 11,
   "id": "24945c19",
   "metadata": {},
   "outputs": [
    {
     "name": "stdout",
     "output_type": "stream",
     "text": [
      "이름\n",
      "나이\n",
      "성별\n"
     ]
    }
   ],
   "source": [
    "#224\n",
    "def print_keys(s):\n",
    "    \n",
    "    for i in s.keys():\n",
    "        print(i)\n",
    "\n",
    "print_keys ({\"이름\":\"김말똥\", \"나이\":30, \"성별\":0})"
   ]
  },
  {
   "cell_type": "code",
   "execution_count": 12,
   "id": "fd04a6c2",
   "metadata": {},
   "outputs": [
    {
     "name": "stdout",
     "output_type": "stream",
     "text": [
      "[100, 130, 100, 100]\n"
     ]
    }
   ],
   "source": [
    "#225\n",
    "my_dict = {\"10/26\" : [100, 130, 100, 100],\n",
    "           \"10/27\" : [10, 12, 10, 11]}\n",
    "\n",
    "def print_value_by_key(dic_t, d):\n",
    "    print(dic_t[d])\n",
    "\n",
    "print_value_by_key  (my_dict, \"10/26\")"
   ]
  },
  {
   "cell_type": "code",
   "execution_count": 14,
   "id": "72248856",
   "metadata": {},
   "outputs": [
    {
     "name": "stdout",
     "output_type": "stream",
     "text": [
      "아이엠어보\n",
      "이유알어걸\n"
     ]
    }
   ],
   "source": [
    "#226-풀이다름\n",
    "def print_5xn(s):\n",
    "    for i in range(0,len(s),5):\n",
    "        print(s[i:i+5])\n",
    "\n",
    "print_5xn(\"아이엠어보이유알어걸\")"
   ]
  },
  {
   "cell_type": "code",
   "execution_count": 15,
   "id": "6b3660f0",
   "metadata": {},
   "outputs": [
    {
     "name": "stdout",
     "output_type": "stream",
     "text": [
      "아이엠\n",
      "어보이\n",
      "유알어\n",
      "걸\n"
     ]
    }
   ],
   "source": [
    "#227-풀이다름\n",
    "def printmxn(s, a):\n",
    "    for i in range(0, len(s), a):\n",
    "        print(s[i:i+a])\n",
    "\n",
    "printmxn(\"아이엠어보이유알어걸\", 3)"
   ]
  },
  {
   "cell_type": "code",
   "execution_count": 19,
   "id": "0b70afa3",
   "metadata": {},
   "outputs": [
    {
     "name": "stdout",
     "output_type": "stream",
     "text": [
      "916667\n"
     ]
    }
   ],
   "source": [
    "#228\n",
    "def calc_monthly_salary(annual_salary):\n",
    "    print(round(annual_salary/12))\n",
    "\n",
    "calc_monthly_salary(11000000.12)"
   ]
  },
  {
   "cell_type": "code",
   "execution_count": null,
   "id": "e33386f7",
   "metadata": {},
   "outputs": [],
   "source": [
    "#229\n",
    "def my_print (a, b) :\n",
    "    print(\"왼쪽:\", a)\n",
    "    print(\"오른쪽:\", b)\n",
    "\n",
    "my_print(a=100, b=200)\n",
    "# 왼쪽:100\n",
    "# 오른쪽: 200"
   ]
  },
  {
   "cell_type": "code",
   "execution_count": null,
   "id": "e82a6bc1",
   "metadata": {},
   "outputs": [],
   "source": [
    "#230\n",
    "def my_print (a, b) :\n",
    "    print(\"왼쪽:\", a)\n",
    "    print(\"오른쪽:\", b)\n",
    "\n",
    "my_print(b=100, a=200)\n",
    "# 왼쪽: 200\n",
    "# 오른쪽: 100"
   ]
  },
  {
   "cell_type": "code",
   "execution_count": null,
   "id": "f2841508",
   "metadata": {},
   "outputs": [],
   "source": [
    "#231\n",
    "def n_plus_1 (n) :\n",
    "    result = n + 1\n",
    "\n",
    "n_plus_1(3)\n",
    "print (result)\n",
    "# 함수내 로컬 변수를 함수밖에서 호출"
   ]
  },
  {
   "cell_type": "code",
   "execution_count": 21,
   "id": "e17df5e7",
   "metadata": {},
   "outputs": [
    {
     "name": "stdout",
     "output_type": "stream",
     "text": [
      "http://www.naver.com\n"
     ]
    }
   ],
   "source": [
    "#232\n",
    "def make_url(s):\n",
    "    return \"http://www.\"+s+\".com\"\n",
    "url = make_url(\"naver\")\n",
    "print(url)"
   ]
  },
  {
   "cell_type": "code",
   "execution_count": 22,
   "id": "f1bc94cb",
   "metadata": {},
   "outputs": [
    {
     "name": "stdout",
     "output_type": "stream",
     "text": [
      "['a', 'b', 'c', 'd']\n"
     ]
    }
   ],
   "source": [
    "#233\n",
    "def make_list(s):\n",
    "    return list(s)\n",
    "\n",
    "print(make_list(\"abcd\"))"
   ]
  },
  {
   "cell_type": "code",
   "execution_count": 23,
   "id": "10f6d220",
   "metadata": {},
   "outputs": [
    {
     "name": "stdout",
     "output_type": "stream",
     "text": [
      "[4, 6, 8]\n"
     ]
    }
   ],
   "source": [
    "#234\n",
    "def pickup_even(li):\n",
    "    e_li=[]\n",
    "    for i in li:\n",
    "        if int(i)%2 == 0:\n",
    "            e_li.append(i)\n",
    "    return e_li\n",
    "\n",
    "even_list = pickup_even([3, 4, 5, 6, 7, 8])\n",
    "print(even_list)"
   ]
  },
  {
   "cell_type": "code",
   "execution_count": 24,
   "id": "8ec2d5a4",
   "metadata": {},
   "outputs": [
    {
     "name": "stdout",
     "output_type": "stream",
     "text": [
      "1234567\n"
     ]
    }
   ],
   "source": [
    "#235\n",
    "def convert_int(s):\n",
    "    return int(s.replace(',',''))\n",
    "\n",
    "print(convert_int(\"1,234,567\"))"
   ]
  },
  {
   "cell_type": "code",
   "execution_count": 25,
   "id": "c3ca0642",
   "metadata": {},
   "outputs": [
    {
     "name": "stdout",
     "output_type": "stream",
     "text": [
      "22\n"
     ]
    }
   ],
   "source": [
    "#236\n",
    "def 함수(num) :\n",
    "    return num + 4\n",
    "\n",
    "a = 함수(10)\n",
    "b = 함수(a)\n",
    "c = 함수(b)\n",
    "print(c)\n",
    "#22"
   ]
  },
  {
   "cell_type": "code",
   "execution_count": 26,
   "id": "5f140ede",
   "metadata": {},
   "outputs": [
    {
     "name": "stdout",
     "output_type": "stream",
     "text": [
      "22\n"
     ]
    }
   ],
   "source": [
    "#237\n",
    "def 함수(num) :\n",
    "    return num + 4\n",
    "\n",
    "c = 함수(함수(함수(10)))\n",
    "print(c)\n",
    "#22"
   ]
  },
  {
   "cell_type": "code",
   "execution_count": null,
   "id": "5a7c83b6",
   "metadata": {},
   "outputs": [],
   "source": [
    "#238\n",
    "def 함수1(num) :\n",
    "    return num + 4\n",
    "\n",
    "def 함수2(num) :\n",
    "    return num * 10\n",
    "\n",
    "a = 함수1(10)\n",
    "c = 함수2(a)\n",
    "print(c)\n",
    "# 140"
   ]
  },
  {
   "cell_type": "code",
   "execution_count": null,
   "id": "949d5547",
   "metadata": {},
   "outputs": [],
   "source": [
    "#239\n",
    "def 함수1(num) :\n",
    "    return num + 4\n",
    "\n",
    "def 함수2(num) :\n",
    "    num = num + 2\n",
    "    return 함수1(num)\n",
    "\n",
    "c = 함수2(10)\n",
    "print(c)\n",
    "# 16"
   ]
  },
  {
   "cell_type": "code",
   "execution_count": null,
   "id": "0fd16a17",
   "metadata": {},
   "outputs": [],
   "source": [
    "#240\n",
    "def 함수0(num) :\n",
    "    return num * 2\n",
    "\n",
    "def 함수1(num) :\n",
    "    return 함수0(num + 2)\n",
    "\n",
    "def 함수2(num) :\n",
    "    num = num + 10\n",
    "    return 함수1(num)\n",
    "\n",
    "c = 함수2(2)\n",
    "print(c)\n",
    "#28"
   ]
  },
  {
   "cell_type": "code",
   "execution_count": 30,
   "id": "4df84fbb",
   "metadata": {},
   "outputs": [
    {
     "data": {
      "text/plain": [
       "'2023-11-27 14-18-28'"
      ]
     },
     "execution_count": 30,
     "metadata": {},
     "output_type": "execute_result"
    }
   ],
   "source": [
    "#241\n",
    "import datetime\n",
    "datetime.datetime.now().strftime(\"%Y-%m-%d %H-%M-%S\")"
   ]
  },
  {
   "cell_type": "code",
   "execution_count": 34,
   "id": "184dce2b",
   "metadata": {},
   "outputs": [
    {
     "name": "stdout",
     "output_type": "stream",
     "text": [
      "<class 'datetime.datetime'>\n"
     ]
    }
   ],
   "source": [
    "#242\n",
    "import datetime\n",
    "print(type(datetime.datetime.now()))"
   ]
  },
  {
   "cell_type": "code",
   "execution_count": 41,
   "id": "8d71ba2b",
   "metadata": {},
   "outputs": [
    {
     "name": "stdout",
     "output_type": "stream",
     "text": [
      "2023-11-22\n",
      "2023-11-23\n",
      "2023-11-24\n",
      "2023-11-25\n",
      "2023-11-26\n"
     ]
    }
   ],
   "source": [
    "#243\n",
    "import datetime\n",
    "\n",
    "today = datetime.datetime.now()\n",
    "\n",
    "for i in range(5,0,-1):\n",
    "    print((today - datetime.timedelta(i)).strftime(\"%Y-%m-%d\"))\n",
    "    "
   ]
  },
  {
   "cell_type": "code",
   "execution_count": 45,
   "id": "26c26cd8",
   "metadata": {},
   "outputs": [
    {
     "name": "stdout",
     "output_type": "stream",
     "text": [
      "16:58:44\n"
     ]
    }
   ],
   "source": [
    "#244\n",
    "import datetime\n",
    "\n",
    "print(datetime.datetime.now().strftime(\"%H:%M:%S\"))"
   ]
  },
  {
   "cell_type": "code",
   "execution_count": 47,
   "id": "873f76f5",
   "metadata": {},
   "outputs": [
    {
     "name": "stdout",
     "output_type": "stream",
     "text": [
      "2020-05-04 00:00:00\n"
     ]
    }
   ],
   "source": [
    "#245\n",
    "import datetime\n",
    "\n",
    "s_time = \"2020-05-04\"\n",
    "print(datetime.datetime.strptime(\"2020-05-04\", \"%Y-%m-%d\"))"
   ]
  },
  {
   "cell_type": "code",
   "execution_count": 50,
   "id": "5c18ea24",
   "metadata": {},
   "outputs": [
    {
     "name": "stdout",
     "output_type": "stream",
     "text": [
      "2023-11-27 17:26:06.527705\n",
      "2023-11-27 17:26:07.528916\n",
      "2023-11-27 17:26:08.530073\n",
      "2023-11-27 17:26:09.531215\n",
      "2023-11-27 17:26:10.532022\n",
      "2023-11-27 17:26:11.532881\n",
      "2023-11-27 17:26:12.533933\n"
     ]
    },
    {
     "ename": "KeyboardInterrupt",
     "evalue": "",
     "output_type": "error",
     "traceback": [
      "\u001b[1;31m---------------------------------------------------------------------------\u001b[0m",
      "\u001b[1;31mKeyboardInterrupt\u001b[0m                         Traceback (most recent call last)",
      "Cell \u001b[1;32mIn[50], line 7\u001b[0m\n\u001b[0;32m      5\u001b[0m \u001b[38;5;28;01mwhile\u001b[39;00m \u001b[38;5;241m1\u001b[39m:\n\u001b[0;32m      6\u001b[0m     \u001b[38;5;28mprint\u001b[39m(datetime\u001b[38;5;241m.\u001b[39mdatetime\u001b[38;5;241m.\u001b[39mnow())\n\u001b[1;32m----> 7\u001b[0m     time\u001b[38;5;241m.\u001b[39msleep(\u001b[38;5;241m1\u001b[39m)\n",
      "\u001b[1;31mKeyboardInterrupt\u001b[0m: "
     ]
    }
   ],
   "source": [
    "#246\n",
    "import datetime\n",
    "import time\n",
    "\n",
    "while 1:\n",
    "    print(datetime.datetime.now())\n",
    "    time.sleep(1)\n"
   ]
  },
  {
   "cell_type": "markdown",
   "id": "8f594867",
   "metadata": {},
   "source": [
    "#247\n",
    "1. import 모듈\n",
    "2. import 모듈 as 이름\n",
    "3. from 모듈 import 함수명\n",
    "4. from 모듈 import *"
   ]
  },
  {
   "cell_type": "code",
   "execution_count": 51,
   "id": "88d9b653",
   "metadata": {},
   "outputs": [
    {
     "name": "stdout",
     "output_type": "stream",
     "text": [
      "C:\\workspace\\python\n"
     ]
    }
   ],
   "source": [
    "#248\n",
    "import os\n",
    "\n",
    "print(os.getcwd())"
   ]
  },
  {
   "cell_type": "code",
   "execution_count": 5,
   "id": "b58599e0",
   "metadata": {},
   "outputs": [
    {
     "name": "stdout",
     "output_type": "stream",
     "text": [
      "['t.txt']\n",
      "['a.txt']\n"
     ]
    }
   ],
   "source": [
    "#249\n",
    "import os\n",
    "\n",
    "t_dir= os.getcwd() + \"/temp/\" \n",
    "f = open(t_dir+\"t.txt\", 'w')\n",
    "f.close()\n",
    "print(os.listdir(t_dir))\n",
    "\n",
    "os.rename(t_dir+\"t.txt\", t_dir+\"a.txt\")\n",
    "print(os.listdir(t_dir))"
   ]
  },
  {
   "cell_type": "code",
   "execution_count": 20,
   "id": "92ba17c7",
   "metadata": {},
   "outputs": [
    {
     "name": "stdout",
     "output_type": "stream",
     "text": [
      "0.00\n",
      "0.10\n",
      "0.20\n",
      "0.30\n",
      "0.40\n",
      "0.50\n",
      "0.60\n",
      "0.70\n",
      "0.80\n",
      "0.90\n",
      "1.00\n",
      "1.10\n",
      "1.20\n",
      "1.30\n",
      "1.40\n",
      "1.50\n",
      "1.60\n",
      "1.70\n",
      "1.80\n",
      "1.90\n",
      "2.00\n",
      "2.10\n",
      "2.20\n",
      "2.30\n",
      "2.40\n",
      "2.50\n",
      "2.60\n",
      "2.70\n",
      "2.80\n",
      "2.90\n",
      "3.00\n",
      "3.10\n",
      "3.20\n",
      "3.30\n",
      "3.40\n",
      "3.50\n",
      "3.60\n",
      "3.70\n",
      "3.80\n",
      "3.90\n",
      "4.00\n",
      "4.10\n",
      "4.20\n",
      "4.30\n",
      "4.40\n",
      "4.50\n",
      "4.60\n",
      "4.70\n",
      "4.80\n",
      "4.90\n"
     ]
    }
   ],
   "source": [
    "#250\n",
    "import numpy as np\n",
    "for i in np.arange(0, 5, 0.1):\n",
    "    print(f'{i:0.2f}')"
   ]
  },
  {
   "cell_type": "code",
   "execution_count": null,
   "id": "9dc2415a",
   "metadata": {},
   "outputs": [],
   "source": [
    "#251\n"
   ]
  },
  {
   "cell_type": "code",
   "execution_count": null,
   "id": "5a778977",
   "metadata": {},
   "outputs": [],
   "source": [
    "#252\n",
    "class Human:\n",
    "    "
   ]
  },
  {
   "cell_type": "code",
   "execution_count": null,
   "id": "b0f01832",
   "metadata": {},
   "outputs": [],
   "source": [
    "#253\n",
    "class Human:\n",
    "    pass\n",
    "\n",
    "areum = Human()"
   ]
  },
  {
   "cell_type": "code",
   "execution_count": 23,
   "id": "8041d5b6",
   "metadata": {},
   "outputs": [
    {
     "name": "stdout",
     "output_type": "stream",
     "text": [
      "응애응애\n"
     ]
    }
   ],
   "source": [
    "#254\n",
    "class Human:\n",
    "    def __init__(self):\n",
    "        print(\"응애응애\")\n",
    "    \n",
    "areum = Human()"
   ]
  },
  {
   "cell_type": "code",
   "execution_count": 26,
   "id": "77ee671e",
   "metadata": {},
   "outputs": [
    {
     "name": "stdout",
     "output_type": "stream",
     "text": [
      "아름 25 여자\n"
     ]
    }
   ],
   "source": [
    "#255\n",
    "class Human:\n",
    "    def __init__(self, name, age, sex):\n",
    "        self.name = name\n",
    "        self.age = age\n",
    "        self.sex = sex\n",
    "\n",
    "areum = Human(\"아름\", 25, \"여자\")\n",
    "print(areum.name, areum.age, areum.sex)"
   ]
  },
  {
   "cell_type": "code",
   "execution_count": null,
   "id": "b5476b64",
   "metadata": {},
   "outputs": [],
   "source": [
    "#256"
   ]
  },
  {
   "cell_type": "code",
   "execution_count": null,
   "id": "2969828b",
   "metadata": {},
   "outputs": [],
   "source": [
    "#257"
   ]
  },
  {
   "cell_type": "code",
   "execution_count": null,
   "id": "1b952ee2",
   "metadata": {},
   "outputs": [],
   "source": [
    "#258"
   ]
  },
  {
   "cell_type": "code",
   "execution_count": null,
   "id": "b4feca5a",
   "metadata": {},
   "outputs": [],
   "source": [
    "#259"
   ]
  },
  {
   "cell_type": "code",
   "execution_count": null,
   "id": "ba3c55d8",
   "metadata": {},
   "outputs": [],
   "source": [
    "#260"
   ]
  },
  {
   "cell_type": "code",
   "execution_count": null,
   "id": "778d5cac",
   "metadata": {},
   "outputs": [],
   "source": [
    "#261"
   ]
  },
  {
   "cell_type": "code",
   "execution_count": null,
   "id": "f53482dc",
   "metadata": {},
   "outputs": [],
   "source": [
    "#262"
   ]
  },
  {
   "cell_type": "code",
   "execution_count": null,
   "id": "a2e14fd3",
   "metadata": {},
   "outputs": [],
   "source": [
    "#263"
   ]
  },
  {
   "cell_type": "code",
   "execution_count": null,
   "id": "1dd95887",
   "metadata": {},
   "outputs": [],
   "source": [
    "#264"
   ]
  },
  {
   "cell_type": "code",
   "execution_count": null,
   "id": "b10a1318",
   "metadata": {},
   "outputs": [],
   "source": [
    "#265"
   ]
  },
  {
   "cell_type": "code",
   "execution_count": null,
   "id": "b5075b45",
   "metadata": {},
   "outputs": [],
   "source": [
    "#266"
   ]
  },
  {
   "cell_type": "code",
   "execution_count": null,
   "id": "11d1a825",
   "metadata": {},
   "outputs": [],
   "source": [
    "#267"
   ]
  },
  {
   "cell_type": "code",
   "execution_count": null,
   "id": "2aec9246",
   "metadata": {},
   "outputs": [],
   "source": [
    "#268"
   ]
  },
  {
   "cell_type": "code",
   "execution_count": null,
   "id": "138380d8",
   "metadata": {},
   "outputs": [],
   "source": [
    "#269"
   ]
  },
  {
   "cell_type": "code",
   "execution_count": null,
   "id": "578a0431",
   "metadata": {},
   "outputs": [],
   "source": [
    "#270"
   ]
  },
  {
   "cell_type": "code",
   "execution_count": null,
   "id": "53e31e14",
   "metadata": {},
   "outputs": [],
   "source": [
    "#271"
   ]
  },
  {
   "cell_type": "code",
   "execution_count": null,
   "id": "f44aadd9",
   "metadata": {},
   "outputs": [],
   "source": [
    "#272"
   ]
  },
  {
   "cell_type": "code",
   "execution_count": null,
   "id": "998abb7e",
   "metadata": {},
   "outputs": [],
   "source": [
    "#273"
   ]
  },
  {
   "cell_type": "code",
   "execution_count": null,
   "id": "92fd11ed",
   "metadata": {},
   "outputs": [],
   "source": [
    "#274"
   ]
  },
  {
   "cell_type": "code",
   "execution_count": null,
   "id": "92efcd9a",
   "metadata": {},
   "outputs": [],
   "source": [
    "#275"
   ]
  },
  {
   "cell_type": "code",
   "execution_count": null,
   "id": "aae86805",
   "metadata": {},
   "outputs": [],
   "source": [
    "#276"
   ]
  },
  {
   "cell_type": "code",
   "execution_count": null,
   "id": "54810117",
   "metadata": {},
   "outputs": [],
   "source": [
    "#277"
   ]
  },
  {
   "cell_type": "code",
   "execution_count": null,
   "id": "6832ff0b",
   "metadata": {},
   "outputs": [],
   "source": [
    "#278"
   ]
  },
  {
   "cell_type": "code",
   "execution_count": null,
   "id": "5c1b5c4e",
   "metadata": {},
   "outputs": [],
   "source": [
    "#279"
   ]
  },
  {
   "cell_type": "code",
   "execution_count": null,
   "id": "c10c41ed",
   "metadata": {},
   "outputs": [],
   "source": [
    "#280"
   ]
  },
  {
   "cell_type": "code",
   "execution_count": null,
   "id": "5e6c3538",
   "metadata": {},
   "outputs": [],
   "source": [
    "#281"
   ]
  },
  {
   "cell_type": "code",
   "execution_count": null,
   "id": "ac8e9faa",
   "metadata": {},
   "outputs": [],
   "source": [
    "#282"
   ]
  },
  {
   "cell_type": "code",
   "execution_count": null,
   "id": "1a47944f",
   "metadata": {},
   "outputs": [],
   "source": [
    "#283"
   ]
  },
  {
   "cell_type": "code",
   "execution_count": null,
   "id": "2acaee02",
   "metadata": {},
   "outputs": [],
   "source": [
    "#284"
   ]
  },
  {
   "cell_type": "code",
   "execution_count": null,
   "id": "54a7b2de",
   "metadata": {},
   "outputs": [],
   "source": [
    "#285"
   ]
  },
  {
   "cell_type": "code",
   "execution_count": null,
   "id": "6c50a4b6",
   "metadata": {},
   "outputs": [],
   "source": [
    "#286"
   ]
  },
  {
   "cell_type": "code",
   "execution_count": null,
   "id": "87293b11",
   "metadata": {},
   "outputs": [],
   "source": [
    "#287"
   ]
  },
  {
   "cell_type": "code",
   "execution_count": null,
   "id": "0d1d7dbc",
   "metadata": {},
   "outputs": [],
   "source": [
    "#288"
   ]
  },
  {
   "cell_type": "code",
   "execution_count": null,
   "id": "ae96423e",
   "metadata": {},
   "outputs": [],
   "source": [
    "#289"
   ]
  },
  {
   "cell_type": "code",
   "execution_count": null,
   "id": "64d3d86d",
   "metadata": {},
   "outputs": [],
   "source": [
    "#290"
   ]
  },
  {
   "cell_type": "code",
   "execution_count": null,
   "id": "c8a12d12",
   "metadata": {},
   "outputs": [],
   "source": [
    "#291"
   ]
  },
  {
   "cell_type": "code",
   "execution_count": null,
   "id": "cf2c2e57",
   "metadata": {},
   "outputs": [],
   "source": [
    "#292"
   ]
  },
  {
   "cell_type": "code",
   "execution_count": null,
   "id": "86c731de",
   "metadata": {},
   "outputs": [],
   "source": [
    "#293"
   ]
  },
  {
   "cell_type": "code",
   "execution_count": null,
   "id": "dc54c985",
   "metadata": {},
   "outputs": [],
   "source": [
    "#294"
   ]
  },
  {
   "cell_type": "code",
   "execution_count": null,
   "id": "9cddb21f",
   "metadata": {},
   "outputs": [],
   "source": [
    "#295"
   ]
  },
  {
   "cell_type": "code",
   "execution_count": null,
   "id": "998708a4",
   "metadata": {},
   "outputs": [],
   "source": [
    "#296"
   ]
  },
  {
   "cell_type": "code",
   "execution_count": null,
   "id": "c1007604",
   "metadata": {},
   "outputs": [],
   "source": [
    "#297"
   ]
  },
  {
   "cell_type": "code",
   "execution_count": null,
   "id": "d6ff48f6",
   "metadata": {},
   "outputs": [],
   "source": [
    "#298"
   ]
  },
  {
   "cell_type": "code",
   "execution_count": null,
   "id": "bbd747a0",
   "metadata": {},
   "outputs": [],
   "source": [
    "#299"
   ]
  },
  {
   "cell_type": "code",
   "execution_count": null,
   "id": "4e1f88b7",
   "metadata": {},
   "outputs": [],
   "source": [
    "#300"
   ]
  }
 ],
 "metadata": {
  "kernelspec": {
   "display_name": "Python 3 (ipykernel)",
   "language": "python",
   "name": "python3"
  },
  "language_info": {
   "codemirror_mode": {
    "name": "ipython",
    "version": 3
   },
   "file_extension": ".py",
   "mimetype": "text/x-python",
   "name": "python",
   "nbconvert_exporter": "python",
   "pygments_lexer": "ipython3",
   "version": "3.11.5"
  },
  "toc": {
   "base_numbering": 1,
   "nav_menu": {},
   "number_sections": true,
   "sideBar": true,
   "skip_h1_title": false,
   "title_cell": "Table of Contents",
   "title_sidebar": "Contents",
   "toc_cell": false,
   "toc_position": {},
   "toc_section_display": true,
   "toc_window_display": false
  },
  "varInspector": {
   "cols": {
    "lenName": 16,
    "lenType": 16,
    "lenVar": 40
   },
   "kernels_config": {
    "python": {
     "delete_cmd_postfix": "",
     "delete_cmd_prefix": "del ",
     "library": "var_list.py",
     "varRefreshCmd": "print(var_dic_list())"
    },
    "r": {
     "delete_cmd_postfix": ") ",
     "delete_cmd_prefix": "rm(",
     "library": "var_list.r",
     "varRefreshCmd": "cat(var_dic_list()) "
    }
   },
   "types_to_exclude": [
    "module",
    "function",
    "builtin_function_or_method",
    "instance",
    "_Feature"
   ],
   "window_display": false
  }
 },
 "nbformat": 4,
 "nbformat_minor": 5
}
