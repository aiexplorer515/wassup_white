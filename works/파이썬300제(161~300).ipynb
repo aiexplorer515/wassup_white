{
 "cells": [
  {
   "cell_type": "code",
   "execution_count": null,
   "id": "83c5ce5d",
   "metadata": {},
   "outputs": [],
   "source": [
    "#161\n",
    "for i in range(100):\n",
    "    print(i)"
   ]
  },
  {
   "cell_type": "code",
   "execution_count": null,
   "id": "06c6019b",
   "metadata": {},
   "outputs": [],
   "source": [
    "#162\n",
    "for i in range(2002,2051,4):\n",
    "    print(i)"
   ]
  },
  {
   "cell_type": "code",
   "execution_count": null,
   "id": "d6c8ff60",
   "metadata": {},
   "outputs": [],
   "source": [
    "#163\n",
    "for i in range(3, 31,3):\n",
    "    print(i)"
   ]
  },
  {
   "cell_type": "code",
   "execution_count": null,
   "id": "3dc39c5a",
   "metadata": {},
   "outputs": [],
   "source": [
    "#164\n",
    "for i in range(99,-1,-1):\n",
    "    print(i)"
   ]
  },
  {
   "cell_type": "code",
   "execution_count": null,
   "id": "c6f06f23",
   "metadata": {},
   "outputs": [],
   "source": [
    "#165\n",
    "for i in range(0, 10):\n",
    "    print(i/10)"
   ]
  },
  {
   "cell_type": "code",
   "execution_count": null,
   "id": "d124c68b",
   "metadata": {},
   "outputs": [],
   "source": [
    "#166\n",
    "for i in range(10):\n",
    "    print(f\"3x{i}={i*3}\")"
   ]
  },
  {
   "cell_type": "code",
   "execution_count": null,
   "id": "1b79cc7f",
   "metadata": {},
   "outputs": [],
   "source": [
    "#167\n",
    "for i in range(1,11,2):\n",
    "    print(f\"3x{i}={i*3}\")"
   ]
  },
  {
   "cell_type": "code",
   "execution_count": null,
   "id": "6a4d9e51",
   "metadata": {},
   "outputs": [],
   "source": [
    "#168\n",
    "s = 0\n",
    "for i in range(1, 11):\n",
    "    s += i\n",
    "print(s)"
   ]
  },
  {
   "cell_type": "code",
   "execution_count": null,
   "id": "907df627",
   "metadata": {},
   "outputs": [],
   "source": [
    "#169\n",
    "s = 0\n",
    "for i in range(1, 11, 2):\n",
    "    s += i\n",
    "print(s)"
   ]
  },
  {
   "cell_type": "code",
   "execution_count": null,
   "id": "5c7e8b2d",
   "metadata": {},
   "outputs": [],
   "source": [
    "#170\n",
    "s = 1\n",
    "for i in range(1, 11):\n",
    "    s *= i\n",
    "print(s)"
   ]
  },
  {
   "cell_type": "code",
   "execution_count": null,
   "id": "58ef27a2",
   "metadata": {},
   "outputs": [],
   "source": [
    "#171\n",
    "price_list = [32100, 32150, 32000, 32500]\n",
    "for i in price_list:\n",
    "    print(i)"
   ]
  },
  {
   "cell_type": "code",
   "execution_count": null,
   "id": "15de9938",
   "metadata": {},
   "outputs": [],
   "source": [
    "#172\n",
    "price_list = [32100, 32150, 32000, 32500]\n",
    "\n",
    "for i in range(0,4):\n",
    "    print(i, price_list[i])"
   ]
  },
  {
   "cell_type": "code",
   "execution_count": null,
   "id": "5e5d85b1",
   "metadata": {},
   "outputs": [],
   "source": [
    "#173\n",
    "price_list = [32100, 32150, 32000, 32500]\n",
    "for i in range(3,-1,-1):\n",
    "    print(i, price_list[3-i])"
   ]
  },
  {
   "cell_type": "code",
   "execution_count": null,
   "id": "0a187b49",
   "metadata": {},
   "outputs": [],
   "source": [
    "#174\n",
    "price_list = [32100, 32150, 32000, 32500]\n",
    "\n",
    "for i in range(1,4):\n",
    "    print(i*10+90, price_list[i])"
   ]
  },
  {
   "cell_type": "code",
   "execution_count": null,
   "id": "b050f073",
   "metadata": {},
   "outputs": [],
   "source": [
    "#175\n",
    "my_list = [\"가\", \"나\", \"다\", \"라\"]\n",
    "\n",
    "for i in range(3):\n",
    "    print(my_list[i], my_list[i+1])"
   ]
  },
  {
   "cell_type": "code",
   "execution_count": null,
   "id": "d5a1649f",
   "metadata": {},
   "outputs": [],
   "source": [
    "#176\n",
    "my_list = [\"가\", \"나\", \"다\", \"라\", \"마\"]\n",
    "for i in range(len(my_list)-2):\n",
    "    print(my_list[i], my_list[i+1], my_list[i+2])\n"
   ]
  },
  {
   "cell_type": "code",
   "execution_count": null,
   "id": "721fc45d",
   "metadata": {},
   "outputs": [],
   "source": [
    "#177\n",
    "my_list = [\"가\", \"나\", \"다\", \"라\"]\n",
    "\n",
    "for i  in range(len(my_list)-1, 0, -1):\n",
    "    print(my_list[i], my_list[i-1])"
   ]
  },
  {
   "cell_type": "code",
   "execution_count": null,
   "id": "9dc9425b",
   "metadata": {},
   "outputs": [],
   "source": [
    "#178\n",
    "my_list = [100, 200, 400, 800]\n",
    "\n",
    "for i in range(len(my_list)-1):\n",
    "    print(my_list[i+1]-my_list[i])"
   ]
  },
  {
   "cell_type": "code",
   "execution_count": null,
   "id": "f118da4b",
   "metadata": {},
   "outputs": [],
   "source": [
    "#179\n",
    "my_list = [100, 200, 400, 800, 1000, 1300]\n",
    "\n",
    "for i in range(len(my_list)-2):\n",
    "    print((my_list[i]+my_list[i+1]+my_list[i+2])/3)"
   ]
  },
  {
   "cell_type": "code",
   "execution_count": null,
   "id": "351bf135",
   "metadata": {},
   "outputs": [],
   "source": [
    "#180\n",
    "low_prices  = [100, 200, 400, 800, 1000]\n",
    "high_prices = [150, 300, 430, 880, 1000]\n",
    "volarility=[]\n",
    "\n",
    "for i in range(len(low_prices)):\n",
    "    volarility.append(high_prices[i] - low_prices[i])\n",
    "print(volarility)"
   ]
  },
  {
   "cell_type": "code",
   "execution_count": null,
   "id": "def71242",
   "metadata": {},
   "outputs": [],
   "source": [
    "#181\n",
    "apart=[['101호', '102호'],['201호', '202호'],['301호', '302호']]"
   ]
  },
  {
   "cell_type": "code",
   "execution_count": null,
   "id": "69826e50",
   "metadata": {},
   "outputs": [],
   "source": [
    "#182\n",
    "stock=[[\"시가\",100,200,300],[\"종가\",80,210,330]]"
   ]
  },
  {
   "cell_type": "code",
   "execution_count": null,
   "id": "4431d9a3",
   "metadata": {},
   "outputs": [],
   "source": [
    "#183\n",
    "stock={'시가':[100,200,300], '종가':[80,210,330]}"
   ]
  },
  {
   "cell_type": "code",
   "execution_count": null,
   "id": "97fd5e26",
   "metadata": {},
   "outputs": [],
   "source": [
    "#184\n",
    "stock={'10/10':[80,110,70,90],'10/11':[210,230,190,200]}"
   ]
  },
  {
   "cell_type": "code",
   "execution_count": null,
   "id": "8c60ad56",
   "metadata": {},
   "outputs": [],
   "source": [
    "#185\n",
    "apart = [ [101, 102], [201, 202], [301, 302] ]\n",
    "for i in apart:\n",
    "    for j in i:\n",
    "        print(f'{j}호')"
   ]
  },
  {
   "cell_type": "code",
   "execution_count": null,
   "id": "8758c821",
   "metadata": {},
   "outputs": [],
   "source": [
    "#186\n",
    "apart = [ [101, 102], [201, 202], [301, 302] ]\n",
    "\n",
    "for i in apart[::-1]:\n",
    "    for j in i:\n",
    "        print(f'{j}호')"
   ]
  },
  {
   "cell_type": "code",
   "execution_count": null,
   "id": "eabca6d4",
   "metadata": {},
   "outputs": [],
   "source": [
    "#187\n",
    "apart = [ [101, 102], [201, 202], [301, 302] ]\n",
    "\n",
    "for i in apart[::-1]:\n",
    "    for j in i[::-1]:\n",
    "        print(f'{j}호')"
   ]
  },
  {
   "cell_type": "code",
   "execution_count": null,
   "id": "ca1a8580",
   "metadata": {},
   "outputs": [],
   "source": [
    "#188\n",
    "apart = [ [101, 102], [201, 202], [301, 302] ]\n",
    "\n",
    "for i in apart:\n",
    "    for j in i:\n",
    "        print(f'{j}호')\n",
    "        print(\"-\"*5)"
   ]
  },
  {
   "cell_type": "code",
   "execution_count": null,
   "id": "13e07444",
   "metadata": {},
   "outputs": [],
   "source": [
    "#189\n",
    "apart = [ [101, 102], [201, 202], [301, 302] ]\n",
    "for i in apart:\n",
    "    for j in i:\n",
    "        print(f'{j}호')\n",
    "    print(\"-\"*5)"
   ]
  },
  {
   "cell_type": "code",
   "execution_count": null,
   "id": "ee4574ce",
   "metadata": {},
   "outputs": [],
   "source": [
    "#190\n",
    "apart = [ [101, 102], [201, 202], [301, 302] ]\n",
    "for i in apart:\n",
    "    for j in i:\n",
    "        print(f'{j}호')\n",
    "print(\"-\"*5)"
   ]
  },
  {
   "cell_type": "code",
   "execution_count": null,
   "id": "4576bc44",
   "metadata": {},
   "outputs": [],
   "source": [
    "#191\n",
    "data = [\n",
    "    [ 2000,  3050,  2050,  1980],\n",
    "    [ 7500,  2050,  2050,  1980],\n",
    "    [15450, 15050, 15550, 14900]\n",
    "]\n",
    "for i in data:\n",
    "    for j in i:\n",
    "        print(j*1.00014)"
   ]
  },
  {
   "cell_type": "code",
   "execution_count": null,
   "id": "0467f350",
   "metadata": {},
   "outputs": [],
   "source": [
    "#192\n",
    "data = [\n",
    "    [ 2000,  3050,  2050,  1980],\n",
    "    [ 7500,  2050,  2050,  1980],\n",
    "    [15450, 15050, 15550, 14900]\n",
    "]\n",
    "for i in data:\n",
    "    for j in i:\n",
    "        print(j*1.00014)\n",
    "    print(\"-\"*5)"
   ]
  },
  {
   "cell_type": "code",
   "execution_count": null,
   "id": "d1388569",
   "metadata": {},
   "outputs": [],
   "source": [
    "#193\n",
    "data = [\n",
    "    [ 2000,  3050,  2050,  1980],\n",
    "    [ 7500,  2050,  2050,  1980],\n",
    "    [15450, 15050, 15550, 14900]\n",
    "]\n",
    "result=[]\n",
    "for i in data:\n",
    "    for j in i:\n",
    "        result.append(j*1.00014)\n",
    "print(result)"
   ]
  },
  {
   "cell_type": "code",
   "execution_count": null,
   "id": "3c3cff3b",
   "metadata": {},
   "outputs": [],
   "source": [
    "#194\n",
    "data = [\n",
    "    [ 2000,  3050,  2050,  1980],\n",
    "    [ 7500,  2050,  2050,  1980],\n",
    "    [15450, 15050, 15550, 14900]\n",
    "]\n",
    "result=[]\n",
    "for i in data:\n",
    "    sub = []\n",
    "    for j in i:\n",
    "        sub.append(j*1.00014)\n",
    "    result.append(sub)\n",
    "print(result)"
   ]
  },
  {
   "cell_type": "code",
   "execution_count": null,
   "id": "e901ed3d",
   "metadata": {},
   "outputs": [],
   "source": [
    "#195\n",
    "ohlc = [[\"open\", \"high\", \"low\", \"close\"],\n",
    "        [100, 110, 70, 100],\n",
    "        [200, 210, 180, 190],\n",
    "        [300, 310, 300, 310]]\n",
    "\n",
    "for i in ohlc[1:]:\n",
    "    print(i[3])"
   ]
  },
  {
   "cell_type": "code",
   "execution_count": null,
   "id": "0d64f0ee",
   "metadata": {},
   "outputs": [],
   "source": [
    "#196\n",
    "ohlc = [[\"open\", \"high\", \"low\", \"close\"],\n",
    "        [100, 110, 70, 100],\n",
    "        [200, 210, 180, 190],\n",
    "        [300, 310, 300, 310]]\n",
    "\n",
    "for i in ohlc[1:]:\n",
    "    if i[3] > 150:\n",
    "        print(i[3])"
   ]
  },
  {
   "cell_type": "code",
   "execution_count": null,
   "id": "7fce0189",
   "metadata": {},
   "outputs": [],
   "source": [
    "#197\n",
    "ohlc = [[\"open\", \"high\", \"low\", \"close\"],\n",
    "        [100, 110, 70, 100],\n",
    "        [200, 210, 180, 190],\n",
    "        [300, 310, 300, 310]]\n",
    "\n",
    "for i in ohlc[1:]:\n",
    "    if i[3] >= i[0]:\n",
    "        print(i[3])"
   ]
  },
  {
   "cell_type": "code",
   "execution_count": null,
   "id": "3ca0e0f2",
   "metadata": {},
   "outputs": [],
   "source": [
    "#198\n",
    "ohlc = [[\"open\", \"high\", \"low\", \"close\"],\n",
    "        [100, 110, 70, 100],\n",
    "        [200, 210, 180, 190],\n",
    "        [300, 310, 300, 310]]\n",
    "\n",
    "volatility = []\n",
    "for i in ohlc[1:]:\n",
    "    volatility.append(i[1]-i[2])\n",
    "print(volatility)"
   ]
  },
  {
   "cell_type": "code",
   "execution_count": null,
   "id": "b89f4206",
   "metadata": {},
   "outputs": [],
   "source": [
    "#199\n",
    "ohlc = [[\"open\", \"high\", \"low\", \"close\"],\n",
    "        [100, 110, 70, 100],\n",
    "        [200, 210, 180, 190],\n",
    "        [300, 310, 300, 310]]\n",
    "for i in ohlc[1:]:\n",
    "    if i[3] > i[0]:\n",
    "        print(i[1]-i[2])"
   ]
  },
  {
   "cell_type": "code",
   "execution_count": null,
   "id": "99eea87d",
   "metadata": {},
   "outputs": [],
   "source": [
    "#200\n",
    "ohlc = [[\"open\", \"high\", \"low\", \"close\"],\n",
    "        [100, 110, 70, 100],\n",
    "        [200, 210, 180, 190],\n",
    "        [300, 310, 300, 310]]\n",
    "\n",
    "sum = 0\n",
    "for i in ohlc[1:]:\n",
    "    sum += i[3]-i[0]\n",
    "print(sum)"
   ]
  },
  {
   "cell_type": "code",
   "execution_count": null,
   "id": "a85462ad",
   "metadata": {},
   "outputs": [],
   "source": [
    "#201\n",
    "def print_coin():\n",
    "    print(\"비트코인\")"
   ]
  },
  {
   "cell_type": "code",
   "execution_count": null,
   "id": "b65d2682",
   "metadata": {},
   "outputs": [],
   "source": [
    "#202\n",
    "def print_coin():\n",
    "    print(\"비트코인\")\n",
    "\n",
    "print_coin()"
   ]
  },
  {
   "cell_type": "code",
   "execution_count": null,
   "id": "52f76db0",
   "metadata": {},
   "outputs": [],
   "source": [
    "#203\n",
    "def print_coin():\n",
    "    print(\"비트코인\")\n",
    "\n",
    "for i in range(100):\n",
    "    print_coin()"
   ]
  },
  {
   "cell_type": "code",
   "execution_count": null,
   "id": "2fbb954e",
   "metadata": {},
   "outputs": [],
   "source": [
    "#204\n",
    "def print_coins():\n",
    "    for i in range(100):\n",
    "        print(\"비트코인\")"
   ]
  },
  {
   "cell_type": "code",
   "execution_count": null,
   "id": "a77573b9",
   "metadata": {},
   "outputs": [],
   "source": [
    "#205\n",
    "hello()\n",
    "def hello():\n",
    "    print(\"Hi\")\n",
    "# 함수가 정의되기 전 호출"
   ]
  },
  {
   "cell_type": "code",
   "execution_count": null,
   "id": "4fc497e6",
   "metadata": {},
   "outputs": [],
   "source": [
    "#206\n",
    "def message() :\n",
    "    print(\"A\")\n",
    "    print(\"B\")\n",
    "\n",
    "message()\n",
    "print(\"C\")\n",
    "message()\n",
    "# A-B-C-A-B"
   ]
  },
  {
   "cell_type": "code",
   "execution_count": null,
   "id": "3722c634",
   "metadata": {},
   "outputs": [],
   "source": [
    "#207\n",
    "print(\"A\")\n",
    "\n",
    "def message() :\n",
    "    print(\"B\")\n",
    "\n",
    "print(\"C\")\n",
    "message()\n",
    "# A-C-B"
   ]
  },
  {
   "cell_type": "code",
   "execution_count": null,
   "id": "85174b63",
   "metadata": {},
   "outputs": [],
   "source": [
    "#208\n",
    "print(\"A\")\n",
    "def message1() :\n",
    "    print(\"B\")\n",
    "print(\"C\")\n",
    "def message2() :\n",
    "    print(\"D\")\n",
    "message1()\n",
    "print(\"E\")\n",
    "message2()\n",
    "#A-C-B-E-D"
   ]
  },
  {
   "cell_type": "code",
   "execution_count": null,
   "id": "29a920a2",
   "metadata": {},
   "outputs": [],
   "source": [
    "#209\n",
    "def message1():\n",
    "    print(\"A\")\n",
    "\n",
    "def message2():\n",
    "    print(\"B\")\n",
    "    message1()\n",
    "\n",
    "message2()\n",
    "# B-A"
   ]
  },
  {
   "cell_type": "code",
   "execution_count": null,
   "id": "ea0e0dc9",
   "metadata": {},
   "outputs": [],
   "source": [
    "#210\n",
    "def message1():\n",
    "    print(\"A\")\n",
    "\n",
    "def message2():\n",
    "    print(\"B\")\n",
    "\n",
    "def message3():\n",
    "    for i in range (3) :\n",
    "        message2()\n",
    "        print(\"C\")\n",
    "    message1()\n",
    "\n",
    "message3()\n",
    "# B-C-B-C-B-C-A"
   ]
  },
  {
   "cell_type": "code",
   "execution_count": null,
   "id": "c1901348",
   "metadata": {},
   "outputs": [],
   "source": [
    "#211\n",
    "def 함수(문자열) :\n",
    "    print(문자열)\n",
    "\n",
    "함수(\"안녕\")\n",
    "함수(\"Hi\")\n",
    "# 안녕-HI"
   ]
  },
  {
   "cell_type": "code",
   "execution_count": null,
   "id": "a1c6e160",
   "metadata": {},
   "outputs": [],
   "source": [
    "#212\n",
    "def 함수(a, b) :\n",
    "    print(a + b)\n",
    "\n",
    "함수(3, 4)\n",
    "함수(7, 8)\n",
    "# 7-15"
   ]
  },
  {
   "cell_type": "code",
   "execution_count": null,
   "id": "1c64d1b4",
   "metadata": {},
   "outputs": [],
   "source": [
    "#213\n",
    "def 함수(문자열) :\n",
    "    print(문자열)\n",
    "\n",
    "함수()\n",
    "# 함수 호출 시 파라미터 빠짐"
   ]
  },
  {
   "cell_type": "code",
   "execution_count": null,
   "id": "a3709b3b",
   "metadata": {},
   "outputs": [],
   "source": [
    "#214\n",
    "def 함수(a, b) :\n",
    "    print(a + b)\n",
    "\n",
    "함수(\"안녕\", 3)\n",
    "# 함수 파라미터 타입이 맞지 않음"
   ]
  },
  {
   "cell_type": "code",
   "execution_count": null,
   "id": "1c1c7497",
   "metadata": {},
   "outputs": [],
   "source": [
    "#215\n",
    "def print_with_smile(a):\n",
    "    print(a+\".D\")\n",
    "    \n",
    "print_with_smile(input())"
   ]
  },
  {
   "cell_type": "code",
   "execution_count": null,
   "id": "776cb17c",
   "metadata": {},
   "outputs": [],
   "source": [
    "#216\n",
    "def print_with_smile(a):\n",
    "    print(a+\".D\")\n",
    "    \n",
    "print_with_smile(\"안녕하세요\")"
   ]
  },
  {
   "cell_type": "code",
   "execution_count": null,
   "id": "d54aae19",
   "metadata": {},
   "outputs": [],
   "source": [
    "#217\n",
    "def print_upper_price(price):\n",
    "    print(int(price)*1.3)\n",
    "\n",
    "print_upper_price(input())"
   ]
  },
  {
   "cell_type": "code",
   "execution_count": null,
   "id": "ab9b1a81",
   "metadata": {},
   "outputs": [],
   "source": [
    "#218\n",
    "def print_sum(a, b):\n",
    "    print(a+b)"
   ]
  },
  {
   "cell_type": "code",
   "execution_count": null,
   "id": "23186ef6",
   "metadata": {},
   "outputs": [],
   "source": [
    "#219\n",
    "def print_arithmetic_operation(a, b):\n",
    "    print(f'{a}+{b}={a+b}')\n",
    "    print(f'{a}-{b}={a-b}')\n",
    "    print(f'{a}*{b}={a*b}')\n",
    "    print(f'{a}/{b}={a/b}')\n",
    "print_arithmetic_operation(3, 4)"
   ]
  },
  {
   "cell_type": "code",
   "execution_count": null,
   "id": "1e34506d",
   "metadata": {},
   "outputs": [],
   "source": [
    "#220\n",
    "def print_max(a, b, c):\n",
    "    max_d = 0\n",
    "    \n",
    "    if a >= b:\n",
    "        max_d = a\n",
    "    \n",
    "    if b > max_d:\n",
    "        max_d = b\n",
    "    \n",
    "    if c > max_d:\n",
    "        max_d = c\n",
    "    print(max_d)\n",
    "    \n",
    "print_max(6, 8, 9)"
   ]
  },
  {
   "cell_type": "code",
   "execution_count": null,
   "id": "57cf76cc",
   "metadata": {},
   "outputs": [],
   "source": [
    "#221\n",
    "def print_reverse(s):\n",
    "    print(s[::-1])\n",
    "    \n",
    "print_reverse(\"python\")"
   ]
  },
  {
   "cell_type": "code",
   "execution_count": null,
   "id": "b8597213",
   "metadata": {},
   "outputs": [],
   "source": [
    "#222\n",
    "def print_score(s):\n",
    "    print(sum(s)/len(s))\n",
    "    \n",
    "print_score([1, 2, 3])"
   ]
  },
  {
   "cell_type": "code",
   "execution_count": null,
   "id": "93314641",
   "metadata": {},
   "outputs": [],
   "source": [
    "#223\n",
    "def print_even(s):\n",
    "    for i in s:\n",
    "        if i%2 == 0:\n",
    "            print(i)\n",
    "\n",
    "print_even([1, 3, 2, 10, 12, 11, 15])"
   ]
  },
  {
   "cell_type": "code",
   "execution_count": null,
   "id": "24945c19",
   "metadata": {},
   "outputs": [],
   "source": [
    "#224\n",
    "def print_keys(s):\n",
    "    \n",
    "    for i in s.keys():\n",
    "        print(i)\n",
    "\n",
    "print_keys ({\"이름\":\"김말똥\", \"나이\":30, \"성별\":0})"
   ]
  },
  {
   "cell_type": "code",
   "execution_count": null,
   "id": "fd04a6c2",
   "metadata": {},
   "outputs": [],
   "source": [
    "#225\n",
    "my_dict = {\"10/26\" : [100, 130, 100, 100],\n",
    "           \"10/27\" : [10, 12, 10, 11]}\n",
    "\n",
    "def print_value_by_key(dic_t, d):\n",
    "    print(dic_t[d])\n",
    "\n",
    "print_value_by_key  (my_dict, \"10/26\")"
   ]
  },
  {
   "cell_type": "code",
   "execution_count": null,
   "id": "72248856",
   "metadata": {},
   "outputs": [],
   "source": [
    "#226-풀이다름\n",
    "def print_5xn(s):\n",
    "    for i in range(0,len(s),5):\n",
    "        print(s[i:i+5])\n",
    "\n",
    "print_5xn(\"아이엠어보이유알어걸\")"
   ]
  },
  {
   "cell_type": "code",
   "execution_count": null,
   "id": "6b3660f0",
   "metadata": {},
   "outputs": [],
   "source": [
    "#227-풀이다름\n",
    "def printmxn(s, a):\n",
    "    for i in range(0, len(s), a):\n",
    "        print(s[i:i+a])\n",
    "\n",
    "printmxn(\"아이엠어보이유알어걸\", 3)"
   ]
  },
  {
   "cell_type": "code",
   "execution_count": null,
   "id": "0b70afa3",
   "metadata": {},
   "outputs": [],
   "source": [
    "#228\n",
    "def calc_monthly_salary(annual_salary):\n",
    "    print(round(annual_salary/12))\n",
    "\n",
    "calc_monthly_salary(11000000.12)"
   ]
  },
  {
   "cell_type": "code",
   "execution_count": null,
   "id": "e33386f7",
   "metadata": {},
   "outputs": [],
   "source": [
    "#229\n",
    "def my_print (a, b) :\n",
    "    print(\"왼쪽:\", a)\n",
    "    print(\"오른쪽:\", b)\n",
    "\n",
    "my_print(a=100, b=200)\n",
    "# 왼쪽:100\n",
    "# 오른쪽: 200"
   ]
  },
  {
   "cell_type": "code",
   "execution_count": null,
   "id": "e82a6bc1",
   "metadata": {},
   "outputs": [],
   "source": [
    "#230\n",
    "def my_print (a, b) :\n",
    "    print(\"왼쪽:\", a)\n",
    "    print(\"오른쪽:\", b)\n",
    "\n",
    "my_print(b=100, a=200)\n",
    "# 왼쪽: 200\n",
    "# 오른쪽: 100"
   ]
  },
  {
   "cell_type": "code",
   "execution_count": null,
   "id": "f2841508",
   "metadata": {},
   "outputs": [],
   "source": [
    "#231\n",
    "def n_plus_1 (n) :\n",
    "    result = n + 1\n",
    "\n",
    "n_plus_1(3)\n",
    "print (result)\n",
    "# 함수내 로컬 변수를 함수밖에서 호출"
   ]
  },
  {
   "cell_type": "code",
   "execution_count": null,
   "id": "e17df5e7",
   "metadata": {},
   "outputs": [],
   "source": [
    "#232\n",
    "def make_url(s):\n",
    "    return \"http://www.\"+s+\".com\"\n",
    "url = make_url(\"naver\")\n",
    "print(url)"
   ]
  },
  {
   "cell_type": "code",
   "execution_count": null,
   "id": "f1bc94cb",
   "metadata": {},
   "outputs": [],
   "source": [
    "#233\n",
    "def make_list(s):\n",
    "    return list(s)\n",
    "\n",
    "print(make_list(\"abcd\"))"
   ]
  },
  {
   "cell_type": "code",
   "execution_count": null,
   "id": "10f6d220",
   "metadata": {},
   "outputs": [],
   "source": [
    "#234\n",
    "def pickup_even(li):\n",
    "    e_li=[]\n",
    "    for i in li:\n",
    "        if int(i)%2 == 0:\n",
    "            e_li.append(i)\n",
    "    return e_li\n",
    "\n",
    "even_list = pickup_even([3, 4, 5, 6, 7, 8])\n",
    "print(even_list)"
   ]
  },
  {
   "cell_type": "code",
   "execution_count": null,
   "id": "8ec2d5a4",
   "metadata": {},
   "outputs": [],
   "source": [
    "#235\n",
    "def convert_int(s):\n",
    "    return int(s.replace(',',''))\n",
    "\n",
    "print(convert_int(\"1,234,567\"))"
   ]
  },
  {
   "cell_type": "code",
   "execution_count": null,
   "id": "c3ca0642",
   "metadata": {},
   "outputs": [],
   "source": [
    "#236\n",
    "def 함수(num) :\n",
    "    return num + 4\n",
    "\n",
    "a = 함수(10)\n",
    "b = 함수(a)\n",
    "c = 함수(b)\n",
    "print(c)\n",
    "#22"
   ]
  },
  {
   "cell_type": "code",
   "execution_count": null,
   "id": "5f140ede",
   "metadata": {},
   "outputs": [],
   "source": [
    "#237\n",
    "def 함수(num) :\n",
    "    return num + 4\n",
    "\n",
    "c = 함수(함수(함수(10)))\n",
    "print(c)\n",
    "#22"
   ]
  },
  {
   "cell_type": "code",
   "execution_count": null,
   "id": "5a7c83b6",
   "metadata": {},
   "outputs": [],
   "source": [
    "#238\n",
    "def 함수1(num) :\n",
    "    return num + 4\n",
    "\n",
    "def 함수2(num) :\n",
    "    return num * 10\n",
    "\n",
    "a = 함수1(10)\n",
    "c = 함수2(a)\n",
    "print(c)\n",
    "# 140"
   ]
  },
  {
   "cell_type": "code",
   "execution_count": null,
   "id": "949d5547",
   "metadata": {},
   "outputs": [],
   "source": [
    "#239\n",
    "def 함수1(num) :\n",
    "    return num + 4\n",
    "\n",
    "def 함수2(num) :\n",
    "    num = num + 2\n",
    "    return 함수1(num)\n",
    "\n",
    "c = 함수2(10)\n",
    "print(c)\n",
    "# 16"
   ]
  },
  {
   "cell_type": "code",
   "execution_count": null,
   "id": "0fd16a17",
   "metadata": {},
   "outputs": [],
   "source": [
    "#240\n",
    "def 함수0(num) :\n",
    "    return num * 2\n",
    "\n",
    "def 함수1(num) :\n",
    "    return 함수0(num + 2)\n",
    "\n",
    "def 함수2(num) :\n",
    "    num = num + 10\n",
    "    return 함수1(num)\n",
    "\n",
    "c = 함수2(2)\n",
    "print(c)\n",
    "#28"
   ]
  },
  {
   "cell_type": "code",
   "execution_count": null,
   "id": "4df84fbb",
   "metadata": {},
   "outputs": [],
   "source": [
    "#241\n",
    "import datetime\n",
    "datetime.datetime.now().strftime(\"%Y-%m-%d %H-%M-%S\")"
   ]
  },
  {
   "cell_type": "code",
   "execution_count": null,
   "id": "184dce2b",
   "metadata": {},
   "outputs": [],
   "source": [
    "#242\n",
    "import datetime\n",
    "print(type(datetime.datetime.now()))"
   ]
  },
  {
   "cell_type": "code",
   "execution_count": null,
   "id": "8d71ba2b",
   "metadata": {},
   "outputs": [],
   "source": [
    "#243\n",
    "import datetime\n",
    "\n",
    "today = datetime.datetime.now()\n",
    "\n",
    "for i in range(5,0,-1):\n",
    "    print((today - datetime.timedelta(i)).strftime(\"%Y-%m-%d\"))\n",
    "    "
   ]
  },
  {
   "cell_type": "code",
   "execution_count": null,
   "id": "26c26cd8",
   "metadata": {},
   "outputs": [],
   "source": [
    "#244\n",
    "import datetime\n",
    "\n",
    "print(datetime.datetime.now().strftime(\"%H:%M:%S\"))"
   ]
  },
  {
   "cell_type": "code",
   "execution_count": null,
   "id": "873f76f5",
   "metadata": {},
   "outputs": [],
   "source": [
    "#245\n",
    "import datetime\n",
    "\n",
    "s_time = \"2020-05-04\"\n",
    "print(datetime.datetime.strptime(\"2020-05-04\", \"%Y-%m-%d\"))"
   ]
  },
  {
   "cell_type": "code",
   "execution_count": null,
   "id": "5c18ea24",
   "metadata": {},
   "outputs": [],
   "source": [
    "#246\n",
    "import datetime\n",
    "import time\n",
    "\n",
    "while 1:\n",
    "    print(datetime.datetime.now())\n",
    "    time.sleep(1)\n"
   ]
  },
  {
   "cell_type": "markdown",
   "id": "8f594867",
   "metadata": {},
   "source": [
    "#247\n",
    "1. import 모듈\n",
    "2. import 모듈 as 이름\n",
    "3. from 모듈 import 함수명\n",
    "4. from 모듈 import *"
   ]
  },
  {
   "cell_type": "code",
   "execution_count": null,
   "id": "88d9b653",
   "metadata": {},
   "outputs": [],
   "source": [
    "#248\n",
    "import os\n",
    "\n",
    "print(os.getcwd())"
   ]
  },
  {
   "cell_type": "code",
   "execution_count": null,
   "id": "b58599e0",
   "metadata": {},
   "outputs": [],
   "source": [
    "#249\n",
    "import os\n",
    "\n",
    "t_dir= os.getcwd() + \"/temp/\" \n",
    "f = open(t_dir+\"t.txt\", 'w')\n",
    "f.close()\n",
    "print(os.listdir(t_dir))\n",
    "\n",
    "os.rename(t_dir+\"t.txt\", t_dir+\"a.txt\")\n",
    "print(os.listdir(t_dir))"
   ]
  },
  {
   "cell_type": "code",
   "execution_count": null,
   "id": "92ba17c7",
   "metadata": {},
   "outputs": [],
   "source": [
    "#250\n",
    "import numpy as np\n",
    "for i in np.arange(0, 5, 0.1):\n",
    "    print(f'{i:0.2f}')"
   ]
  },
  {
   "cell_type": "code",
   "execution_count": null,
   "id": "9dc2415a",
   "metadata": {},
   "outputs": [],
   "source": [
    "#251\n"
   ]
  },
  {
   "cell_type": "code",
   "execution_count": null,
   "id": "5a778977",
   "metadata": {},
   "outputs": [],
   "source": [
    "#252\n",
    "class Human:\n",
    "    "
   ]
  },
  {
   "cell_type": "code",
   "execution_count": null,
   "id": "b0f01832",
   "metadata": {},
   "outputs": [],
   "source": [
    "#253\n",
    "class Human:\n",
    "    pass\n",
    "\n",
    "areum = Human()"
   ]
  },
  {
   "cell_type": "code",
   "execution_count": null,
   "id": "8041d5b6",
   "metadata": {},
   "outputs": [],
   "source": [
    "#254\n",
    "class Human:\n",
    "    def __init__(self):\n",
    "        print(\"응애응애\")\n",
    "    \n",
    "areum = Human()"
   ]
  },
  {
   "cell_type": "code",
   "execution_count": null,
   "id": "77ee671e",
   "metadata": {
    "ExecuteTime": {
     "end_time": "2023-12-01T12:58:15.972737Z",
     "start_time": "2023-12-01T12:58:15.964391Z"
    }
   },
   "outputs": [],
   "source": [
    "#255\n",
    "class Human:\n",
    "    def __init__(self, name, age, sex):\n",
    "        self.name = name\n",
    "        self.age = age\n",
    "        self.sex = sex\n",
    "\n",
    "areum = Human(\"아름\", 25, \"여자\")\n",
    "print(areum.name, areum.age, areum.sex)"
   ]
  },
  {
   "cell_type": "code",
   "execution_count": null,
   "id": "b5476b64",
   "metadata": {
    "ExecuteTime": {
     "end_time": "2023-12-01T12:59:18.902048Z",
     "start_time": "2023-12-01T12:59:18.896343Z"
    }
   },
   "outputs": [],
   "source": [
    "#256\n",
    "class Human:\n",
    "    def __init__(self, name, age, sex):\n",
    "        self.name = name\n",
    "        self.age = age\n",
    "        self.sex = sex\n",
    "woman = Human('조아름',25,'여자')\n",
    "print(woman.name, woman.age, woman.sex)"
   ]
  },
  {
   "cell_type": "code",
   "execution_count": null,
   "id": "2969828b",
   "metadata": {
    "ExecuteTime": {
     "end_time": "2023-12-01T13:03:07.637768Z",
     "start_time": "2023-12-01T13:03:07.631121Z"
    }
   },
   "outputs": [],
   "source": [
    "#257\n",
    "class Human:\n",
    "    def __init__(self, name, age, sex):\n",
    "        self.name = name\n",
    "        self.age = age\n",
    "        self.sex = sex\n",
    "    def who(self):\n",
    "        print(self.name, self.age, self.sex)\n",
    "        \n",
    "woman = Human('조아름',25,'여자')\n",
    "woman.who()"
   ]
  },
  {
   "cell_type": "code",
   "execution_count": null,
   "id": "1b952ee2",
   "metadata": {
    "ExecuteTime": {
     "end_time": "2023-12-01T13:10:25.410819Z",
     "start_time": "2023-12-01T13:10:25.402671Z"
    }
   },
   "outputs": [],
   "source": [
    "#258\n",
    "class Human:\n",
    "    def __init__(self, name=\"\", age=0, sex=\"\"):\n",
    "        self.name = name\n",
    "        self.age = age\n",
    "        self.sex = sex\n",
    "        \n",
    "    def who(self):\n",
    "        print(self.name, self.age, self.sex)\n",
    "        \n",
    "    def setInfo(self, name, age, sex):\n",
    "        self.name=name\n",
    "        self.age = age\n",
    "        self.sex = sex\n",
    "\n",
    "woman = Human()\n",
    "woman.setInfo('조아름',25,'여자')\n",
    "woman.who()"
   ]
  },
  {
   "cell_type": "code",
   "execution_count": null,
   "id": "b4feca5a",
   "metadata": {
    "ExecuteTime": {
     "end_time": "2023-12-01T13:20:04.294033Z",
     "start_time": "2023-12-01T13:20:04.250543Z"
    }
   },
   "outputs": [],
   "source": [
    "#259\n",
    "class Human:\n",
    "    def __init__(self, name=\"\", age=0, sex=\"\"):\n",
    "        self.name = name\n",
    "        self.age = age\n",
    "        self.sex = sex\n",
    "        \n",
    "    def who(self):\n",
    "        print(self.name, self.age, self.sex)\n",
    "        \n",
    "    def setInfo(self, name, age, sex):\n",
    "        self.name=name\n",
    "        self.age = age\n",
    "        self.sex = sex\n",
    "    \n",
    "    def __del__(self):\n",
    "        print(\"나의 죽음을 알리지 말라\")\n",
    "\n",
    "woman = Human()\n",
    "woman.setInfo('조아름',25,'여자')\n",
    "woman.who()\n",
    "del(woman)\n",
    "woman.who()"
   ]
  },
  {
   "cell_type": "code",
   "execution_count": null,
   "id": "ba3c55d8",
   "metadata": {
    "ExecuteTime": {
     "end_time": "2023-12-01T13:21:31.156428Z",
     "start_time": "2023-12-01T13:21:31.149535Z"
    }
   },
   "outputs": [],
   "source": [
    "#260\n",
    "class OMG : \n",
    "    def print(self) :\n",
    "        print(\"Oh my god\")\n",
    "\n",
    "myStock = OMG()\n",
    "myStock.print()"
   ]
  },
  {
   "cell_type": "code",
   "execution_count": null,
   "id": "778d5cac",
   "metadata": {
    "ExecuteTime": {
     "end_time": "2023-12-01T13:24:57.560887Z",
     "start_time": "2023-12-01T13:24:57.556679Z"
    }
   },
   "outputs": [],
   "source": [
    "#261\n",
    "class Stock:\n",
    "    pass\n",
    "    \n",
    "mystock = Stock()"
   ]
  },
  {
   "cell_type": "code",
   "execution_count": null,
   "id": "f53482dc",
   "metadata": {
    "ExecuteTime": {
     "end_time": "2023-12-01T13:26:58.350297Z",
     "start_time": "2023-12-01T13:26:58.343826Z"
    }
   },
   "outputs": [],
   "source": [
    "#262\n",
    "class Stock:\n",
    "    def __init__(self, name, code):\n",
    "        self.name = name\n",
    "        self.code = code\n",
    "        \n",
    "삼성 = Stock(\"삼성전자\", \"005930\")\n",
    "print(삼성.name, 삼성.code)"
   ]
  },
  {
   "cell_type": "code",
   "execution_count": null,
   "id": "a2e14fd3",
   "metadata": {
    "ExecuteTime": {
     "end_time": "2023-12-01T13:28:51.845371Z",
     "start_time": "2023-12-01T13:28:51.838113Z"
    }
   },
   "outputs": [],
   "source": [
    "#263\n",
    "class Stock:\n",
    "    def __init__(self, name, code):\n",
    "        self.name = name\n",
    "        self.code = code\n",
    "    def set_name(self,name):\n",
    "        self.name = name\n",
    "        \n",
    "a = Stock(None, None)\n",
    "a.set_name(\"삼성전자\")\n",
    "print(a.name)"
   ]
  },
  {
   "cell_type": "code",
   "execution_count": null,
   "id": "1dd95887",
   "metadata": {
    "ExecuteTime": {
     "end_time": "2023-12-01T13:30:52.832797Z",
     "start_time": "2023-12-01T13:30:52.824231Z"
    }
   },
   "outputs": [],
   "source": [
    "#264\n",
    "class Stock:\n",
    "    def __init__(self, name, code):\n",
    "        self.name = name\n",
    "        self.code = code\n",
    "    def set_name(self,name):\n",
    "        self.name = name\n",
    "    def set_code(self, code):\n",
    "        self.code = code\n",
    "    \n",
    "a = Stock(None, None)\n",
    "a.set_code(\"005930\")\n",
    "print(a.name, a.code)"
   ]
  },
  {
   "cell_type": "code",
   "execution_count": null,
   "id": "b10a1318",
   "metadata": {
    "ExecuteTime": {
     "end_time": "2023-12-01T13:33:36.541188Z",
     "start_time": "2023-12-01T13:33:36.532196Z"
    }
   },
   "outputs": [],
   "source": [
    "#265\n",
    "class Stock:\n",
    "    def __init__(self, name, code):\n",
    "        self.name = name\n",
    "        self.code = code\n",
    "    def set_name(self,name):\n",
    "        self.name = name\n",
    "    def set_code(self, code):\n",
    "        self.code = code\n",
    "    def get_name(self):\n",
    "        return self.name\n",
    "    def get_code(self):\n",
    "        return self.code\n",
    "        \n",
    "        \n",
    "삼성 = Stock(\"삼성전자\", \"005930\")\n",
    "print(삼성.get_name(), 삼성.get_code())"
   ]
  },
  {
   "cell_type": "code",
   "execution_count": null,
   "id": "b5075b45",
   "metadata": {},
   "outputs": [],
   "source": [
    "#266\n",
    "class Stock:\n",
    "    def __init__(self, name, code,per,pbr, profit):\n",
    "        self.name = name\n",
    "        self.code = code\n",
    "        self.per = per\n",
    "        self.pbr = pbr\n",
    "        self.profit = profit\n",
    "    def set_name(self,name):\n",
    "        self.name = name\n",
    "    def set_code(self, code):\n",
    "        self.code = code\n",
    "    def get_name(self):\n",
    "        return self.name\n",
    "    def get_code(self):\n",
    "        return self.code"
   ]
  },
  {
   "cell_type": "code",
   "execution_count": null,
   "id": "11d1a825",
   "metadata": {
    "ExecuteTime": {
     "end_time": "2023-12-01T13:40:01.810697Z",
     "start_time": "2023-12-01T13:40:01.799281Z"
    }
   },
   "outputs": [],
   "source": [
    "#267\n",
    "class Stock:\n",
    "    def __init__(self, name, code,per,pbr, profit):\n",
    "        self.name = name\n",
    "        self.code = code\n",
    "        self.per = per\n",
    "        self.pbr = pbr\n",
    "        self.profit = profit\n",
    "    def set_name(self,name):\n",
    "        self.name = name\n",
    "    def set_code(self, code):\n",
    "        self.code = code\n",
    "    def get_name(self):\n",
    "        return self.name\n",
    "    def get_code(self):\n",
    "        return self.code\n",
    "\n",
    "mystock = Stock(\"삼성전자\", '005930', 15.79, 1.33, 2.83)\n",
    "mystock.get_name()"
   ]
  },
  {
   "cell_type": "code",
   "execution_count": null,
   "id": "2aec9246",
   "metadata": {
    "ExecuteTime": {
     "end_time": "2023-12-01T13:43:31.442352Z",
     "start_time": "2023-12-01T13:43:31.430887Z"
    }
   },
   "outputs": [],
   "source": [
    "#268\n",
    "class Stock:\n",
    "    def __init__(self, name, code,per,pbr, profit):\n",
    "        self.name = name\n",
    "        self.code = code\n",
    "        self.per = per\n",
    "        self.pbr = pbr\n",
    "        self.profit = profit\n",
    "    def set_name(self,name):\n",
    "        self.name = name\n",
    "    def set_code(self, code):\n",
    "        self.code = code\n",
    "    def set_per(self, per):\n",
    "        self.per = per\n",
    "    def set_pbr(self, pbr):\n",
    "        self.pbr = pbr\n",
    "    def set_profit(self, profit):\n",
    "        self.profit = profit\n",
    "    def get_name(self):\n",
    "        return self.name\n",
    "    def get_code(self):\n",
    "        return self.code\n",
    "    def get_per(self):\n",
    "        return self.per\n"
   ]
  },
  {
   "cell_type": "code",
   "execution_count": null,
   "id": "138380d8",
   "metadata": {
    "ExecuteTime": {
     "end_time": "2023-12-01T13:44:02.597164Z",
     "start_time": "2023-12-01T13:44:02.590180Z"
    }
   },
   "outputs": [],
   "source": [
    "#269\n",
    "mystock = Stock(\"삼성전자\", '005930', 15.79, 1.33, 2.83)\n",
    "mystock.set_per(12.75)\n",
    "mystock.get_per()"
   ]
  },
  {
   "cell_type": "code",
   "execution_count": null,
   "id": "578a0431",
   "metadata": {
    "ExecuteTime": {
     "end_time": "2023-12-01T13:57:29.339229Z",
     "start_time": "2023-12-01T13:57:29.328852Z"
    }
   },
   "outputs": [],
   "source": [
    "#270\n",
    "class Stock:\n",
    "    def __init__(self, name, code,per,pbr, profit):\n",
    "        self.name = name\n",
    "        self.code = code\n",
    "        self.per = per\n",
    "        self.pbr = pbr\n",
    "        self.profit = profit\n",
    "    def set_name(self,name):\n",
    "        self.name = name\n",
    "    def set_code(self, code):\n",
    "        self.code = code\n",
    "    def set_per(self, per):\n",
    "        self.per = per\n",
    "    def set_pbr(self, pbr):\n",
    "        self.pbr = pbr\n",
    "    def set_profit(self, profit):\n",
    "        self.profit = profit\n",
    "    def get_name(self):\n",
    "        return self.name\n",
    "    def get_code(self):\n",
    "        return self.code\n",
    "    def get_per(self):\n",
    "        return self.per\n",
    "    \n",
    "samsung = Stock('삼성전자','005930',15.79,1.33,2.83)\n",
    "hyundai = Stock('현대차','005380',8.70,0.35,4.27)\n",
    "lg = Stock('LG전자','066570',317.34,0.69,1.37)\n",
    "stock_list = [samsung, hyundai, lg]\n",
    "for stock in stock_list:\n",
    "    print(f'{stock.get_name()}: {stock.get_code()}, {stock.get_per()}')"
   ]
  },
  {
   "cell_type": "code",
   "execution_count": null,
   "id": "53e31e14",
   "metadata": {
    "ExecuteTime": {
     "end_time": "2023-12-05T05:00:25.011884Z",
     "start_time": "2023-12-05T05:00:25.002302Z"
    }
   },
   "outputs": [],
   "source": [
    "#271\n",
    "import random\n",
    "class Account:\n",
    "    def __init__(self, name, balance):\n",
    "        self.name = name\n",
    "        self.balance = balance\n",
    "        self.bank = \"SC은행\"\n",
    "        \n",
    "        ### 계좌번호 생성        \n",
    "        num1 = random.randint(0, 999)\n",
    "        num2 = random.randint(0, 99)\n",
    "        num3 = random.randint(0, 999999)\n",
    "        num1 = str(num1).zfill(3)\n",
    "        num2 = str(num2).zfill(2)\n",
    "        num3 = str(num3).zfill(6)\n",
    "        self.account = num1+'-'+num2+'-'+num3\n",
    "a = Account('white', 100)\n",
    "a.bank\n",
    "a.account"
   ]
  },
  {
   "cell_type": "code",
   "execution_count": null,
   "id": "f44aadd9",
   "metadata": {
    "ExecuteTime": {
     "end_time": "2023-12-05T05:02:12.987378Z",
     "start_time": "2023-12-05T05:02:12.977169Z"
    }
   },
   "outputs": [],
   "source": [
    "#272\n",
    "import random\n",
    "class Account:\n",
    "    account_count_num = 0\n",
    "    def __init__(self, name, balance):\n",
    "        self.name = name\n",
    "        self.balance = balance\n",
    "        self.bank = \"SC은행\"\n",
    "        \n",
    "        ### 계좌번호 생성        \n",
    "        num1 = random.randint(0, 999)\n",
    "        num2 = random.randint(0, 99)\n",
    "        num3 = random.randint(0, 999999)\n",
    "        num1 = str(num1).zfill(3)\n",
    "        num2 = str(num2).zfill(2)\n",
    "        num3 = str(num3).zfill(6)\n",
    "        self.account = num1+'-'+num2+'-'+num3\n",
    "        Account.account_count_num += 1\n",
    "\n",
    "kim = Account(\"김민수\", 100)\n",
    "print(Account.account_count_num)\n",
    "lee = Account(\"이민수\", 100)\n",
    "print(Account.account_count_num)"
   ]
  },
  {
   "cell_type": "code",
   "execution_count": null,
   "id": "998abb7e",
   "metadata": {
    "ExecuteTime": {
     "end_time": "2023-12-05T05:55:55.089129Z",
     "start_time": "2023-12-05T05:55:55.077454Z"
    }
   },
   "outputs": [],
   "source": [
    "#273\n",
    "import random\n",
    "class Account:\n",
    "    account_count_num = 0\n",
    "    def __init__(self, name, balance):\n",
    "        self.name = name\n",
    "        self.balance = balance\n",
    "        self.bank = \"SC은행\"\n",
    "        \n",
    "        ### 계좌번호 생성        \n",
    "        num1 = random.randint(0, 999)\n",
    "        num2 = random.randint(0, 99)\n",
    "        num3 = random.randint(0, 999999)\n",
    "        num1 = str(num1).zfill(3)\n",
    "        num2 = str(num2).zfill(2)\n",
    "        num3 = str(num3).zfill(6)\n",
    "        self.account = num1+'-'+num2+'-'+num3\n",
    "        Account.account_count_num += 1\n",
    "        \n",
    "    def get_account_num(self):\n",
    "        return self.account_count_num\n",
    "kim = Account(\"김민수\", 100)\n",
    "lee = Account(\"이민수\", 100)\n",
    "dee = Account(\"이민수\", 100)\n",
    "dee.get_account_num()"
   ]
  },
  {
   "cell_type": "code",
   "execution_count": null,
   "id": "92fd11ed",
   "metadata": {
    "ExecuteTime": {
     "end_time": "2023-12-05T05:58:55.078322Z",
     "start_time": "2023-12-05T05:58:55.068242Z"
    }
   },
   "outputs": [],
   "source": [
    "#274\n",
    "import random\n",
    "class Account:\n",
    "    account_count_num = 0\n",
    "    def __init__(self, name, balance):\n",
    "        self.name = name\n",
    "        self.balance = balance\n",
    "        self.bank = \"SC은행\"\n",
    "        \n",
    "        ### 계좌번호 생성        \n",
    "        num1 = random.randint(0, 999)\n",
    "        num2 = random.randint(0, 99)\n",
    "        num3 = random.randint(0, 999999)\n",
    "        num1 = str(num1).zfill(3)\n",
    "        num2 = str(num2).zfill(2)\n",
    "        num3 = str(num3).zfill(6)\n",
    "        self.account = num1+'-'+num2+'-'+num3\n",
    "        Account.account_count_num += 1\n",
    "        \n",
    "    def get_account_num(self):\n",
    "        return self.account_count_num\n",
    "    \n",
    "    def deposit(self, money):\n",
    "        if money >= 1:\n",
    "            self.balance += money\n",
    "        return self.balance\n",
    "    \n",
    "dee = Account(\"이민수\", 100)\n",
    "print(dee.deposit(10))"
   ]
  },
  {
   "cell_type": "code",
   "execution_count": null,
   "id": "92efcd9a",
   "metadata": {
    "ExecuteTime": {
     "end_time": "2023-12-05T06:05:24.390243Z",
     "start_time": "2023-12-05T06:05:24.376384Z"
    }
   },
   "outputs": [],
   "source": [
    "#275\n",
    "import random\n",
    "class Account:\n",
    "    account_count_num = 0\n",
    "    def __init__(self, name, balance):\n",
    "        self.name = name\n",
    "        self.balance = balance\n",
    "        self.bank = \"SC은행\"\n",
    "        \n",
    "        ### 계좌번호 생성        \n",
    "        num1 = random.randint(0, 999)\n",
    "        num2 = random.randint(0, 99)\n",
    "        num3 = random.randint(0, 999999)\n",
    "        num1 = str(num1).zfill(3)\n",
    "        num2 = str(num2).zfill(2)\n",
    "        num3 = str(num3).zfill(6)\n",
    "        self.account = num1+'-'+num2+'-'+num3\n",
    "        Account.account_count_num += 1\n",
    "        \n",
    "    def get_account_num(self):\n",
    "        return self.account_count_num\n",
    "    \n",
    "    def deposit(self, money):\n",
    "        if money >= 1:\n",
    "            self.balance += money\n",
    "        return self.balance\n",
    "    \n",
    "    def withdraw(self, money):\n",
    "        if money <= self.balance:\n",
    "            self.balance -= money\n",
    "            return self.balance\n",
    "        else:\n",
    "            return \"잔액부족\"\n",
    "dee = Account(\"이민수\", 100)\n",
    "dee.withdraw(120)"
   ]
  },
  {
   "cell_type": "code",
   "execution_count": null,
   "id": "aae86805",
   "metadata": {
    "ExecuteTime": {
     "end_time": "2023-12-05T06:13:45.336894Z",
     "start_time": "2023-12-05T06:13:45.324598Z"
    }
   },
   "outputs": [],
   "source": [
    "#276\n",
    "import random\n",
    "class Account:\n",
    "    account_count_num = 0\n",
    "    def __init__(self, name, balance):\n",
    "        self.name = name\n",
    "        self.balance = balance\n",
    "        self.bank = \"SC은행\"\n",
    "        \n",
    "        ### 계좌번호 생성        \n",
    "        num1 = random.randint(0, 999)\n",
    "        num2 = random.randint(0, 99)\n",
    "        num3 = random.randint(0, 999999)\n",
    "        num1 = str(num1).zfill(3)\n",
    "        num2 = str(num2).zfill(2)\n",
    "        num3 = str(num3).zfill(6)\n",
    "        self.account = num1+'-'+num2+'-'+num3\n",
    "        Account.account_count_num += 1\n",
    "        \n",
    "    def get_account_num(self):\n",
    "        return self.account_count_num\n",
    "    \n",
    "    def deposit(self, money):\n",
    "        if money >= 1:\n",
    "            self.balance += money\n",
    "            self.deposit_num += 1        \n",
    "        return self.balance\n",
    "    \n",
    "    def withdraw(self, money):\n",
    "        if money <= self.balance:\n",
    "            self.balance -= money\n",
    "            return self.balance\n",
    "        else:\n",
    "            return \"잔액부족\"\n",
    "    def display_info(self):\n",
    "        print(f'이름: {self.name}, 잔액: {self.balance}, 은행: {self.bank}')\n",
    "dee = Account(\"이민수\", 100)\n",
    "dee.display_info()"
   ]
  },
  {
   "cell_type": "code",
   "execution_count": 2,
   "id": "54810117",
   "metadata": {
    "ExecuteTime": {
     "end_time": "2023-12-05T06:35:03.540007Z",
     "start_time": "2023-12-05T06:35:03.528975Z"
    }
   },
   "outputs": [
    {
     "name": "stdout",
     "output_type": "stream",
     "text": [
      "이름: 이민수, 잔액: 151.5, 은행: SC은행\n"
     ]
    }
   ],
   "source": [
    "#277\n",
    "import random\n",
    "class Account:\n",
    "    account_count_num = 0\n",
    "    def __init__(self, name, balance, deposit_num=0):\n",
    "        self.name = name\n",
    "        self.balance = balance\n",
    "        self.bank = \"SC은행\"\n",
    "        self.deposit_num = deposit_num\n",
    "        \n",
    "        ### 계좌번호 생성        \n",
    "        num1 = random.randint(0, 999)\n",
    "        num2 = random.randint(0, 99)\n",
    "        num3 = random.randint(0, 999999)\n",
    "        num1 = str(num1).zfill(3)\n",
    "        num2 = str(num2).zfill(2)\n",
    "        num3 = str(num3).zfill(6)\n",
    "        self.account = num1+'-'+num2+'-'+num3\n",
    "        Account.account_count_num += 1\n",
    "        \n",
    "    def get_account_num(self):\n",
    "        return self.account_count_num\n",
    "    \n",
    "    def deposit(self, money):\n",
    "        if money >= 1:\n",
    "            self.balance += money\n",
    "            self.deposit_num += 1\n",
    "            if self.deposit_num%5==0:\n",
    "                self.balance *= 1.01\n",
    "        \n",
    "        return self.balance\n",
    "    \n",
    "    def withdraw(self, money):\n",
    "        if money <= self.balance:\n",
    "            self.balance -= money\n",
    "            return self.balance\n",
    "        else:\n",
    "            return \"잔액부족\"\n",
    "    def display_info(self):\n",
    "        print(f'이름: {self.name}, 잔액: {self.balance}, 은행: {self.bank}')\n",
    "\n",
    "dee = Account(\"이민수\", 100)\n",
    "dee.deposit(10)\n",
    "dee.deposit(10)\n",
    "dee.deposit(10)\n",
    "dee.deposit(10)\n",
    "dee.deposit(10)\n",
    "dee.display_info()"
   ]
  },
  {
   "cell_type": "code",
   "execution_count": 3,
   "id": "6832ff0b",
   "metadata": {
    "ExecuteTime": {
     "end_time": "2023-12-05T06:35:06.003360Z",
     "start_time": "2023-12-05T06:35:05.996672Z"
    }
   },
   "outputs": [
    {
     "name": "stdout",
     "output_type": "stream",
     "text": [
      "[<__main__.Account object at 0x000001EE7CB31DD0>, <__main__.Account object at 0x000001EE7CB33B10>, <__main__.Account object at 0x000001EE7B7D0710>]\n"
     ]
    }
   ],
   "source": [
    "#278\n",
    "name_list = []\n",
    "k = Account(\"KIM\", 10000000)\n",
    "l = Account(\"LEE\", 10000)\n",
    "p = Account(\"PARK\", 10000)\n",
    "\n",
    "name_list.append(k)\n",
    "name_list.append(l)\n",
    "name_list.append(p)\n",
    "\n",
    "print(name_list)"
   ]
  },
  {
   "cell_type": "code",
   "execution_count": 92,
   "id": "5c1b5c4e",
   "metadata": {
    "ExecuteTime": {
     "end_time": "2023-12-05T10:29:10.920263Z",
     "start_time": "2023-12-05T10:29:10.906713Z"
    }
   },
   "outputs": [
    {
     "name": "stdout",
     "output_type": "stream",
     "text": [
      "이름: KIM, 잔액: 10000000, 은행: SC은행\n"
     ]
    }
   ],
   "source": [
    "#279\n",
    "import random\n",
    "class Account:\n",
    "    account_count_num = 0\n",
    "    def __init__(self, name, balance, deposit_num=0):\n",
    "        self.name = name\n",
    "        self.balance = balance\n",
    "        self.bank = \"SC은행\"\n",
    "        self.deposit_num = deposit_num\n",
    "        \n",
    "        ### 계좌번호 생성        \n",
    "        num1 = random.randint(0, 999)\n",
    "        num2 = random.randint(0, 99)\n",
    "        num3 = random.randint(0, 999999)\n",
    "        num1 = str(num1).zfill(3)\n",
    "        num2 = str(num2).zfill(2)\n",
    "        num3 = str(num3).zfill(6)\n",
    "        self.account = num1+'-'+num2+'-'+num3\n",
    "        Account.account_count_num += 1\n",
    "        \n",
    "    def get_account_num(self):\n",
    "        return self.account_count_num\n",
    "    \n",
    "    def deposit(self, money):\n",
    "        if money >= 1:\n",
    "            self.balance += money\n",
    "            self.deposit_num += 1\n",
    "            self.deposit_log.append(money)\n",
    "            if self.deposit_num%5==0:\n",
    "                self.balance *= 1.01\n",
    "        \n",
    "        return self.balance\n",
    "    \n",
    "    def withdraw(self, money):\n",
    "        if money <= self.balance:\n",
    "            self.balance -= money\n",
    "            self.withdraw_log.append(money)\n",
    "            return self.balance\n",
    "        else:\n",
    "            return \"잔액부족\"\n",
    "    def display_info(self):\n",
    "        print(f'이름: {self.name}, 잔액: {self.balance}, 은행: {self.bank}')\n",
    "\n",
    "name_list = []\n",
    "k = Account(\"KIM\", 10000000)\n",
    "l = Account(\"LEE\", 10000)\n",
    "p = Account(\"PARK\", 10000)\n",
    "\n",
    "name_list.append(k)\n",
    "name_list.append(l)\n",
    "name_list.append(p)\n",
    "\n",
    "for p_name in name_list:\n",
    "    if p_name.balance >= 1000000:\n",
    "        p_name.display_info()"
   ]
  },
  {
   "cell_type": "code",
   "execution_count": 11,
   "id": "c10c41ed",
   "metadata": {
    "ExecuteTime": {
     "end_time": "2023-12-05T07:03:39.101254Z",
     "start_time": "2023-12-05T07:03:39.088127Z"
    }
   },
   "outputs": [
    {
     "name": "stdout",
     "output_type": "stream",
     "text": [
      "[20]\n"
     ]
    }
   ],
   "source": [
    "#280\n",
    "import random\n",
    "class Account:\n",
    "    account_count_num = 0\n",
    "    def __init__(self, name, balance, deposit_num=0):\n",
    "        self.name = name\n",
    "        self.balance = balance\n",
    "        self.bank = \"SC은행\"\n",
    "        self.deposit_num = deposit_num\n",
    "        self.deposit_log = []\n",
    "        self.withdraw_log = []\n",
    "        \n",
    "        ### 계좌번호 생성        \n",
    "        num1 = random.randint(0, 999)\n",
    "        num2 = random.randint(0, 99)\n",
    "        num3 = random.randint(0, 999999)\n",
    "        num1 = str(num1).zfill(3)\n",
    "        num2 = str(num2).zfill(2)\n",
    "        num3 = str(num3).zfill(6)\n",
    "        self.account = num1+'-'+num2+'-'+num3\n",
    "        Account.account_count_num += 1\n",
    "        \n",
    "    def get_account_num(self):\n",
    "        return self.account_count_num\n",
    "    \n",
    "    def deposit(self, money):\n",
    "        if money >= 1:\n",
    "            self.balance += money\n",
    "            self.deposit_num += 1\n",
    "            self.deposit_log.append(money)\n",
    "            if self.deposit_num%5==0:\n",
    "                self.balance *= 1.01\n",
    "        \n",
    "        return self.balance\n",
    "    \n",
    "    def withdraw(self, money):\n",
    "        if money <= self.balance:\n",
    "            self.balance -= money\n",
    "            self.withdraw_log.append(money)\n",
    "            return self.balance\n",
    "        else:\n",
    "            return \"잔액부족\"\n",
    "    def display_info(self):\n",
    "        print(f'이름: {self.name}, 잔액: {self.balance}, 은행: {self.bank}')\n",
    "        \n",
    "    def deposit_history(self):\n",
    "        print(self.deposit_log) \n",
    "    def withdraw_history(self):\n",
    "        print(self.withdraw_log) \n",
    "        \n",
    "k = Account(\"KIM\", 10000000)\n",
    "k.deposit(10)\n",
    "k.withdraw(20)\n",
    "k.withdraw_history()"
   ]
  },
  {
   "cell_type": "code",
   "execution_count": 12,
   "id": "5e6c3538",
   "metadata": {
    "ExecuteTime": {
     "end_time": "2023-12-05T07:07:16.024241Z",
     "start_time": "2023-12-05T07:07:16.019283Z"
    }
   },
   "outputs": [
    {
     "name": "stdout",
     "output_type": "stream",
     "text": [
      "2 1000\n"
     ]
    }
   ],
   "source": [
    "#281\n",
    "class 차:\n",
    "    def __init__(self, 바퀴, 가격):\n",
    "        self.바퀴 = 바퀴\n",
    "        self.가격 = 가격\n",
    "car = 차(2,1000)\n",
    "print(car.바퀴, car.가격)"
   ]
  },
  {
   "cell_type": "code",
   "execution_count": 17,
   "id": "ac8e9faa",
   "metadata": {
    "ExecuteTime": {
     "end_time": "2023-12-05T07:10:12.940029Z",
     "start_time": "2023-12-05T07:10:12.933542Z"
    }
   },
   "outputs": [],
   "source": [
    "#282\n",
    "class 차:\n",
    "    def __init__(self, 바퀴, 가격):\n",
    "        self.바퀴 = 바퀴\n",
    "        self.가격 = 가격\n",
    "        \n",
    "class 자전차(차):\n",
    "    pass"
   ]
  },
  {
   "cell_type": "code",
   "execution_count": 28,
   "id": "1a47944f",
   "metadata": {
    "ExecuteTime": {
     "end_time": "2023-12-05T09:01:37.705150Z",
     "start_time": "2023-12-05T09:01:37.696058Z"
    }
   },
   "outputs": [
    {
     "data": {
      "text/plain": [
       "100"
      ]
     },
     "execution_count": 28,
     "metadata": {},
     "output_type": "execute_result"
    }
   ],
   "source": [
    "#283\n",
    "class 차:\n",
    "    def __init__(self, 바퀴, 가격):\n",
    "        self.바퀴 = 바퀴\n",
    "        self.가격 = 가격\n",
    "\n",
    "class 자전차(차):\n",
    "    def __init__(self, 바퀴, 가격):\n",
    "        super().__init__(바퀴, 가격)\n",
    "\n",
    "\n",
    "bicycle = 자전차(2, 100)\n",
    "bicycle.가격"
   ]
  },
  {
   "cell_type": "code",
   "execution_count": 29,
   "id": "2acaee02",
   "metadata": {
    "ExecuteTime": {
     "end_time": "2023-12-05T09:01:53.105827Z",
     "start_time": "2023-12-05T09:01:53.096252Z"
    }
   },
   "outputs": [
    {
     "data": {
      "text/plain": [
       "'시마노'"
      ]
     },
     "execution_count": 29,
     "metadata": {},
     "output_type": "execute_result"
    }
   ],
   "source": [
    "#284\n",
    "class 차:\n",
    "    def __init__(self, 바퀴, 가격):\n",
    "        self.바퀴 = 바퀴\n",
    "        self.가격 = 가격\n",
    "\n",
    "class 자전차(차):\n",
    "    def __init__(self, 바퀴, 가격, 구동계):\n",
    "        super().__init__(바퀴, 가격)\n",
    "        self.구동계 = 구동계\n",
    "\n",
    "bicycle = 자전차(2, 100, \"시마노\")\n",
    "bicycle.구동계"
   ]
  },
  {
   "cell_type": "code",
   "execution_count": 39,
   "id": "54a7b2de",
   "metadata": {
    "ExecuteTime": {
     "end_time": "2023-12-05T09:07:37.585635Z",
     "start_time": "2023-12-05T09:07:37.578224Z"
    }
   },
   "outputs": [
    {
     "name": "stdout",
     "output_type": "stream",
     "text": [
      "바퀴수 4 \n",
      "가격 1000\n"
     ]
    }
   ],
   "source": [
    "#285\n",
    "class 차:\n",
    "    def __init__(self, 바퀴, 가격):\n",
    "        self.바퀴 = 바퀴\n",
    "        self.가격 = 가격\n",
    "\n",
    "class 자동차(차):\n",
    "    def __init__(self, 바퀴, 가격):\n",
    "        super().__init__(바퀴, 가격)\n",
    "        \n",
    "    def 정보(self):\n",
    "        print(f\"바퀴수 {self.바퀴} \\n가격 {self.가격}\")\n",
    "              \n",
    "car = 자동차(4, 1000)\n",
    "car.정보()"
   ]
  },
  {
   "cell_type": "code",
   "execution_count": 48,
   "id": "6c50a4b6",
   "metadata": {
    "ExecuteTime": {
     "end_time": "2023-12-05T09:22:54.884223Z",
     "start_time": "2023-12-05T09:22:54.876236Z"
    }
   },
   "outputs": [
    {
     "name": "stdout",
     "output_type": "stream",
     "text": [
      "바퀴수 2 \n",
      "가격 100\n"
     ]
    }
   ],
   "source": [
    "#286\n",
    "class 차:\n",
    "    def __init__(self, 바퀴, 가격):\n",
    "        self.바퀴 = 바퀴\n",
    "        self.가격 = 가격\n",
    "    \n",
    "    def 정보(self):\n",
    "        print(f\"바퀴수 {self.바퀴} \\n가격 {self.가격}\")\n",
    "\n",
    "class 자전차(차):\n",
    "    def __init__(self, 바퀴, 가격, 구동계):\n",
    "        super().__init__(바퀴, 가격)\n",
    "        self.구동계 = 구동계\n",
    "    \n",
    "    def 정보(self):\n",
    "        super().정보()\n",
    "        \n",
    "\n",
    "bicycle = 자전차(2, 100, \"시마노\")\n",
    "bicycle.정보()"
   ]
  },
  {
   "cell_type": "code",
   "execution_count": 47,
   "id": "87293b11",
   "metadata": {
    "ExecuteTime": {
     "end_time": "2023-12-05T09:22:25.080061Z",
     "start_time": "2023-12-05T09:22:25.073082Z"
    }
   },
   "outputs": [
    {
     "name": "stdout",
     "output_type": "stream",
     "text": [
      "바퀴수 2 \n",
      "가격 100\n",
      "구동계 시마노\n"
     ]
    }
   ],
   "source": [
    "#287\n",
    "class 차:\n",
    "    def __init__(self, 바퀴, 가격):\n",
    "        self.바퀴 = 바퀴\n",
    "        self.가격 = 가격\n",
    "    \n",
    "    def 정보(self):\n",
    "        print(f\"바퀴수 {self.바퀴} \\n가격 {self.가격}\")\n",
    "\n",
    "class 자전차(차):\n",
    "    def __init__(self, 바퀴, 가격, 구동계):\n",
    "        super().__init__(바퀴, 가격)\n",
    "        self.구동계 = 구동계\n",
    "    \n",
    "    def 정보(self):\n",
    "        super().정보()\n",
    "        print(f'구동계 {self.구동계}')\n",
    "        \n",
    "\n",
    "bicycle = 자전차(2, 100, \"시마노\")\n",
    "bicycle.정보()"
   ]
  },
  {
   "cell_type": "code",
   "execution_count": null,
   "id": "20682394",
   "metadata": {
    "ExecuteTime": {
     "end_time": "2023-12-05T09:24:13.422219Z",
     "start_time": "2023-12-05T09:24:13.416262Z"
    }
   },
   "outputs": [],
   "source": [
    "#288\n",
    "class 부모:\n",
    "  def 호출(self):\n",
    "    print(\"부모호출\")\n",
    "\n",
    "class 자식(부모):\n",
    "  def 호출(self):\n",
    "    print(\"자식호출\")\n",
    "\n",
    "나 = 자식()\n",
    "나.호출()\n",
    "# 자식호출"
   ]
  },
  {
   "cell_type": "code",
   "execution_count": null,
   "id": "ae96423e",
   "metadata": {},
   "outputs": [],
   "source": [
    "#289\n",
    "class 부모:\n",
    "  def __init__(self):\n",
    "    print(\"부모생성\")\n",
    "\n",
    "class 자식(부모):\n",
    "  def __init__(self):\n",
    "    print(\"자식생성\")\n",
    "\n",
    "나 = 자식()\n",
    "# 자식생성"
   ]
  },
  {
   "cell_type": "code",
   "execution_count": null,
   "id": "64d3d86d",
   "metadata": {},
   "outputs": [],
   "source": [
    "#290\n",
    "class 부모:\n",
    "  def __init__(self):\n",
    "    print(\"부모생성\")\n",
    "\n",
    "class 자식(부모):\n",
    "  def __init__(self):\n",
    "    print(\"자식생성\")\n",
    "    super().__init__()\n",
    "\n",
    "나 = 자식()\n",
    "# 자식생성, 부모생성"
   ]
  },
  {
   "cell_type": "code",
   "execution_count": 53,
   "id": "c8a12d12",
   "metadata": {
    "ExecuteTime": {
     "end_time": "2023-12-05T09:32:15.898873Z",
     "start_time": "2023-12-05T09:32:15.889315Z"
    }
   },
   "outputs": [
    {
     "data": {
      "text/plain": [
       "['매수종목1.txt']"
      ]
     },
     "execution_count": 53,
     "metadata": {},
     "output_type": "execute_result"
    }
   ],
   "source": [
    "#291\n",
    "import os\n",
    "f = open('C:/Users/white/Desktop/temp/매수종목1.txt','w')\n",
    "f.write(\"005930\\n005380\\n035420\")\n",
    "f.close()\n",
    "\n",
    "os.listdir('C:/Users/white/Desktop/temp')\n"
   ]
  },
  {
   "cell_type": "code",
   "execution_count": 59,
   "id": "cf2c2e57",
   "metadata": {
    "ExecuteTime": {
     "end_time": "2023-12-05T09:39:27.498615Z",
     "start_time": "2023-12-05T09:39:27.488882Z"
    }
   },
   "outputs": [
    {
     "name": "stdout",
     "output_type": "stream",
     "text": [
      "005930 삼성전자\n",
      "005380 현대차\n",
      "035420 NAVER\n"
     ]
    }
   ],
   "source": [
    "#292\n",
    "f = open('C:/Users/white/Desktop/temp/매수종목2.txt','w')\n",
    "f.write(\"005930 삼성전자\\n005380 현대차\\n035420 NAVER\")\n",
    "f.close()\n",
    "\n",
    "with open('C:/Users/white/Desktop/temp/매수종목2.txt', \"r\") as f:\n",
    "    file_line = f.read()\n",
    "\n",
    "print(file_line)"
   ]
  },
  {
   "cell_type": "code",
   "execution_count": 60,
   "id": "86c731de",
   "metadata": {
    "ExecuteTime": {
     "end_time": "2023-12-05T09:51:38.604063Z",
     "start_time": "2023-12-05T09:51:38.597360Z"
    }
   },
   "outputs": [],
   "source": [
    "#293\n",
    "#탕화면에 '매수종목.csv' 파일을 생성한 후 다음과 같이 종목코드와 종목명을 파일에 써보세요. 인코딩은 'cp949'를 사용해야합니다.\n",
    "with open('C:/Users/white/Desktop/temp/매수종목.csv', \"w\", encoding='cp949') as f:\n",
    "    f.write(\"종목명,종목코드,PER\\n삼성전자,005930,15.79\\nNAVER,035420,55.82\")"
   ]
  },
  {
   "cell_type": "code",
   "execution_count": 61,
   "id": "dc54c985",
   "metadata": {
    "ExecuteTime": {
     "end_time": "2023-12-05T09:53:47.685465Z",
     "start_time": "2023-12-05T09:53:47.678932Z"
    }
   },
   "outputs": [
    {
     "name": "stdout",
     "output_type": "stream",
     "text": [
      "['005930\\n', '005380\\n', '035420']\n"
     ]
    }
   ],
   "source": [
    "#294\n",
    "#바탕화면에 생성한 '매수종목1.txt' 파일을 읽은 후 종목코드를 리스트에 저장해보세요.\n",
    "with open('C:/Users/white/Desktop/temp/매수종목1.txt', \"r\") as f:\n",
    "    f_list = f.readlines()\n",
    "print(f_list)"
   ]
  },
  {
   "cell_type": "code",
   "execution_count": 66,
   "id": "9cddb21f",
   "metadata": {
    "ExecuteTime": {
     "end_time": "2023-12-05T10:01:35.848741Z",
     "start_time": "2023-12-05T10:01:35.842563Z"
    }
   },
   "outputs": [
    {
     "name": "stdout",
     "output_type": "stream",
     "text": [
      "{'005930': '삼성전자', '005380': '현대차', '035420': 'NAVER'}\n"
     ]
    }
   ],
   "source": [
    "#295\n",
    "stock_dic={}\n",
    "with open('C:/Users/white/Desktop/temp/매수종목2.txt', \"r\") as f:\n",
    "    lines = f.readlines()\n",
    "    for line in lines:\n",
    "        k, v = line.split()\n",
    "        stock_dic[k]=v\n",
    "print(stock_dic)"
   ]
  },
  {
   "cell_type": "code",
   "execution_count": 68,
   "id": "998708a4",
   "metadata": {
    "ExecuteTime": {
     "end_time": "2023-12-05T10:03:04.175305Z",
     "start_time": "2023-12-05T10:03:04.169091Z"
    }
   },
   "outputs": [
    {
     "name": "stdout",
     "output_type": "stream",
     "text": [
      "10.31\n",
      "0\n",
      "8.0\n"
     ]
    }
   ],
   "source": [
    "#296\n",
    "per = [\"10.31\", \"\", \"8.00\"]\n",
    "\n",
    "for i in per:\n",
    "    try:\n",
    "        print(float(i))\n",
    "    except:\n",
    "        print(0)"
   ]
  },
  {
   "cell_type": "code",
   "execution_count": 71,
   "id": "c1007604",
   "metadata": {
    "ExecuteTime": {
     "end_time": "2023-12-05T10:04:45.010781Z",
     "start_time": "2023-12-05T10:04:45.004754Z"
    }
   },
   "outputs": [
    {
     "name": "stdout",
     "output_type": "stream",
     "text": [
      "[10.31, 0, 8.0]\n"
     ]
    }
   ],
   "source": [
    "#297\n",
    "per = [\"10.31\", \"\", \"8.00\"]\n",
    "real_per = []\n",
    "\n",
    "for i in per:\n",
    "    try:\n",
    "        real_per.append(float(i))\n",
    "    except:\n",
    "        real_per.append(0)\n",
    "print(real_per)"
   ]
  },
  {
   "cell_type": "code",
   "execution_count": 78,
   "id": "d6ff48f6",
   "metadata": {
    "ExecuteTime": {
     "end_time": "2023-12-05T10:10:08.821536Z",
     "start_time": "2023-12-05T10:10:08.815348Z"
    }
   },
   "outputs": [
    {
     "name": "stdout",
     "output_type": "stream",
     "text": [
      "division by zero\n"
     ]
    }
   ],
   "source": [
    "#298\n",
    "per = [\"10.31\", \"0\", \"8.00\"]\n",
    "base = [1,0,3]\n",
    "\n",
    "for i in range(len(per)):\n",
    "    try:\n",
    "       float(per[i]) / base[i]\n",
    "    except ZeroDivisionError as e:\n",
    "        print(\"division by zero\")"
   ]
  },
  {
   "cell_type": "code",
   "execution_count": 81,
   "id": "bbd747a0",
   "metadata": {
    "ExecuteTime": {
     "end_time": "2023-12-05T10:12:02.263047Z",
     "start_time": "2023-12-05T10:12:02.256925Z"
    }
   },
   "outputs": [
    {
     "name": "stdout",
     "output_type": "stream",
     "text": [
      "1\n",
      "2\n",
      "3\n",
      "list index out of range\n",
      "list index out of range\n"
     ]
    }
   ],
   "source": [
    "#299\n",
    "data = [1, 2, 3]\n",
    "\n",
    "for i in range(5):\n",
    "    try:\n",
    "        print(data[i])\n",
    "    except IndexError as e:\n",
    "        print(e)"
   ]
  },
  {
   "cell_type": "code",
   "execution_count": 91,
   "id": "4e1f88b7",
   "metadata": {
    "ExecuteTime": {
     "end_time": "2023-12-05T10:25:55.834838Z",
     "start_time": "2023-12-05T10:25:55.830233Z"
    }
   },
   "outputs": [
    {
     "name": "stdout",
     "output_type": "stream",
     "text": [
      "10.31\n",
      "Other Error!\n",
      "Good Job\n",
      "Value error!\n",
      "Good Job\n",
      "8.0\n",
      "Other Error!\n",
      "Good Job\n"
     ]
    }
   ],
   "source": [
    "#300\n",
    "per = [\"10.31\", \"\", \"8.00\"]\n",
    "\n",
    "for i in per:\n",
    "    try:\n",
    "        print(float(i))\n",
    "    except ValueError:\n",
    "        print(\"Value error!\")\n",
    "    else:\n",
    "        print(\"Other Error!\")\n",
    "    finally:\n",
    "        print(\"Good Job\")"
   ]
  }
 ],
 "metadata": {
  "kernelspec": {
   "display_name": "Python 3 (ipykernel)",
   "language": "python",
   "name": "python3"
  },
  "language_info": {
   "codemirror_mode": {
    "name": "ipython",
    "version": 3
   },
   "file_extension": ".py",
   "mimetype": "text/x-python",
   "name": "python",
   "nbconvert_exporter": "python",
   "pygments_lexer": "ipython3",
   "version": "3.11.5"
  },
  "toc": {
   "base_numbering": 1,
   "nav_menu": {},
   "number_sections": true,
   "sideBar": true,
   "skip_h1_title": false,
   "title_cell": "Table of Contents",
   "title_sidebar": "Contents",
   "toc_cell": false,
   "toc_position": {},
   "toc_section_display": true,
   "toc_window_display": false
  },
  "varInspector": {
   "cols": {
    "lenName": 16,
    "lenType": 16,
    "lenVar": 40
   },
   "kernels_config": {
    "python": {
     "delete_cmd_postfix": "",
     "delete_cmd_prefix": "del ",
     "library": "var_list.py",
     "varRefreshCmd": "print(var_dic_list())"
    },
    "r": {
     "delete_cmd_postfix": ") ",
     "delete_cmd_prefix": "rm(",
     "library": "var_list.r",
     "varRefreshCmd": "cat(var_dic_list()) "
    }
   },
   "types_to_exclude": [
    "module",
    "function",
    "builtin_function_or_method",
    "instance",
    "_Feature"
   ],
   "window_display": false
  }
 },
 "nbformat": 4,
 "nbformat_minor": 5
}
