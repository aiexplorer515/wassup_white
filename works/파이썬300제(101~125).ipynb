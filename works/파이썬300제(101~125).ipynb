{
 "cells": [
  {
   "cell_type": "code",
   "execution_count": null,
   "id": "8db2474e",
   "metadata": {},
   "outputs": [],
   "source": [
    "#101\n",
    "bool"
   ]
  },
  {
   "cell_type": "code",
   "execution_count": 42,
   "id": "830f98e2",
   "metadata": {},
   "outputs": [
    {
     "name": "stdout",
     "output_type": "stream",
     "text": [
      "False\n"
     ]
    }
   ],
   "source": [
    "#102\n",
    "print(3 == 5)\n",
    "#false"
   ]
  },
  {
   "cell_type": "code",
   "execution_count": 43,
   "id": "9095a3a5",
   "metadata": {},
   "outputs": [
    {
     "name": "stdout",
     "output_type": "stream",
     "text": [
      "True\n"
     ]
    }
   ],
   "source": [
    "#103\n",
    "print(3 < 5)\n",
    "# true"
   ]
  },
  {
   "cell_type": "code",
   "execution_count": 44,
   "id": "a53e1a5e",
   "metadata": {},
   "outputs": [
    {
     "name": "stdout",
     "output_type": "stream",
     "text": [
      "True\n"
     ]
    }
   ],
   "source": [
    "#104\n",
    "x = 4\n",
    "print(1 < x < 5)\n",
    "# true"
   ]
  },
  {
   "cell_type": "code",
   "execution_count": 45,
   "id": "0f5b30b7",
   "metadata": {},
   "outputs": [
    {
     "name": "stdout",
     "output_type": "stream",
     "text": [
      "True\n"
     ]
    }
   ],
   "source": [
    "#105\n",
    "print ((3 == 3) and (4 != 3))\n",
    "# true"
   ]
  },
  {
   "cell_type": "code",
   "execution_count": 48,
   "id": "78ac8b50",
   "metadata": {},
   "outputs": [
    {
     "ename": "SyntaxError",
     "evalue": "expression cannot contain assignment, perhaps you meant \"==\"? (1751026683.py, line 2)",
     "output_type": "error",
     "traceback": [
      "\u001b[1;36m  Cell \u001b[1;32mIn[48], line 2\u001b[1;36m\u001b[0m\n\u001b[1;33m    print(3 => 4)\u001b[0m\n\u001b[1;37m          ^\u001b[0m\n\u001b[1;31mSyntaxError\u001b[0m\u001b[1;31m:\u001b[0m expression cannot contain assignment, perhaps you meant \"==\"?\n"
     ]
    }
   ],
   "source": [
    "#106\n",
    "print(3 => 4)\n",
    "# print(3 >= 4)"
   ]
  },
  {
   "cell_type": "code",
   "execution_count": 49,
   "id": "b5952f6b",
   "metadata": {},
   "outputs": [],
   "source": [
    "#107\n",
    "if 4 < 3:\n",
    "    print(\"Hello World\")\n",
    "# none"
   ]
  },
  {
   "cell_type": "code",
   "execution_count": 50,
   "id": "6ae0772b",
   "metadata": {},
   "outputs": [
    {
     "name": "stdout",
     "output_type": "stream",
     "text": [
      "Hi, there.\n"
     ]
    }
   ],
   "source": [
    "#108\n",
    "if 4 < 3:\n",
    "    print(\"Hello World.\")\n",
    "else:\n",
    "    print(\"Hi, there.\")\n",
    "# Hi there"
   ]
  },
  {
   "cell_type": "code",
   "execution_count": 51,
   "id": "5bd5f7a8",
   "metadata": {},
   "outputs": [
    {
     "name": "stdout",
     "output_type": "stream",
     "text": [
      "1\n",
      "2\n",
      "4\n"
     ]
    }
   ],
   "source": [
    "#109\n",
    "if True :\n",
    "    print (\"1\")\n",
    "    print (\"2\")\n",
    "else :\n",
    "    print(\"3\")\n",
    "print(\"4\")\n",
    "# 1,2,4"
   ]
  },
  {
   "cell_type": "code",
   "execution_count": 52,
   "id": "43287ca4",
   "metadata": {},
   "outputs": [
    {
     "name": "stdout",
     "output_type": "stream",
     "text": [
      "3\n",
      "5\n"
     ]
    }
   ],
   "source": [
    "#110\n",
    "if True :\n",
    "    if False:\n",
    "        print(\"1\")\n",
    "        print(\"2\")\n",
    "    else:\n",
    "        print(\"3\")\n",
    "else :\n",
    "    print(\"4\")\n",
    "print(\"5\")\n",
    "# 3,5"
   ]
  },
  {
   "cell_type": "code",
   "execution_count": 54,
   "id": "76c84344",
   "metadata": {},
   "outputs": [
    {
     "name": "stdout",
     "output_type": "stream",
     "text": [
      "안녕하세요\n",
      "안녕하세요안녕하세요\n"
     ]
    }
   ],
   "source": [
    "#111\n",
    "s = input()\n",
    "print(s*2)"
   ]
  },
  {
   "cell_type": "code",
   "execution_count": 58,
   "id": "fdc52ba6",
   "metadata": {},
   "outputs": [
    {
     "name": "stdout",
     "output_type": "stream",
     "text": [
      "숫자를 입력하세요: 20\n",
      "30\n"
     ]
    }
   ],
   "source": [
    "#112\n",
    "# 숫자를 입력하세요: 30\n",
    "d = input('숫자를 입력하세요: ')\n",
    "print(int(d)+10)"
   ]
  },
  {
   "cell_type": "code",
   "execution_count": 60,
   "id": "2d800e05",
   "metadata": {},
   "outputs": [
    {
     "name": "stdout",
     "output_type": "stream",
     "text": [
      "숫자를 입력하세요: 3\n",
      "홀수\n"
     ]
    }
   ],
   "source": [
    "#113\n",
    "d = input('숫자를 입력하세요: ')\n",
    "if int(d)%2==0:\n",
    "    print('짝수')\n",
    "else:\n",
    "    print('홀수')"
   ]
  },
  {
   "cell_type": "code",
   "execution_count": 65,
   "id": "bc555778",
   "metadata": {},
   "outputs": [
    {
     "name": "stdout",
     "output_type": "stream",
     "text": [
      "숫자를 입력하세요: 236\n",
      "20더한값: 256\n",
      "255\n"
     ]
    }
   ],
   "source": [
    "#114\n",
    "d = int(input('숫자를 입력하세요: '))\n",
    "user_value = d+20\n",
    "print(\"20더한값:\", user_value)\n",
    "\n",
    "if user_value > 255:\n",
    "    print(255)\n",
    "else:\n",
    "    print(d)"
   ]
  },
  {
   "cell_type": "code",
   "execution_count": 73,
   "id": "73d25f5b",
   "metadata": {},
   "outputs": [
    {
     "name": "stdout",
     "output_type": "stream",
     "text": [
      "숫자를 입력하세요: -20\n",
      "20더한값: -40\n",
      "0\n"
     ]
    }
   ],
   "source": [
    "#115\n",
    "d = input('숫자를 입력하세요: ')\n",
    "user_value = int(d)-20\n",
    "print(\"20더한값:\", user_value)\n",
    "\n",
    "if user_value > 255:\n",
    "    print(255)\n",
    "elif user_value <0:\n",
    "    print(0)\n",
    "else:\n",
    "    print(user_value)"
   ]
  },
  {
   "cell_type": "code",
   "execution_count": 78,
   "id": "eed3c621",
   "metadata": {},
   "outputs": [
    {
     "name": "stdout",
     "output_type": "stream",
     "text": [
      "현재 시간: 23:00\n",
      "정각입니다.\n"
     ]
    }
   ],
   "source": [
    "#116\n",
    "d = input('현재 시간: ')\n",
    "d = d.split(':')\n",
    "if d[-1]==\"00\":\n",
    "    print(\"정각입니다.\")\n",
    "else:\n",
    "    print(\"정각이 아닙니다.\")"
   ]
  },
  {
   "cell_type": "code",
   "execution_count": 80,
   "id": "f6a915fb",
   "metadata": {},
   "outputs": [
    {
     "name": "stdout",
     "output_type": "stream",
     "text": [
      "귤\n",
      "오답입니다 \n"
     ]
    }
   ],
   "source": [
    "#117\n",
    "fruit = [\"사과\", \"포도\", \"홍시\"]\n",
    "s = input()\n",
    "if s in fruit:\n",
    "    print(\"정답입니다\")\n",
    "else:\n",
    "    print(\"오답입니다 \")"
   ]
  },
  {
   "cell_type": "code",
   "execution_count": 81,
   "id": "9753474a",
   "metadata": {},
   "outputs": [
    {
     "name": "stdout",
     "output_type": "stream",
     "text": [
      "Microsoft\n",
      "투자경고 종목입니다\n"
     ]
    }
   ],
   "source": [
    "#118\n",
    "warn_investment_list = [\"Microsoft\", \"Google\", \"Naver\", \"Kakao\", \"SAMSUNG\", \"LG\"]\n",
    "s = input()\n",
    "\n",
    "if s in warn_investment_list:\n",
    "    print(\"투자경고 종목입니다\")\n",
    "else:\n",
    "    print(\"투자 경고 종목이 아닙니다 \")\n",
    "    "
   ]
  },
  {
   "cell_type": "code",
   "execution_count": 82,
   "id": "c9d573ee",
   "metadata": {},
   "outputs": [
    {
     "name": "stdout",
     "output_type": "stream",
     "text": [
      "봄\n",
      "정답입니다\n"
     ]
    }
   ],
   "source": [
    "#119\n",
    "fruit = {\"봄\" : \"딸기\", \"여름\" : \"토마토\", \"가을\" : \"사과\"}\n",
    "s = input()\n",
    "\n",
    "if s in fruit.keys():\n",
    "    print(\"정답입니다\")\n",
    "else:\n",
    "    print(\"오답입니다\")"
   ]
  },
  {
   "cell_type": "code",
   "execution_count": 88,
   "id": "013d8b6c",
   "metadata": {},
   "outputs": [
    {
     "name": "stdout",
     "output_type": "stream",
     "text": [
      "딸기\n",
      "정답입니다.\n"
     ]
    }
   ],
   "source": [
    "#120\n",
    "fruit = {\"봄\" : \"딸기\", \"여름\" : \"토마토\", \"가을\" : \"사과\"}\n",
    "s = input()\n",
    "if s in fruit.values():\n",
    "    print(\"정답입니다.\")\n",
    "else:\n",
    "    print(\"오답입니다.\")"
   ]
  },
  {
   "cell_type": "code",
   "execution_count": 91,
   "id": "0345098f",
   "metadata": {},
   "outputs": [
    {
     "name": "stdout",
     "output_type": "stream",
     "text": [
      "fk\n",
      "F\n"
     ]
    }
   ],
   "source": [
    "#121\n",
    "s = input()\n",
    "\n",
    "if s[0].islower():\n",
    "    print(s[0].upper())\n",
    "else:\n",
    "    print(s[0].lower())"
   ]
  },
  {
   "cell_type": "code",
   "execution_count": 92,
   "id": "9590f20c",
   "metadata": {},
   "outputs": [
    {
     "name": "stdout",
     "output_type": "stream",
     "text": [
      "43\n",
      "C\n"
     ]
    }
   ],
   "source": [
    "#122\n",
    "score = int(input())\n",
    "\n",
    "if score > 80:\n",
    "    print('A')\n",
    "elif score > 60:\n",
    "    print('B')\n",
    "elif score > 40:\n",
    "    print('C')\n",
    "elif score > 20:\n",
    "    print('D')\n",
    "else:\n",
    "    print('E')"
   ]
  },
  {
   "cell_type": "code",
   "execution_count": 99,
   "id": "530093f9",
   "metadata": {},
   "outputs": [
    {
     "name": "stdout",
     "output_type": "stream",
     "text": [
      "200 위안\n",
      "34200 원\n"
     ]
    }
   ],
   "source": [
    "#123\n",
    "환율 = {\"달러\": 1167, \n",
    "        \"엔\": 1.096, \n",
    "        \"유로\": 1268, \n",
    "        \"위안\": 171}\n",
    "money, currency = input().split()\n",
    "print(int(money)*환율[currency],\"원\")"
   ]
  },
  {
   "cell_type": "code",
   "execution_count": 108,
   "id": "ba42fd77",
   "metadata": {},
   "outputs": [
    {
     "name": "stdout",
     "output_type": "stream",
     "text": [
      "2\n",
      "3\n",
      "4\n"
     ]
    },
    {
     "data": {
      "text/plain": [
       "'4'"
      ]
     },
     "execution_count": 108,
     "metadata": {},
     "output_type": "execute_result"
    }
   ],
   "source": [
    "#124\n",
    "s = []\n",
    "for i in range(3):\n",
    "    t = input()\n",
    "    s.append(t)\n",
    "\n",
    "max(s)"
   ]
  },
  {
   "cell_type": "code",
   "execution_count": 112,
   "id": "2a9ae56b",
   "metadata": {},
   "outputs": [
    {
     "name": "stdout",
     "output_type": "stream",
     "text": [
      "010-2345-2345\n",
      "당신은 알수없음사용자입니다\n"
     ]
    }
   ],
   "source": [
    "#125\n",
    "comm = {'011':\"SKT\", '016':'KT','019':'LGU','010':'알수없음'}\n",
    "\n",
    "tel = input()\n",
    "print(f\"당신은 {comm[tel[:3]]}사용자입니다\")"
   ]
  },
  {
   "cell_type": "code",
   "execution_count": null,
   "id": "cd7b8e43",
   "metadata": {},
   "outputs": [],
   "source": [
    "#126\n"
   ]
  },
  {
   "cell_type": "code",
   "execution_count": null,
   "id": "7473c412",
   "metadata": {},
   "outputs": [],
   "source": [
    "#127"
   ]
  },
  {
   "cell_type": "code",
   "execution_count": null,
   "id": "6d1cdff4",
   "metadata": {},
   "outputs": [],
   "source": [
    "#128"
   ]
  },
  {
   "cell_type": "code",
   "execution_count": null,
   "id": "1e230b4e",
   "metadata": {},
   "outputs": [],
   "source": [
    "#129"
   ]
  },
  {
   "cell_type": "code",
   "execution_count": null,
   "id": "d04e1f72",
   "metadata": {},
   "outputs": [],
   "source": []
  },
  {
   "cell_type": "code",
   "execution_count": null,
   "id": "be52485e",
   "metadata": {},
   "outputs": [],
   "source": []
  },
  {
   "cell_type": "code",
   "execution_count": null,
   "id": "d6d013ed",
   "metadata": {},
   "outputs": [],
   "source": []
  }
 ],
 "metadata": {
  "kernelspec": {
   "display_name": "Python 3 (ipykernel)",
   "language": "python",
   "name": "python3"
  },
  "language_info": {
   "codemirror_mode": {
    "name": "ipython",
    "version": 3
   },
   "file_extension": ".py",
   "mimetype": "text/x-python",
   "name": "python",
   "nbconvert_exporter": "python",
   "pygments_lexer": "ipython3",
   "version": "3.11.5"
  },
  "toc": {
   "base_numbering": 1,
   "nav_menu": {},
   "number_sections": true,
   "sideBar": true,
   "skip_h1_title": false,
   "title_cell": "Table of Contents",
   "title_sidebar": "Contents",
   "toc_cell": false,
   "toc_position": {},
   "toc_section_display": true,
   "toc_window_display": false
  },
  "varInspector": {
   "cols": {
    "lenName": 16,
    "lenType": 16,
    "lenVar": 40
   },
   "kernels_config": {
    "python": {
     "delete_cmd_postfix": "",
     "delete_cmd_prefix": "del ",
     "library": "var_list.py",
     "varRefreshCmd": "print(var_dic_list())"
    },
    "r": {
     "delete_cmd_postfix": ") ",
     "delete_cmd_prefix": "rm(",
     "library": "var_list.r",
     "varRefreshCmd": "cat(var_dic_list()) "
    }
   },
   "types_to_exclude": [
    "module",
    "function",
    "builtin_function_or_method",
    "instance",
    "_Feature"
   ],
   "window_display": false
  }
 },
 "nbformat": 4,
 "nbformat_minor": 5
}
